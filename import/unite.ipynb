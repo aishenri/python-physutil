{
 "cells": [
  {
   "cell_type": "markdown",
   "metadata": {},
   "source": [
    "Note du 10 décembre : Je viens de comprendre ce que les scientifiques appellent champs (fields) : C'est l'intervalle ! Quand aux vecteurs ce sont les points limites des aires ou des longueurs (-1 0 1), les notes ou particules, le comma (coma) qui rompt la fermeture du cercle (son rayon), si un cercle n'a pas de rayon, il n'existe pas r=0 dans ce cas là seule la constante existe $\\pi$. $r=\\frac{\\alpha}{\\omega}$ la borne supèrieure existe\n",
    "\n",
    "Autrefois les savants étaient très sensibles à la musique, Harmonie du monde ... etc."
   ]
  },
  {
   "cell_type": "markdown",
   "metadata": {},
   "source": [
    "###### Calcul constantes cosmologiques\n",
    "\n",
    "Célérité : $c$ dans le vide $c=\\frac{1}{\\sqrt\\mu\\epsilon} = 299792458 m/s$"
   ]
  },
  {
   "cell_type": "code",
   "execution_count": 1,
   "metadata": {
    "scrolled": true
   },
   "outputs": [
    {
     "data": {
      "text/html": [
       "<html><script type=\"math/tex; mode=display\">\\newcommand{\\Bold}[1]{\\mathbf{#1}}Vitesse \\ de \\ la \\ lumière : </script></html>"
      ],
      "text/latex": [
       "$$\\newcommand{\\Bold}[1]{\\mathbf{#1}}Vitesse \\ de \\ la \\ lumière : $$"
      ],
      "text/plain": [
       "Vitesse \\ de \\ la \\ lumière : "
      ]
     },
     "metadata": {},
     "output_type": "display_data"
    },
    {
     "data": {
      "text/html": [
       "<html><script type=\"math/tex; mode=display\">\\newcommand{\\Bold}[1]{\\mathbf{#1}}c=\\frac{1}{\\sqrt \\mu \\epsilon}= 299792458 \\verb| |\\verb|m/s|</script></html>"
      ],
      "text/latex": [
       "$$\\newcommand{\\Bold}[1]{\\mathbf{#1}}c=\\frac{1}{\\sqrt \\mu \\epsilon}= 299792458 \\verb| |\\verb|m/s|$$"
      ],
      "text/plain": [
       "c=\\frac{1}{\\sqrt \\mu \\epsilon}= 299792458 ' m/s'"
      ]
     },
     "metadata": {},
     "output_type": "display_data"
    }
   ],
   "source": [
    "%display latex \n",
    "c=299792458;mu=n(pi)*4E-7;ep=1/(mu*c^2)\n",
    "c=1/sqrt(mu*ep)\n",
    "show(LatexExpr(r\"Vitesse \\ de \\ la \\ lumière : \") )\n",
    "show(LatexExpr(r\"c=\\frac{1}{\\sqrt \\mu \\epsilon}=\"),\n",
    "     round(c),\" m/s\")           "
   ]
  },
  {
   "cell_type": "markdown",
   "metadata": {},
   "source": [
    "Constante cosmologique $\\Lambda=\\frac{8\\pi G \\rho_\\Lambda}{c^2}$"
   ]
  },
  {
   "cell_type": "code",
   "execution_count": 2,
   "metadata": {},
   "outputs": [
    {
     "data": {
      "text/html": [
       "<html><script type=\"math/tex; mode=display\">\\newcommand{\\Bold}[1]{\\mathbf{#1}}Constante \\ cosmologique : </script></html>"
      ],
      "text/latex": [
       "$$\\newcommand{\\Bold}[1]{\\mathbf{#1}}Constante \\ cosmologique : $$"
      ],
      "text/plain": [
       "Constante \\ cosmologique : "
      ]
     },
     "metadata": {},
     "output_type": "display_data"
    },
    {
     "data": {
      "text/html": [
       "<html><script type=\"math/tex; mode=display\">\\newcommand{\\Bold}[1]{\\mathbf{#1}}\\Lambda=\\frac{8\\pi G \\rho_\\Lambda}\\\n",
       "{c^2}= 4.16538957764143 \\times 10^{-53} m^{-2}</script></html>"
      ],
      "text/latex": [
       "$$\\newcommand{\\Bold}[1]{\\mathbf{#1}}\\Lambda=\\frac{8\\pi G \\rho_\\Lambda}\\\n",
       "{c^2}= 4.16538957764143 \\times 10^{-53} m^{-2}$$"
      ],
      "text/plain": [
       "\\Lambda=\\frac{8\\pi G \\rho_\\Lambda}\\\n",
       "{c^2}= 4.16538957764143e-53 m^{-2}"
      ]
     },
     "metadata": {},
     "output_type": "display_data"
    }
   ],
   "source": [
    "G=6.67384E-11;\n",
    "La=(8*3.1415*G*2.232E-27)/c^2;La\n",
    "show(LatexExpr(r\"Constante \\ cosmologique : \") )\n",
    "show(LatexExpr(r\"\\Lambda=\\frac{8\\pi G \\rho_\\Lambda}\\\n",
    "{c^2}=\"),La,LatexExpr(r\"m^{-2}\"))           "
   ]
  },
  {
   "cell_type": "markdown",
   "metadata": {},
   "source": [
    "Longueur de Planck $L_p=1,61622938\\times 10^{-35}m$"
   ]
  },
  {
   "cell_type": "code",
   "execution_count": 3,
   "metadata": {},
   "outputs": [
    {
     "data": {
      "text/html": [
       "<html><script type=\"math/tex; mode=display\">\\newcommand{\\Bold}[1]{\\mathbf{#1}}L_p=ct_p=\\sqrt \\frac{\\hbar G}{c^3}\\\n",
       "= 1.61619077108993 \\times 10^{-35} m</script></html>"
      ],
      "text/latex": [
       "$$\\newcommand{\\Bold}[1]{\\mathbf{#1}}L_p=ct_p=\\sqrt \\frac{\\hbar G}{c^3}\\\n",
       "= 1.61619077108993 \\times 10^{-35} m$$"
      ],
      "text/plain": [
       "L_p=ct_p=\\sqrt \\frac{\\hbar G}{c^3}\\\n",
       "= 1.61619077108993e-35 m"
      ]
     },
     "metadata": {},
     "output_type": "display_data"
    }
   ],
   "source": [
    "h=6.626E-34;hb=h/(2*n(pi));hb=h/(n(pi)*2)\n",
    "Lp=sqrt(hb*G/c^3)\n",
    "show(LatexExpr(r\"L_p=ct_p=\\sqrt \\frac{\\hbar G}{c^3}\\\n",
    "=\"),Lp,LatexExpr(r\"m\"))"
   ]
  },
  {
   "cell_type": "markdown",
   "metadata": {},
   "source": [
    "Masse apparente de l'univers $m_u$\n",
    "\n",
    "$H_0=72.0954858032\\frac{km}{s\\cdot Mparsec}$"
   ]
  },
  {
   "cell_type": "code",
   "execution_count": 4,
   "metadata": {},
   "outputs": [
    {
     "data": {
      "text/html": [
       "<html><script type=\"math/tex; mode=display\">\\newcommand{\\Bold}[1]{\\mathbf{#1}}m_u=\\frac{c^3}{G H_0}\\\n",
       "= 1.72621950475882 \\times 10^{53} kg</script></html>"
      ],
      "text/latex": [
       "$$\\newcommand{\\Bold}[1]{\\mathbf{#1}}m_u=\\frac{c^3}{G H_0}\\\n",
       "= 1.72621950475882 \\times 10^{53} kg$$"
      ],
      "text/plain": [
       "m_u=\\frac{c^3}{G H_0}\\\n",
       "= 1.72621950475882e53 kg"
      ]
     },
     "metadata": {},
     "output_type": "display_data"
    }
   ],
   "source": [
    "a=7.297735256698E-3;B=3-sqrt(5.0);Re=2.817940E-15;\n",
    "H0=(c*(a^19)*(sqrt(B)))/Re;Mu=c^3/(G*H0)\n",
    "show(LatexExpr(r\"m_u=\\frac{c^3}{G H_0}\\\n",
    "=\"),Mu,LatexExpr(r\"kg\"))"
   ]
  },
  {
   "cell_type": "markdown",
   "metadata": {},
   "source": [
    "Constante gravitionnelle G "
   ]
  },
  {
   "cell_type": "code",
   "execution_count": 5,
   "metadata": {},
   "outputs": [
    {
     "data": {
      "text/html": [
       "<html><script type=\"math/tex; mode=display\">\\newcommand{\\Bold}[1]{\\mathbf{#1}}G=\\frac{c^2 r_e \\alpha^{20}}\\\n",
       "{m_e \\beta}= 6.68712011993901 \\times 10^{-11} \\frac{m^3}{kg\\cdot s^2}</script></html>"
      ],
      "text/latex": [
       "$$\\newcommand{\\Bold}[1]{\\mathbf{#1}}G=\\frac{c^2 r_e \\alpha^{20}}\\\n",
       "{m_e \\beta}= 6.68712011993901 \\times 10^{-11} \\frac{m^3}{kg\\cdot s^2}$$"
      ],
      "text/plain": [
       "G=\\frac{c^2 r_e \\alpha^{20}}\\\n",
       "{m_e \\beta}= 6.68712011993901e-11 \\frac{m^3}{kg\\cdot s^2}"
      ]
     },
     "metadata": {},
     "output_type": "display_data"
    }
   ],
   "source": [
    "Me=9.10E-31;G=(c^2*Re*a^20)/(Me*B)\n",
    "show(LatexExpr(r\"G=\\frac{c^2 r_e \\alpha^{20}}\\\n",
    "{m_e \\beta}=\"),G,LatexExpr(r\"\\frac{m^3}{kg\\cdot s^2}\"))"
   ]
  },
  {
   "cell_type": "markdown",
   "metadata": {},
   "source": [
    "Calcul de la constante de Hubble $H_0$"
   ]
  },
  {
   "cell_type": "code",
   "execution_count": 6,
   "metadata": {},
   "outputs": [
    {
     "data": {
      "text/html": [
       "<html><script type=\"math/tex; mode=display\">\\newcommand{\\Bold}[1]{\\mathbf{#1}}\\frac{1 Parsec=96939420213600000}{\\pi}= 3.08567758149137 \\times 10^{22} m</script></html>"
      ],
      "text/latex": [
       "$$\\newcommand{\\Bold}[1]{\\mathbf{#1}}\\frac{1 Parsec=96939420213600000}{\\pi}= 3.08567758149137 \\times 10^{22} m$$"
      ],
      "text/plain": [
       "\\frac{1 Parsec=96939420213600000}{\\pi}= 3.08567758149137e22 m"
      ]
     },
     "metadata": {},
     "output_type": "display_data"
    }
   ],
   "source": [
    "Par=96939420213600000000000/n(pi)\n",
    "show(LatexExpr(r\"\\frac{1 Parsec=96939420213600000}{\\pi}=\"),Par,LatexExpr(r\"m\"))\n"
   ]
  },
  {
   "cell_type": "code",
   "execution_count": 7,
   "metadata": {},
   "outputs": [
    {
     "data": {
      "text/html": [
       "<html><script type=\"math/tex; mode=display\">\\newcommand{\\Bold}[1]{\\mathbf{#1}}1.72033193385140 \\times 10^{53}</script></html>"
      ],
      "text/latex": [
       "$$\\newcommand{\\Bold}[1]{\\mathbf{#1}}1.72033193385140 \\times 10^{53}$$"
      ],
      "text/plain": [
       "1.72033193385140e53"
      ]
     },
     "execution_count": 7,
     "metadata": {},
     "output_type": "execute_result"
    }
   ],
   "source": [
    "H0=2.33878499444856E-18;c=299792458;Ru=1.28E+26\n",
    "Hu=Ru/c;H0=Hu;Mu=c^3/G*H0;Mu"
   ]
  },
  {
   "cell_type": "code",
   "execution_count": 8,
   "metadata": {},
   "outputs": [
    {
     "data": {
      "text/html": [
       "<html><script type=\"math/tex; mode=display\">\\newcommand{\\Bold}[1]{\\mathbf{#1}}2.34814841311843 \\times 10^{-18}</script></html>"
      ],
      "text/latex": [
       "$$\\newcommand{\\Bold}[1]{\\mathbf{#1}}2.34814841311843 \\times 10^{-18}$$"
      ],
      "text/plain": [
       "2.34814841311843e-18"
      ]
     },
     "execution_count": 8,
     "metadata": {},
     "output_type": "execute_result"
    }
   ],
   "source": [
    "a=1/137.0;B=3-sqrt(5.0)\n",
    "Hu=1/H0;Hub=((c*a^19)*sqrt(B))/Re;Hub # Hubble"
   ]
  },
  {
   "cell_type": "code",
   "execution_count": 9,
   "metadata": {},
   "outputs": [],
   "source": [
    "hubb=72.09548580;hubl=Par*hubb"
   ]
  },
  {
   "cell_type": "code",
   "execution_count": 10,
   "metadata": {},
   "outputs": [
    {
     "data": {
      "text/html": [
       "<html><script type=\"math/tex; mode=display\">\\newcommand{\\Bold}[1]{\\mathbf{#1}}8.96358213031132 \\times 10^{59}</script></html>"
      ],
      "text/latex": [
       "$$\\newcommand{\\Bold}[1]{\\mathbf{#1}}8.96358213031132 \\times 10^{59}$$"
      ],
      "text/plain": [
       "8.96358213031132e59"
      ]
     },
     "execution_count": 10,
     "metadata": {},
     "output_type": "execute_result"
    }
   ],
   "source": [
    "Mu=c^3/G*hubl;Mu"
   ]
  },
  {
   "cell_type": "code",
   "execution_count": 11,
   "metadata": {},
   "outputs": [
    {
     "data": {
      "text/html": [
       "<html><script type=\"math/tex; mode=display\">\\newcommand{\\Bold}[1]{\\mathbf{#1}}2.85550955445623 \\times 10^{-55}</script></html>"
      ],
      "text/latex": [
       "$$\\newcommand{\\Bold}[1]{\\mathbf{#1}}2.85550955445623 \\times 10^{-55}$$"
      ],
      "text/plain": [
       "2.85550955445623e-55"
      ]
     },
     "execution_count": 11,
     "metadata": {},
     "output_type": "execute_result"
    }
   ],
   "source": [
    "Ce=1.602E-19;re=Ce^2/c^2;re"
   ]
  },
  {
   "attachments": {
    "image.png": {
     "image/png": "[encoded data removed]"
    }
   },
   "cell_type": "markdown",
   "metadata": {},
   "source": [
    "![image.png](attachment:image.png)"
   ]
  },
  {
   "cell_type": "code",
   "execution_count": 12,
   "metadata": {},
   "outputs": [],
   "source": [
    "Re=6.2E-11 # rayon de bohr 5.2917E-11"
   ]
  },
  {
   "cell_type": "code",
   "execution_count": 13,
   "metadata": {},
   "outputs": [
    {
     "data": {
      "text/html": [
       "<html><script type=\"math/tex; mode=display\">\\newcommand{\\Bold}[1]{\\mathbf{#1}}3.1415926535897932384626433832795</script></html>"
      ],
      "text/latex": [
       "$$\\newcommand{\\Bold}[1]{\\mathbf{#1}}3.1415926535897932384626433832795$$"
      ],
      "text/plain": [
       "3.1415926535897932384626433832795"
      ]
     },
     "execution_count": 13,
     "metadata": {},
     "output_type": "execute_result"
    }
   ],
   "source": [
    "n(pi,digits=32) # 11 chiffres= 6 m=9 31 chiffres "
   ]
  },
  {
   "cell_type": "code",
   "execution_count": 14,
   "metadata": {},
   "outputs": [
    {
     "data": {
      "text/html": [
       "<html><script type=\"math/tex; mode=display\">\\newcommand{\\Bold}[1]{\\mathbf{#1}}314159265</script></html>"
      ],
      "text/latex": [
       "$$\\newcommand{\\Bold}[1]{\\mathbf{#1}}314159265$$"
      ],
      "text/plain": [
       "314159265"
      ]
     },
     "execution_count": 14,
     "metadata": {},
     "output_type": "execute_result"
    }
   ],
   "source": [
    "ç=314159265;ç"
   ]
  },
  {
   "cell_type": "code",
   "execution_count": 15,
   "metadata": {},
   "outputs": [
    {
     "data": {
      "text/html": [
       "<html><script type=\"math/tex; mode=display\">\\newcommand{\\Bold}[1]{\\mathbf{#1}}6.28318530717959 \\times 10^{121}</script></html>"
      ],
      "text/latex": [
       "$$\\newcommand{\\Bold}[1]{\\mathbf{#1}}6.28318530717959 \\times 10^{121}$$"
      ],
      "text/plain": [
       "6.28318530717959e121"
      ]
     },
     "execution_count": 15,
     "metadata": {},
     "output_type": "execute_result"
    }
   ],
   "source": [
    "O=n(pi)*2E121;O"
   ]
  },
  {
   "cell_type": "code",
   "execution_count": 16,
   "metadata": {},
   "outputs": [
    {
     "data": {
      "text/html": [
       "<html><script type=\"math/tex; mode=display\">\\newcommand{\\Bold}[1]{\\mathbf{#1}}137.028269492898</script></html>"
      ],
      "text/latex": [
       "$$\\newcommand{\\Bold}[1]{\\mathbf{#1}}137.028269492898$$"
      ],
      "text/plain": [
       "137.028269492898"
      ]
     },
     "execution_count": 16,
     "metadata": {},
     "output_type": "execute_result"
    }
   ],
   "source": [
    "O^(1/57)"
   ]
  },
  {
   "cell_type": "code",
   "execution_count": 17,
   "metadata": {},
   "outputs": [
    {
     "data": {
      "text/html": [
       "<html><script type=\"math/tex; mode=display\">\\newcommand{\\Bold}[1]{\\mathbf{#1}}0.00729776420369835</script></html>"
      ],
      "text/latex": [
       "$$\\newcommand{\\Bold}[1]{\\mathbf{#1}}0.00729776420369835$$"
      ],
      "text/plain": [
       "0.00729776420369835"
      ]
     },
     "execution_count": 17,
     "metadata": {},
     "output_type": "execute_result"
    }
   ],
   "source": [
    "1/O^(1/57)"
   ]
  },
  {
   "cell_type": "code",
   "execution_count": null,
   "metadata": {},
   "outputs": [],
   "source": []
  }
 ],
 "metadata": {
  "kernelspec": {
   "display_name": "SageMath 9.5",
   "language": "sage",
   "name": "sagemath"
  },
  "language_info": {
   "codemirror_mode": {
    "name": "ipython",
    "version": 3
   },
   "file_extension": ".py",
   "mimetype": "text/x-python",
   "name": "python",
   "nbconvert_exporter": "python",
   "pygments_lexer": "ipython3",
   "version": "3.10.4"
  }
 },
 "nbformat": 4,
 "nbformat_minor": 2
}
