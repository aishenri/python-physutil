{
 "cells": [
  {
   "cell_type": "markdown",
   "metadata": {},
   "source": [
    "##### Relativité et quantique : Obsolescence programmée...\n",
    "\n",
    "Les théories dépendent beaucoup du langage utilisée. Voilà 200 ans on utilisait les termes d'éther, lumière... Aujourd'hui c'est remplacé par dark energy, photon, mais le produit a-t-il vraiment changé ?\n",
    "\n",
    "Par exemple : $F=mv^2$ version obsolète de $E=mc^2$\n",
    "\n",
    "Pas plus de précision et pourtant une nouvelle Ere de différence : E débute l'ère atomique, l'épée de Damoclès au-dessus de la tête de l'humanité. Les cinglés au pouvoir rivalisent de stratagèmes pour pouvoir essayer leur gadget, quittent à provoquer les pires conflits en jetant de l'huile sur le feu."
   ]
  },
  {
   "cell_type": "code",
   "execution_count": 1,
   "metadata": {},
   "outputs": [
    {
     "data": {
      "text/html": [
       "<html><script type=\"math/tex; mode=display\">\\newcommand{\\Bold}[1]{\\mathbf{#1}}E=ç^2= 98696043785340225 \\verb| |\\verb|Newton|</script></html>"
      ],
      "text/latex": [
       "$$\\newcommand{\\Bold}[1]{\\mathbf{#1}}E=ç^2= 98696043785340225 \\verb| |\\verb|Newton|$$"
      ],
      "text/plain": [
       "E=ç^2= 98696043785340225 ' Newton'"
      ]
     },
     "metadata": {},
     "output_type": "display_data"
    },
    {
     "data": {
      "text/html": [
       "<html><script type=\"math/tex; mode=display\">\\newcommand{\\Bold}[1]{\\mathbf{#1}}E= 9.86960437853402 \\verb| |\\verb|Peta|\\verb| |\\verb|tonnes|</script></html>"
      ],
      "text/latex": [
       "$$\\newcommand{\\Bold}[1]{\\mathbf{#1}}E= 9.86960437853402 \\verb| |\\verb|Peta|\\verb| |\\verb|tonnes|$$"
      ],
      "text/plain": [
       "E= 9.86960437853402 ' Peta tonnes'"
      ]
     },
     "metadata": {},
     "output_type": "display_data"
    }
   ],
   "source": [
    "%display latex\n",
    "ç=314159265;c=299792458\n",
    "E=ç^2 # ma version puisque m=0\n",
    "#show(LatexExpr(r\"E=ç^2=\"),E,\" Newton\")\n",
    "#show(LatexExpr(r\"E=\"),E/1E16,\" Peta tonnes\")"
   ]
  },
  {
   "cell_type": "markdown",
   "metadata": {},
   "source": [
    "Un photon a donc une énergie(masse), vulgairement poids, de près de 10 Péta tonnes !\n",
    "\n",
    "C'est comme disaient les anciens : La terre est le monde d'en bas et le ciel est le monde d'en haut. En bas, la matière (masse) , en haut la force(énergie) !"
   ]
  },
  {
   "cell_type": "markdown",
   "metadata": {},
   "source": [
    "###### Pourquoi ont ils abandonné l'éther ?\n",
    "\n",
    "Quand les scientifiques ne comprennent pas quelque chose, ils en abandonnent l'idée, c'est une atitude perverse et peu féconde : L'éther existait depuis des millénaires et chaque civilisation l'appréhendait à sa façon. Pourtant en 1900, ils avaient les bagages théoriques et pratiques suffisants pour en comprendre l'essence : $c^2=\\frac{1}{LC}$ et $LCc^2=1$\n",
    "\n",
    "Tiens ? C et c ?\n",
    "299792458.98 km/s\n",
    "\n",
    "L'éther est l'impédance du vide $Z=\\sqrt \\frac{\\mu}{\\epsilon} \\approx 120\\pi=377 \\Omega$, parce-que réduisant $c$, elle baisse sa $f_a$\n",
    "\n",
    "$ç=314159265.3$ $F_a$ maximum, un cercle ne fait pas plus de 360°, la lumière a ainsi une vitesse plus élevée."
   ]
  },
  {
   "cell_type": "code",
   "execution_count": 2,
   "metadata": {},
   "outputs": [
    {
     "data": {
      "text/html": [
       "<html><script type=\"math/tex; mode=display\">\\newcommand{\\Bold}[1]{\\mathbf{#1}}Ether : \\\n",
       "Impédance.du.vide=Z=\\sqrt \\frac{\\mu}{\\epsilon}= 376.98 \\Omega</script></html>"
      ],
      "text/latex": [
       "$$\\newcommand{\\Bold}[1]{\\mathbf{#1}}Ether : \\\n",
       "Impédance.du.vide=Z=\\sqrt \\frac{\\mu}{\\epsilon}= 376.98 \\Omega$$"
      ],
      "text/plain": [
       "Ether : \\\n",
       "Impédance.du.vide=Z=\\sqrt \\frac{\\mu}{\\epsilon}= 376.98 \\Omega"
      ]
     },
     "metadata": {},
     "output_type": "display_data"
    },
    {
     "data": {
      "text/html": [
       "<html><script type=\"math/tex; mode=display\">\\newcommand{\\Bold}[1]{\\mathbf{#1}}Z=\\sqrt \\frac{\\mu}{\\epsilon}= 376.98 \\Omega \\approx\\\n",
       "c=\\frac{1}{\\sqrt \\mu\\epsilon}= 299792458 \\verb| |\\verb|m/s|</script></html>"
      ],
      "text/latex": [
       "$$\\newcommand{\\Bold}[1]{\\mathbf{#1}}Z=\\sqrt \\frac{\\mu}{\\epsilon}= 376.98 \\Omega \\approx\\\n",
       "c=\\frac{1}{\\sqrt \\mu\\epsilon}= 299792458 \\verb| |\\verb|m/s|$$"
      ],
      "text/plain": [
       "Z=\\sqrt \\frac{\\mu}{\\epsilon}= 376.98 \\Omega \\approx\\\n",
       "c=\\frac{1}{\\sqrt \\mu\\epsilon}= 299792458 ' m/s'"
      ]
     },
     "metadata": {},
     "output_type": "display_data"
    }
   ],
   "source": [
    "Z=120*3.1415;#show(LatexExpr(r\"Ether : \\\n",
    "Impédance.du.vide=Z=\\sqrt \\frac{\\mu}{\\epsilon}=\"),\n",
    "round(Z,2),LatexExpr(r\"\\Omega\"))\n",
    "show(LatexExpr(r\"Z=\\sqrt \\frac{\\mu}{\\epsilon}=\"),\n",
    "round(Z,2),LatexExpr(r\"\\Omega \\approx\\\n",
    "c=\\frac{1}{\\sqrt \\mu\\epsilon}=\"),c,\" m/s\")"
   ]
  },
  {
   "cell_type": "code",
   "execution_count": 8,
   "metadata": {},
   "outputs": [
    {
     "data": {
      "text/html": [
       "<html><script type=\"math/tex; mode=display\">\\newcommand{\\Bold}[1]{\\mathbf{#1}}Ether : \\\n",
       "Impédance \\ du \\ vide=Z=\\sqrt \\frac{L}{C}= 360.0 \\Omega</script></html>"
      ],
      "text/latex": [
       "$$\\newcommand{\\Bold}[1]{\\mathbf{#1}}Ether : \\\n",
       "Impédance \\ du \\ vide=Z=\\sqrt \\frac{L}{C}= 360.0 \\Omega$$"
      ],
      "text/plain": [
       "Ether : \\\n",
       "Impédance \\ du \\ vide=Z=\\sqrt \\frac{L}{C}= 360.0 \\Omega"
      ]
     },
     "metadata": {},
     "output_type": "display_data"
    },
    {
     "data": {
      "text/html": [
       "<html><script type=\"math/tex; mode=display\">\\newcommand{\\Bold}[1]{\\mathbf{#1}}Z=\\sqrt \\frac{L}{C}= 360.0 \\Omega \\approx\\\n",
       "ç=\\frac{1}{\\sqrt L C}= 314159265 \\verb| |\\verb|rad/s|</script></html>"
      ],
      "text/latex": [
       "$$\\newcommand{\\Bold}[1]{\\mathbf{#1}}Z=\\sqrt \\frac{L}{C}= 360.0 \\Omega \\approx\\\n",
       "ç=\\frac{1}{\\sqrt L C}= 314159265 \\verb| |\\verb|rad/s|$$"
      ],
      "text/plain": [
       "Z=\\sqrt \\frac{L}{C}= 360.0 \\Omega \\approx\\\n",
       "ç=\\frac{1}{\\sqrt L C}= 314159265 ' rad/s'"
      ]
     },
     "metadata": {},
     "output_type": "display_data"
    }
   ],
   "source": [
    "Z=360;show(LatexExpr(r\"Ether : \\\n",
    "Impédance \\ du \\ vide=Z=\\sqrt \\frac{L}{C}=\"),\n",
    "round(Z,2),LatexExpr(r\"\\Omega\"))\n",
    "show(LatexExpr(r\"Z=\\sqrt \\frac{L}{C}=\"),\n",
    "round(Z,2),LatexExpr(r\"\\Omega \\approx\\\n",
    "ç=\\frac{1}{\\sqrt L C}=\"),ç, \" rad/s\")"
   ]
  },
  {
   "cell_type": "markdown",
   "metadata": {},
   "source": [
    "On voit bien qu'avec les mêmes unités on ne trouve pas les mêmes résultats ? Lequel est bon, lequel est faux ?\n",
    "\n",
    "Par contre la vitesse angulaire ouvre de nouvelles perspectives pour la compréhension de l'espace."
   ]
  },
  {
   "cell_type": "code",
   "execution_count": 4,
   "metadata": {},
   "outputs": [
    {
     "data": {
      "text/html": [
       "<html><script type=\"math/tex; mode=display\">\\newcommand{\\Bold}[1]{\\mathbf{#1}}2.89026524130261 \\times 10^{15}</script></html>"
      ],
      "text/latex": [
       "$$\\newcommand{\\Bold}[1]{\\mathbf{#1}}2.89026524130261 \\times 10^{15}$$"
      ],
      "text/plain": [
       "2.89026524130261e15"
      ]
     },
     "execution_count": 4,
     "metadata": {},
     "output_type": "execute_result"
    }
   ],
   "source": [
    "led=4.6E14;lw=led*2*n(pi);lw "
   ]
  },
  {
   "cell_type": "code",
   "execution_count": 5,
   "metadata": {},
   "outputs": [
    {
     "data": {
      "text/html": [
       "<html><script type=\"math/tex; mode=display\">\\newcommand{\\Bold}[1]{\\mathbf{#1}}5.37611871269842 \\times 10^{7}</script></html>"
      ],
      "text/latex": [
       "$$\\newcommand{\\Bold}[1]{\\mathbf{#1}}5.37611871269842 \\times 10^{7}$$"
      ],
      "text/plain": [
       "5.37611871269842e7"
      ]
     },
     "execution_count": 5,
     "metadata": {},
     "output_type": "execute_result"
    }
   ],
   "source": [
    "sqrt(lw) "
   ]
  },
  {
   "cell_type": "code",
   "execution_count": 6,
   "metadata": {},
   "outputs": [
    {
     "data": {
      "text/html": [
       "<html><script type=\"math/tex; mode=display\">\\newcommand{\\Bold}[1]{\\mathbf{#1}}5.57637350864295</script></html>"
      ],
      "text/latex": [
       "$$\\newcommand{\\Bold}[1]{\\mathbf{#1}}5.57637350864295$$"
      ],
      "text/plain": [
       "5.57637350864295"
      ]
     },
     "execution_count": 6,
     "metadata": {},
     "output_type": "execute_result"
    }
   ],
   "source": [
    "299792458.98/53761187"
   ]
  },
  {
   "cell_type": "code",
   "execution_count": null,
   "metadata": {},
   "outputs": [],
   "source": []
  }
 ],
 "metadata": {
  "kernelspec": {
   "display_name": "SageMath 9.5",
   "language": "sage",
   "name": "sagemath"
  },
  "language_info": {
   "codemirror_mode": {
    "name": "ipython",
    "version": 3
   },
   "file_extension": ".py",
   "mimetype": "text/x-python",
   "name": "python",
   "nbconvert_exporter": "python",
   "pygments_lexer": "ipython3",
   "version": "3.10.4"
  }
 },
 "nbformat": 4,
 "nbformat_minor": 2
}
