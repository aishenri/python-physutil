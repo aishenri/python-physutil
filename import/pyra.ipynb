{
 "cells": [
  {
   "cell_type": "markdown",
   "metadata": {},
   "source": [
    "##### Voie quantique, voix cantique : C'est la question ?\n",
    "\n",
    "Les anciennes civilisations : L'antique musique asiatique de la voie (dao, tao) était leur science. On retrouve la même chose dans les pyramides, la raison en est fort simple : La science est le calcul de rapports et la musique est aussi le calcul de rapports de fréquences !"
   ]
  },
  {
   "cell_type": "code",
   "execution_count": 102,
   "metadata": {},
   "outputs": [],
   "source": [
    "cr=n(pi)/6;r=sqrt(2.0) # coudée royale\n",
    "cc=439.995154 #base 440\n",
    "lg=cr*r*n(pi)*439.995154;lg # cercle circonscrit en MHz\n",
    "pg=cr*cc*n(pi)"
   ]
  },
  {
   "cell_type": "code",
   "execution_count": 103,
   "metadata": {},
   "outputs": [
    {
     "data": {
      "text/html": [
       "<html><script type=\"math/tex; mode=display\">\\newcommand{\\Bold}[1]{\\mathbf{#1}}\\large Pyramide</script></html>"
      ],
      "text/latex": [
       "$$\\newcommand{\\Bold}[1]{\\mathbf{#1}}\\large Pyramide$$"
      ],
      "text/plain": [
       "\\large Pyramide"
      ]
     },
     "metadata": {},
     "output_type": "display_data"
    },
    {
     "data": {
      "text/html": [
       "<html><script type=\"math/tex; mode=display\">\\newcommand{\\Bold}[1]{\\mathbf{#1}}Coudée \\ royale =  0.523598775598299</script></html>"
      ],
      "text/latex": [
       "$$\\newcommand{\\Bold}[1]{\\mathbf{#1}}Coudée \\ royale =  0.523598775598299$$"
      ],
      "text/plain": [
       "Coudée \\ royale =  0.523598775598299"
      ]
     },
     "metadata": {},
     "output_type": "display_data"
    },
    {
     "data": {
      "text/html": [
       "<html><script type=\"math/tex; mode=display\">\\newcommand{\\Bold}[1]{\\mathbf{#1}}Base \\ carré \\ 440 Hz \\ LA =  439.995154</script></html>"
      ],
      "text/latex": [
       "$$\\newcommand{\\Bold}[1]{\\mathbf{#1}}Base \\ carré \\ 440 Hz \\ LA =  439.995154$$"
      ],
      "text/plain": [
       "Base \\ carré \\ 440 Hz \\ LA =  439.995154"
      ]
     },
     "metadata": {},
     "output_type": "display_data"
    },
    {
     "data": {
      "text/html": [
       "<html><script type=\"math/tex; mode=display\">\\newcommand{\\Bold}[1]{\\mathbf{#1}}Cercle \\ circonscrit  =  1023.55547608840</script></html>"
      ],
      "text/latex": [
       "$$\\newcommand{\\Bold}[1]{\\mathbf{#1}}Cercle \\ circonscrit  =  1023.55547608840$$"
      ],
      "text/plain": [
       "Cercle \\ circonscrit  =  1023.55547608840"
      ]
     },
     "metadata": {},
     "output_type": "display_data"
    },
    {
     "data": {
      "text/html": [
       "<html><script type=\"math/tex; mode=display\">\\newcommand{\\Bold}[1]{\\mathbf{#1}}différence \\ entre \\ les \\ 2 \\ cercles \\ en \\ rad/s =  299.792458025667</script></html>"
      ],
      "text/latex": [
       "$$\\newcommand{\\Bold}[1]{\\mathbf{#1}}différence \\ entre \\ les \\ 2 \\ cercles \\ en \\ rad/s =  299.792458025667$$"
      ],
      "text/plain": [
       "différence \\ entre \\ les \\ 2 \\ cercles \\ en \\ rad/s =  299.792458025667"
      ]
     },
     "metadata": {},
     "output_type": "display_data"
    },
    {
     "data": {
      "text/html": [
       "<html><script type=\"math/tex; mode=display\">\\newcommand{\\Bold}[1]{\\mathbf{#1}}Cercle \\ inscrit  =  723.763018062732</script></html>"
      ],
      "text/latex": [
       "$$\\newcommand{\\Bold}[1]{\\mathbf{#1}}Cercle \\ inscrit  =  723.763018062732$$"
      ],
      "text/plain": [
       "Cercle \\ inscrit  =  723.763018062732"
      ]
     },
     "metadata": {},
     "output_type": "display_data"
    },
    {
     "data": {
      "text/html": [
       "<html><script type=\"math/tex; mode=display\">\\newcommand{\\Bold}[1]{\\mathbf{#1}}Pulsation \\ \\omega =  299.792458025667</script></html>"
      ],
      "text/latex": [
       "$$\\newcommand{\\Bold}[1]{\\mathbf{#1}}Pulsation \\ \\omega =  299.792458025667$$"
      ],
      "text/plain": [
       "Pulsation \\ \\omega =  299.792458025667"
      ]
     },
     "metadata": {},
     "output_type": "display_data"
    }
   ],
   "source": [
    "show(LatexExpr(r\"\\large Pyramide\"))\n",
    "show(LatexExpr(r\"Coudée \\ royale = \"),cr)\n",
    "show(LatexExpr(r\"Base \\ carré \\ 440 Hz \\ LA = \"),round(cc,6))\n",
    "show(LatexExpr(r\"Cercle \\ circonscrit  = \"),lg)\n",
    "show(LatexExpr(r\"différence \\ entre \\ les \\ 2 \\ cercles \\ en \\ rad/s = \"),lg-pg)\n",
    "show(LatexExpr(r\"Cercle \\ inscrit  = \"),pg)\n",
    "show(LatexExpr(r\"Pulsation \\ \\omega = \"),lg-pg)"
   ]
  },
  {
   "cell_type": "markdown",
   "metadata": {},
   "source": [
    "La vraie lumière n'est pas une vitesse, mais le cercle parfait $\\large \\pi$. La célérité est une polarisation de 30° ou 1.047 rad multiplié par le spin (L:+/C:-) du photon."
   ]
  },
  {
   "cell_type": "code",
   "execution_count": 104,
   "metadata": {},
   "outputs": [
    {
     "data": {
      "text/html": [
       "<html><script type=\"math/tex; mode=display\">\\newcommand{\\Bold}[1]{\\mathbf{#1}}1.00000000000000 \\times 10^{8}</script></html>"
      ],
      "text/latex": [
       "$$\\newcommand{\\Bold}[1]{\\mathbf{#1}}1.00000000000000 \\times 10^{8}$$"
      ],
      "text/plain": [
       "1.00000000000000e8"
      ]
     },
     "execution_count": 104,
     "metadata": {},
     "output_type": "execute_result"
    }
   ],
   "source": [
    "L=1/n(pi)*360E-8;C=1/(n(pi)*360E+8)\n",
    "ç=1/sqrt(L*C);FA=ç;FR=ç/(n(pi));FR"
   ]
  },
  {
   "cell_type": "code",
   "execution_count": 105,
   "metadata": {},
   "outputs": [
    {
     "data": {
      "text/html": [
       "<html><script type=\"math/tex; mode=display\">\\newcommand{\\Bold}[1]{\\mathbf{#1}}29979245803</script></html>"
      ],
      "text/latex": [
       "$$\\newcommand{\\Bold}[1]{\\mathbf{#1}}29979245803$$"
      ],
      "text/plain": [
       "29979245803"
      ]
     },
     "execution_count": 105,
     "metadata": {},
     "output_type": "execute_result"
    }
   ],
   "source": [
    "round((lg-pg)*1E8)# c en cms"
   ]
  },
  {
   "cell_type": "code",
   "execution_count": 106,
   "metadata": {},
   "outputs": [
    {
     "data": {
      "text/html": [
       "<html><script type=\"math/tex; mode=display\">\\newcommand{\\Bold}[1]{\\mathbf{#1}}Pulsation \\ ou \\ fréquence \\ angulaire : \\omega =  299.792458025667</script></html>"
      ],
      "text/latex": [
       "$$\\newcommand{\\Bold}[1]{\\mathbf{#1}}Pulsation \\ ou \\ fréquence \\ angulaire : \\omega =  299.792458025667$$"
      ],
      "text/plain": [
       "Pulsation \\ ou \\ fréquence \\ angulaire : \\omega =  299.792458025667"
      ]
     },
     "metadata": {},
     "output_type": "display_data"
    },
    {
     "data": {
      "text/html": [
       "<html><script type=\"math/tex; mode=display\">\\newcommand{\\Bold}[1]{\\mathbf{#1}}FA : c =  299792458</script></html>"
      ],
      "text/latex": [
       "$$\\newcommand{\\Bold}[1]{\\mathbf{#1}}FA : c =  299792458$$"
      ],
      "text/plain": [
       "FA : c =  299792458"
      ]
     },
     "metadata": {},
     "output_type": "display_data"
    }
   ],
   "source": [
    "show(LatexExpr(r\"Pulsation \\ ou \\ fréquence \\ angulaire : \\omega = \"),lg-pg)\n",
    "show(LatexExpr(r\"FA : c = \"),int((lg-pg)*1E6))"
   ]
  },
  {
   "cell_type": "code",
   "execution_count": 107,
   "metadata": {},
   "outputs": [
    {
     "data": {
      "text/html": [
       "<html><script type=\"math/tex; mode=display\">\\newcommand{\\Bold}[1]{\\mathbf{#1}}Fréquence \\ de \\ résonance : FR =\\large\\frac{c}{2\\pi}=  95426903</script></html>"
      ],
      "text/latex": [
       "$$\\newcommand{\\Bold}[1]{\\mathbf{#1}}Fréquence \\ de \\ résonance : FR =\\large\\frac{c}{2\\pi}=  95426903$$"
      ],
      "text/plain": [
       "Fréquence \\ de \\ résonance : FR =\\large\\frac{c}{2\\pi}=  95426903"
      ]
     },
     "metadata": {},
     "output_type": "display_data"
    }
   ],
   "source": [
    "show(LatexExpr(r\"Fréquence \\ de \\ résonance : FR =\\large\\frac{c}{2\\pi}= \"),int(299792458/n(pi)))"
   ]
  },
  {
   "cell_type": "code",
   "execution_count": 108,
   "metadata": {},
   "outputs": [
    {
     "data": {
      "text/html": [
       "<html><script type=\"math/tex; mode=display\">\\newcommand{\\Bold}[1]{\\mathbf{#1}}28608265812</script></html>"
      ],
      "text/latex": [
       "$$\\newcommand{\\Bold}[1]{\\mathbf{#1}}28608265812$$"
      ],
      "text/plain": [
       "28608265812"
      ]
     },
     "execution_count": 108,
     "metadata": {},
     "output_type": "execute_result"
    }
   ],
   "source": [
    "round((lg-pg)*95426903)#  en cms "
   ]
  },
  {
   "cell_type": "code",
   "execution_count": 109,
   "metadata": {},
   "outputs": [
    {
     "data": {
      "text/html": [
       "<html><script type=\"math/tex; mode=display\">\\newcommand{\\Bold}[1]{\\mathbf{#1}}1.04792251292020</script></html>"
      ],
      "text/latex": [
       "$$\\newcommand{\\Bold}[1]{\\mathbf{#1}}1.04792251292020$$"
      ],
      "text/plain": [
       "1.04792251292020"
      ]
     },
     "execution_count": 109,
     "metadata": {},
     "output_type": "execute_result"
    }
   ],
   "source": [
    "O=29979245800.0/28608265812;O"
   ]
  },
  {
   "cell_type": "code",
   "execution_count": 110,
   "metadata": {},
   "outputs": [
    {
     "data": {
      "text/html": [
       "<html><script type=\"math/tex; mode=display\">\\newcommand{\\Bold}[1]{\\mathbf{#1}}1370979988</script></html>"
      ],
      "text/latex": [
       "$$\\newcommand{\\Bold}[1]{\\mathbf{#1}}1370979988$$"
      ],
      "text/plain": [
       "1370979988"
      ]
     },
     "execution_count": 110,
     "metadata": {},
     "output_type": "execute_result"
    }
   ],
   "source": [
    "D=29979245800.0-28608265812;int(D)# 13709799.88 m/S = Hertz/s"
   ]
  },
  {
   "cell_type": "code",
   "execution_count": 111,
   "metadata": {},
   "outputs": [
    {
     "data": {
      "text/html": [
       "<html><script type=\"math/tex; mode=display\">\\newcommand{\\Bold}[1]{\\mathbf{#1}}2.99792457101191 \\times 10^{8}</script></html>"
      ],
      "text/latex": [
       "$$\\newcommand{\\Bold}[1]{\\mathbf{#1}}2.99792457101191 \\times 10^{8}$$"
      ],
      "text/plain": [
       "2.99792457101191e8"
      ]
     },
     "execution_count": 111,
     "metadata": {},
     "output_type": "execute_result"
    }
   ],
   "source": [
    "ç=314159265;ç/O"
   ]
  },
  {
   "cell_type": "code",
   "execution_count": 112,
   "metadata": {},
   "outputs": [
    {
     "data": {
      "text/html": [
       "<html><script type=\"math/tex; mode=display\">\\newcommand{\\Bold}[1]{\\mathbf{#1}}60.0415372470708</script></html>"
      ],
      "text/latex": [
       "$$\\newcommand{\\Bold}[1]{\\mathbf{#1}}60.0415372470708$$"
      ],
      "text/plain": [
       "60.0415372470708"
      ]
     },
     "execution_count": 112,
     "metadata": {},
     "output_type": "execute_result"
    }
   ],
   "source": [
    "deg(x)=x*180/n(pi);deg(O)"
   ]
  },
  {
   "cell_type": "code",
   "execution_count": 113,
   "metadata": {},
   "outputs": [
    {
     "data": {
      "text/html": [
       "<html><script type=\"math/tex; mode=display\">\\newcommand{\\Bold}[1]{\\mathbf{#1}}0.523961256460100</script></html>"
      ],
      "text/latex": [
       "$$\\newcommand{\\Bold}[1]{\\mathbf{#1}}0.523961256460100$$"
      ],
      "text/plain": [
       "0.523961256460100"
      ]
     },
     "execution_count": 113,
     "metadata": {},
     "output_type": "execute_result"
    }
   ],
   "source": [
    "do=1.04792251292020/2;do"
   ]
  },
  {
   "cell_type": "code",
   "execution_count": 114,
   "metadata": {},
   "outputs": [
    {
     "data": {
      "text/html": [
       "<html><script type=\"math/tex; mode=display\">\\newcommand{\\Bold}[1]{\\mathbf{#1}}30.0207686235355</script></html>"
      ],
      "text/latex": [
       "$$\\newcommand{\\Bold}[1]{\\mathbf{#1}}30.0207686235355$$"
      ],
      "text/plain": [
       "30.0207686235355"
      ]
     },
     "execution_count": 114,
     "metadata": {},
     "output_type": "execute_result"
    }
   ],
   "source": [
    "deg(x)=x*180/n(pi);deg(do)"
   ]
  },
  {
   "cell_type": "code",
   "execution_count": 115,
   "metadata": {},
   "outputs": [
    {
     "data": {
      "text/html": [
       "<html><script type=\"math/tex; mode=display\">\\newcommand{\\Bold}[1]{\\mathbf{#1}}90.0623058706063</script></html>"
      ],
      "text/latex": [
       "$$\\newcommand{\\Bold}[1]{\\mathbf{#1}}90.0623058706063$$"
      ],
      "text/plain": [
       "90.0623058706063"
      ]
     },
     "execution_count": 115,
     "metadata": {},
     "output_type": "execute_result"
    }
   ],
   "source": [
    "deg(O)+deg(do)"
   ]
  },
  {
   "cell_type": "markdown",
   "metadata": {},
   "source": [
    "Le spin du photon est sa fréquence de résonance"
   ]
  }
 ],
 "metadata": {
  "kernelspec": {
   "display_name": "SageMath 9.5",
   "language": "sage",
   "name": "sagemath"
  },
  "language_info": {
   "codemirror_mode": {
    "name": "ipython",
    "version": 3
   },
   "file_extension": ".py",
   "mimetype": "text/x-python",
   "name": "python",
   "nbconvert_exporter": "python",
   "pygments_lexer": "ipython3",
   "version": "3.10.4"
  }
 },
 "nbformat": 4,
 "nbformat_minor": 2
}
