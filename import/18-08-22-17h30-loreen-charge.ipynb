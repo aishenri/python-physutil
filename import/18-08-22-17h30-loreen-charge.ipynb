{
 "cells": [
  {
   "cell_type": "markdown",
   "id": "9d561425",
   "metadata": {},
   "source": [
    "https://williams.chemistry.gatech.edu/structure/molecular_interactions/mol_int.html#B"
   ]
  },
  {
   "cell_type": "code",
   "execution_count": 10,
   "id": "512286c5",
   "metadata": {},
   "outputs": [
    {
     "data": {
      "text/plain": [
       "898755178.7368176"
      ]
     },
     "execution_count": 10,
     "metadata": {},
     "output_type": "execute_result"
    }
   ],
   "source": [
    "a=1.66054E-27# nombre avogrado 12C =12 grammes C12\n",
    "c=299792458;A=4E-10# 4 Angstrom\n",
    "k=c^2/1E8;round(k,9)#Newton # 900000 Tonnes"
   ]
  },
  {
   "cell_type": "code",
   "execution_count": null,
   "id": "2c1cc863",
   "metadata": {},
   "outputs": [],
   "source": []
  }
 ],
 "metadata": {
  "kernelspec": {
   "display_name": "SageMath 9.5",
   "language": "sage",
   "name": "sagemath"
  },
  "language_info": {
   "codemirror_mode": {
    "name": "ipython",
    "version": 3
   },
   "file_extension": ".py",
   "mimetype": "text/x-python",
   "name": "python",
   "nbconvert_exporter": "python",
   "pygments_lexer": "ipython3",
   "version": "3.10.4"
  }
 },
 "nbformat": 4,
 "nbformat_minor": 5
}
