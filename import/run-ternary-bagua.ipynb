{
 "cells": [
  {
   "cell_type": "code",
   "execution_count": 1,
   "metadata": {},
   "outputs": [
    {
     "data": {
      "text/html": [
       "<style type=\"text/css\">\n",
       "table.dataframe td, table.dataframe th{border: 1px \n",
       "black solid ! important;color:black !important;}\n"
      ],
      "text/plain": [
       "<IPython.core.display.HTML object>"
      ]
     },
     "metadata": {},
     "output_type": "display_data"
    }
   ],
   "source": [
    "%%HTML\n",
    "<style type=\"text/css\">\n",
    "table.dataframe td, table.dataframe th{border: 1px \n",
    "black solid ! important;color:black !important;}"
   ]
  },
  {
   "cell_type": "code",
   "execution_count": 2,
   "metadata": {},
   "outputs": [
    {
     "data": {
      "image/png": "[encoded data removed]",
      "text/plain": [
       "Graphics object consisting of 17 graphics primitives"
      ]
     },
     "metadata": {},
     "output_type": "display_data"
    },
    {
     "data": {
      "text/html": [
       "<style type=\"text/css\">\n",
       "table.dataframe td, table.dataframe th{border: 1px \n",
       "black solid ! important;color:black !important;}\n"
      ],
      "text/plain": [
       "<IPython.core.display.HTML object>"
      ]
     },
     "metadata": {},
     "output_type": "display_data"
    }
   ],
   "source": [
    "%run taiji.ipynb\n",
    "%run terna.ipynb\n"
   ]
  },
  {
   "cell_type": "code",
   "execution_count": 3,
   "metadata": {},
   "outputs": [],
   "source": [
    "a = BalancedTernary(\"+-0++0+\")\n",
    "    # print (\"a:\", a.to_int(), a)\n",
    "b = BalancedTernary(int(-436))\n",
    "   # print (\"b:\", b.to_int(), b)\n",
    "c = BalancedTernary(\"+-++-\")\n",
    "    #print (\"c:\", c.to_int(), c)\n",
    "r = a * (b - c)\n",
    "    #print (\"a * (b - c):\", r.to_int(), r)"
   ]
  },
  {
   "cell_type": "code",
   "execution_count": 4,
   "metadata": {},
   "outputs": [
    {
     "name": "stdout",
     "output_type": "stream",
     "text": [
      "-  -  -\n",
      "☰  ☱  ☲\n",
      "☳  ☯  ☴\n",
      "☵  ☶  ☷\n",
      "-  -  -\n"
     ]
    }
   ],
   "source": [
    "from tabulate import tabulate\n",
    "rows=[['\\u2630','\\u2631','\\u2632'],\n",
    "      ['\\u2633','\\u262F','\\u2634'],\n",
    "      ['\\u2635','\\u2636','\\u2637 ']]\n",
    "print (tabulate(rows))"
   ]
  },
  {
   "cell_type": "code",
   "execution_count": 5,
   "metadata": {},
   "outputs": [
    {
     "data": {
      "text/html": [
       "<html><script type=\"math/tex; mode=display\">\\newcommand{\\Bold}[1]{\\mathbf{#1}}\\begin{array}{l}\n",
       "\\verb|   |\\verb|0|\\verb|  |\\verb|1|\\verb|   |\\verb|2|\\\\\n",
       "\\verb|0|\\verb|  |\\verb|䷇|\\verb|  |\\verb|䷀|\\verb|   |\\verb|䷅|\\\\\n",
       "\\verb|1|\\verb|  |\\verb|䷂|\\verb|  |\\verb|䷄|\\verb|   |\\verb|䷆|\\\\\n",
       "\\verb|2|\\verb|  |\\verb|䷃|\\verb|  |\\verb|䷈|\\verb|  |\\verb|䷁|\n",
       "\\end{array}</script></html>"
      ],
      "text/latex": [
       "$$\\newcommand{\\Bold}[1]{\\mathbf{#1}}\\begin{array}{l}\n",
       "\\verb|   |\\verb|0|\\verb|  |\\verb|1|\\verb|   |\\verb|2|\\\\\n",
       "\\verb|0|\\verb|  |\\verb|䷇|\\verb|  |\\verb|䷀|\\verb|   |\\verb|䷅|\\\\\n",
       "\\verb|1|\\verb|  |\\verb|䷂|\\verb|  |\\verb|䷄|\\verb|   |\\verb|䷆|\\\\\n",
       "\\verb|2|\\verb|  |\\verb|䷃|\\verb|  |\\verb|䷈|\\verb|  |\\verb|䷁|\n",
       "\\end{array}$$"
      ],
      "text/plain": [
       "   0  1   2\n",
       "0  ䷇  ䷀   ䷅\n",
       "1  ䷂  ䷄   ䷆\n",
       "2  ䷃  ䷈  ䷁ "
      ]
     },
     "execution_count": 5,
     "metadata": {},
     "output_type": "execute_result"
    }
   ],
   "source": [
    "df=pd.DataFrame([('\\u4dc7','\\u4dc0','\\u4dc5'),\n",
    "      ('\\u4dc2','\\u4dc4','\\u4dc6'),\n",
    "      ('\\u4dc3','\\u4dc8','\\u4dc1 ')])\n",
    "df.style.set_table_styles([{'selector' : '', \n",
    "'props' : [('border','2px solid green')]}]);df "
   ]
  },
  {
   "cell_type": "code",
   "execution_count": 6,
   "metadata": {},
   "outputs": [
    {
     "data": {
      "text/html": [
       "<html><script type=\"math/tex; mode=display\">\\newcommand{\\Bold}[1]{\\mathbf{#1}}\\begin{array}{l}\n",
       "\\verb|   |\\verb|0|\\verb|  |\\verb|1|\\verb|   |\\verb|2|\\\\\n",
       "\\verb|0|\\verb|  |\\verb|䷇|\\verb|  |\\verb|䷀|\\verb|   |\\verb|䷅|\\\\\n",
       "\\verb|1|\\verb|  |\\verb|䷂|\\verb|  |\\verb|䷄|\\verb|   |\\verb|䷆|\\\\\n",
       "\\verb|2|\\verb|  |\\verb|䷃|\\verb|  |\\verb|䷈|\\verb|  |\\verb|䷁|\n",
       "\\end{array}</script></html>"
      ],
      "text/latex": [
       "$$\\newcommand{\\Bold}[1]{\\mathbf{#1}}\\begin{array}{l}\n",
       "\\verb|   |\\verb|0|\\verb|  |\\verb|1|\\verb|   |\\verb|2|\\\\\n",
       "\\verb|0|\\verb|  |\\verb|䷇|\\verb|  |\\verb|䷀|\\verb|   |\\verb|䷅|\\\\\n",
       "\\verb|1|\\verb|  |\\verb|䷂|\\verb|  |\\verb|䷄|\\verb|   |\\verb|䷆|\\\\\n",
       "\\verb|2|\\verb|  |\\verb|䷃|\\verb|  |\\verb|䷈|\\verb|  |\\verb|䷁|\n",
       "\\end{array}$$"
      ],
      "text/plain": [
       "   0  1   2\n",
       "0  ䷇  ䷀   ䷅\n",
       "1  ䷂  ䷄   ䷆\n",
       "2  ䷃  ䷈  ䷁ "
      ]
     },
     "execution_count": 6,
     "metadata": {},
     "output_type": "execute_result"
    }
   ],
   "source": [
    "df=pd.DataFrame([('\\u4dc7','\\u4dc0','\\u4dc5'),\n",
    "      ('\\u4dc2','\\u4dc4','\\u4dc6'),\n",
    "      ('\\u4dc3','\\u4dc8','\\u4dc1 ')])\n",
    "df.style.set_table_styles([{'selector' : '', \n",
    "'props' : [('border','2px solid green')]}]);df "
   ]
  },
  {
   "cell_type": "code",
   "execution_count": null,
   "metadata": {},
   "outputs": [],
   "source": []
  },
  {
   "cell_type": "code",
   "execution_count": null,
   "metadata": {},
   "outputs": [],
   "source": []
  }
 ],
 "metadata": {
  "kernelspec": {
   "display_name": "SageMath 9.5",
   "language": "sage",
   "name": "sagemath"
  },
  "language_info": {
   "codemirror_mode": {
    "name": "ipython",
    "version": 3
   },
   "file_extension": ".py",
   "mimetype": "text/x-python",
   "name": "python",
   "nbconvert_exporter": "python",
   "pygments_lexer": "ipython3",
   "version": "3.10.4"
  }
 },
 "nbformat": 4,
 "nbformat_minor": 4
}
