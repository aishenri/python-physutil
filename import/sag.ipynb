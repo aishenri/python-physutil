{
 "cells": [
  {
   "cell_type": "code",
   "execution_count": 99,
   "metadata": {},
   "outputs": [],
   "source": [
    "#taiji\n",
    "def f(x):\n",
    "    if x<0:\n",
    "        return sqrt(-x^2-2*x)\n",
    "    else:\n",
    "        return -sqrt(-x^2+2*x)\n",
    "a=plot(f,(x,-2,2),color='white',fill=sqrt(4-x^2),\n",
    "fillcolor=\"lightgray\",alpha=0.2)\n",
    "p=plot(f,(x,-2,2),color='white',fill=-sqrt(4-x^2),\n",
    "fillcolor=\"white\",alpha=0.1)\n",
    "b = circle((0,0),2,color=\"lightgray\",alpha=0.5)\n",
    "#show(a+p+b,figsize=2,axes=False,aspect_ratio=1)"
   ]
  },
  {
   "cell_type": "code",
   "execution_count": 100,
   "metadata": {},
   "outputs": [
    {
     "data": {
      "text/html": [
       "<style>table.table_form{border: 1px solid gray;\n",
       "    border-collapse: separate;border-spacing: 0px;}\n",
       "table.table_form td {border: 1px solid gray;\n",
       "padding: 5px 15px;color: #00a;background-color: #f8f8f8;\n",
       "text-align: left;font-size:medium}</style>\n"
      ],
      "text/plain": [
       "<IPython.core.display.HTML object>"
      ]
     },
     "metadata": {},
     "output_type": "display_data"
    }
   ],
   "source": [
    "%%html    \n",
    "<style>table.table_form{border: 1px solid gray;\n",
    "    border-collapse: separate;border-spacing: 0px;}\n",
    "table.table_form td {border: 1px solid gray;\n",
    "padding: 5px 15px;color: #00a;background-color: #f8f8f8;\n",
    "text-align: left;font-size:medium}</style>"
   ]
  },
  {
   "cell_type": "code",
   "execution_count": 101,
   "metadata": {},
   "outputs": [
    {
     "data": {
      "text/html": [
       "<div class=\"notruncate\">\n",
       "<table  class=\"table_form\">\n",
       "<tbody>\n",
       "<tr class =\"row-a\">\n",
       "<td><script type=\"math/tex\">8</script></td>\n",
       "<td><script type=\"math/tex\">1</script></td>\n",
       "<td><script type=\"math/tex\">6</script></td>\n",
       "</tr>\n",
       "<tr class =\"row-b\">\n",
       "<td><script type=\"math/tex\">3</script></td>\n",
       "<td><script type=\"math/tex\">5</script></td>\n",
       "<td><script type=\"math/tex\">7</script></td>\n",
       "</tr>\n",
       "<tr class =\"row-a\">\n",
       "<td><script type=\"math/tex\">4</script></td>\n",
       "<td><script type=\"math/tex\">9</script></td>\n",
       "<td><script type=\"math/tex\">2</script></td>\n",
       "</tr>\n",
       "</tbody>\n",
       "</table>\n",
       "</div>"
      ],
      "text/plain": [
       "  8   1   6\n",
       "  3   5   7\n",
       "  4   9   2"
      ]
     },
     "execution_count": 101,
     "metadata": {},
     "output_type": "execute_result"
    }
   ],
   "source": [
    "rows = [['a', 'b', 'c'], [100,2,3], [4,5,60]]\n",
    "rows=[[8,1,6], [3, 5, 7], [4,9,2]];table(rows)"
   ]
  },
  {
   "cell_type": "code",
   "execution_count": null,
   "metadata": {},
   "outputs": [],
   "source": []
  },
  {
   "cell_type": "code",
   "execution_count": null,
   "metadata": {},
   "outputs": [],
   "source": []
  }
 ],
 "metadata": {
  "kernelspec": {
   "display_name": "Python 3 (ipykernel)",
   "language": "python",
   "name": "python3"
  },
  "language_info": {
   "codemirror_mode": {
    "name": "ipython",
    "version": 3
   },
   "file_extension": ".py",
   "mimetype": "text/x-python",
   "name": "python",
   "nbconvert_exporter": "python",
   "pygments_lexer": "ipython3",
   "version": "3.10.4"
  }
 },
 "nbformat": 4,
 "nbformat_minor": 4
}
