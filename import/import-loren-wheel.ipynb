{
 "cells": [
  {
   "cell_type": "code",
   "execution_count": null,
   "metadata": {},
   "outputs": [
    {
     "data": {
      "image/png": "[encoded data removed]",
      "text/plain": [
       "Graphics object consisting of 17 graphics primitives"
      ]
     },
     "metadata": {},
     "output_type": "display_data"
    }
   ],
   "source": [
    "%run taiji.ipynb"
   ]
  },
  {
   "cell_type": "code",
   "execution_count": null,
   "metadata": {},
   "outputs": [
    {
     "data": {
      "text/html": [
       "<style>table.table_form{border: 1px solid gray;\n",
       "    border-collapse: separate;border-spacing: 0px;}\n",
       "table.table_form td {border: 1px solid gray;\n",
       "padding: 5px 15px;color: #00a;background-color: #f8f8f8;\n",
       "text-align: left;font-size:medium}</style>\n"
      ],
      "text/plain": [
       "<IPython.core.display.HTML object>"
      ]
     },
     "metadata": {},
     "output_type": "display_data"
    }
   ],
   "source": [
    "%run sag.ipynb"
   ]
  },
  {
   "cell_type": "markdown",
   "metadata": {},
   "source": []
  },
  {
   "cell_type": "code",
   "execution_count": null,
   "metadata": {},
   "outputs": [
    {
     "data": {
      "image/png": "[encoded data removed]",
      "text/plain": [
       "Graphics object consisting of 5 graphics primitives"
      ]
     },
     "metadata": {},
     "output_type": "display_data"
    }
   ],
   "source": [
    "show(a+p+b,figsize=2,axes=False,aspect_ratio=1)"
   ]
  },
  {
   "cell_type": "code",
   "execution_count": null,
   "metadata": {},
   "outputs": [
    {
     "data": {
      "text/html": [
       "<div class=\"notruncate\">\n",
       "<table  class=\"table_form\">\n",
       "<tbody>\n",
       "<tr class =\"row-a\">\n",
       "<td><script type=\"math/tex\">8</script></td>\n",
       "<td><script type=\"math/tex\">1</script></td>\n",
       "<td><script type=\"math/tex\">6</script></td>\n",
       "</tr>\n",
       "<tr class =\"row-b\">\n",
       "<td><script type=\"math/tex\">3</script></td>\n",
       "<td><script type=\"math/tex\">5</script></td>\n",
       "<td><script type=\"math/tex\">7</script></td>\n",
       "</tr>\n",
       "<tr class =\"row-a\">\n",
       "<td><script type=\"math/tex\">4</script></td>\n",
       "<td><script type=\"math/tex\">9</script></td>\n",
       "<td><script type=\"math/tex\">2</script></td>\n",
       "</tr>\n",
       "</tbody>\n",
       "</table>\n",
       "</div>"
      ],
      "text/plain": [
       "  8   1   6\n",
       "  3   5   7\n",
       "  4   9   2"
      ]
     },
     "execution_count": 4,
     "metadata": {},
     "output_type": "execute_result"
    }
   ],
   "source": [
    "rows=[[8,1,6], [3, 5, 7], [4,9,2]];table(rows)"
   ]
  },
  {
   "cell_type": "code",
   "execution_count": null,
   "metadata": {},
   "outputs": [
    {
     "name": "stdout",
     "output_type": "stream",
     "text": [
      "☰ 1\n",
      "☱ 5\n",
      "☲ 2\n",
      "☳ 6\n",
      "☲ 3\n",
      "☵ 7\n",
      "☶ 4\n",
      "☷ 8\n"
     ]
    }
   ],
   "source": [
    "print (u'\\u2630',\"1\");print (u'\\u2631',\"5\");\n",
    "print (u'\\u2632',\"2\");print (u'\\u2633',\"6\");\n",
    "print (u'\\u2632',\"3\");print (u'\\u2635',\"7\");\n",
    "print (u'\\u2636',\"4\");print (u'\\u2637',\"8\");"
   ]
  },
  {
   "cell_type": "code",
   "execution_count": null,
   "metadata": {},
   "outputs": [
    {
     "data": {
      "text/html": [
       "<div class=\"notruncate\">\n",
       "<table  class=\"table_form\">\n",
       "<tbody>\n",
       "<tr class =\"row-a\">\n",
       "<td>☰</td>\n",
       "<td>☱</td>\n",
       "<td>☲</td>\n",
       "</tr>\n",
       "<tr class =\"row-b\">\n",
       "<td>☳</td>\n",
       "<td>☯</td>\n",
       "<td>☴</td>\n",
       "</tr>\n",
       "<tr class =\"row-a\">\n",
       "<td>☵</td>\n",
       "<td>☶</td>\n",
       "<td>☷ </td>\n",
       "</tr>\n",
       "</tbody>\n",
       "</table>\n",
       "</div>"
      ],
      "text/plain": [
       "  ☰   ☱   ☲\n",
       "  ☳   ☯   ☴\n",
       "  ☵   ☶   ☷"
      ]
     },
     "execution_count": 6,
     "metadata": {},
     "output_type": "execute_result"
    }
   ],
   "source": [
    "rows=[['\\u2630','\\u2631','\\u2632'],\n",
    "      ['\\u2633','\\u262F','\\u2634'],\n",
    "      ['\\u2635','\\u2636','\\u2637 ']];table(rows)"
   ]
  },
  {
   "cell_type": "code",
   "execution_count": null,
   "metadata": {},
   "outputs": [
    {
     "data": {
      "text/html": [
       "<div class=\"notruncate\">\n",
       "<table  class=\"table_form\">\n",
       "<tbody>\n",
       "<tr class =\"row-a\">\n",
       "<td>䷀</td>\n",
       "<td>䷂</td>\n",
       "<td>䷇</td>\n",
       "</tr>\n",
       "<tr class =\"row-b\">\n",
       "<td>䷄</td>\n",
       "<td>䷆</td>\n",
       "<td>䷈</td>\n",
       "</tr>\n",
       "<tr class =\"row-a\">\n",
       "<td>䷅</td>\n",
       "<td>䷑</td>\n",
       "<td>䷁</td>\n",
       "</tr>\n",
       "</tbody>\n",
       "</table>\n",
       "</div>"
      ],
      "text/plain": [
       "  ䷀   ䷂   ䷇\n",
       "  ䷄   ䷆   ䷈\n",
       "  ䷅   ䷑   ䷁"
      ]
     },
     "execution_count": 7,
     "metadata": {},
     "output_type": "execute_result"
    }
   ],
   "source": [
    "dao=[['\\u4dc0','\\u4dc2','\\u4dc7'],\n",
    "      ['\\u4dc4','\\u4dc6','\\u4dc8'],\n",
    "      ['\\u4dc5','\\u4dd1','\\u4dc1']];table(dao)"
   ]
  },
  {
   "cell_type": "code",
   "execution_count": null,
   "metadata": {},
   "outputs": [
    {
     "data": {
      "text/html": [
       "<style type=\"text/css\">\n",
       "table.dataframe td, table.dataframe th{border: 1px \n",
       "black solid ! important;color:black !important;}\n"
      ],
      "text/plain": [
       "<IPython.core.display.HTML object>"
      ]
     },
     "metadata": {},
     "output_type": "display_data"
    },
    {
     "name": "stdout",
     "output_type": "stream",
     "text": [
      "a: 523 +-0++0+\n",
      "b: -436 -++-0--\n",
      "c: 65 +-++-\n",
      "a * (b - c): -262023 ----0+--0++0\n"
     ]
    }
   ],
   "source": [
    "%run terna.ipynb"
   ]
  },
  {
   "cell_type": "code",
   "execution_count": null,
   "metadata": {},
   "outputs": [],
   "source": [
    "#%run rlc.ipynb"
   ]
  },
  {
   "cell_type": "code",
   "execution_count": null,
   "metadata": {},
   "outputs": [],
   "source": []
  }
 ],
 "metadata": {
  "kernelspec": {
   "display_name": "Python 3.10.6 ('rdk')",
   "language": "python",
   "name": "python3"
  },
  "language_info": {
   "codemirror_mode": {
    "name": "ipython",
    "version": 3
   },
   "file_extension": ".py",
   "mimetype": "text/x-python",
   "name": "python",
   "nbconvert_exporter": "python",
   "pygments_lexer": "ipython3",
   "version": "3.10.6"
  },
  "vscode": {
   "interpreter": {
    "hash": "a55026226417443086534f1809aecac630782816174b11ce7c49d20817bb9bbc"
   }
  }
 },
 "nbformat": 4,
 "nbformat_minor": 4
}
