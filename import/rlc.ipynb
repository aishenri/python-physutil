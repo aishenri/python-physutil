{
 "cells": [
  {
   "cell_type": "code",
   "execution_count": 34,
   "metadata": {},
   "outputs": [],
   "source": [
    "%display latex\n",
    "E=48;f=50;L=10*10^(-3);C=150*10^(-6)"
   ]
  },
  {
   "cell_type": "code",
   "execution_count": 35,
   "metadata": {},
   "outputs": [
    {
     "data": {
      "text/html": [
       "<html><script type=\"math/tex; mode=display\">\\newcommand{\\Bold}[1]{\\mathbf{#1}}\\left(\\frac{1}{100}, \\frac{3}{20000}, 314\\right)</script></html>"
      ],
      "text/latex": [
       "$$\\newcommand{\\Bold}[1]{\\mathbf{#1}}\\left(\\frac{1}{100}, \\frac{3}{20000}, 314\\right)$$"
      ],
      "text/plain": [
       "(1/100, 3/20000, 314)"
      ]
     },
     "execution_count": 35,
     "metadata": {},
     "output_type": "execute_result"
    }
   ],
   "source": [
    "R=50;omega=round(2*n(pi),3)*f;round(omega,3)\n",
    "L,C,round(omega)"
   ]
  },
  {
   "cell_type": "markdown",
   "metadata": {},
   "source": [
    "Calcul de XL (reactancia inductiva) i XC (reactancia capacitiva), [Ohm]\n",
    "Calcul de X (reactancia), [Ohm]\n",
    "RECORDA:\n",
    "- X positiva -> Circuit inductiu (predomina la bobina).\n",
    "- X negativa -> Circuit capacitiu (predomina el condensador).\n",
    "- X cero -----> Circuit ressonant, si hi ha bobina i condensador."
   ]
  },
  {
   "cell_type": "code",
   "execution_count": 36,
   "metadata": {},
   "outputs": [
    {
     "data": {
      "text/html": [
       "<html><script type=\"math/tex; mode=display\">\\newcommand{\\Bold}[1]{\\mathbf{#1}}3.1415000000000006</script></html>"
      ],
      "text/latex": [
       "$$\\newcommand{\\Bold}[1]{\\mathbf{#1}}3.1415000000000006$$"
      ],
      "text/plain": [
       "3.1415000000000006"
      ]
     },
     "execution_count": 36,
     "metadata": {},
     "output_type": "execute_result"
    }
   ],
   "source": [
    "XL=omega*L;XL"
   ]
  },
  {
   "cell_type": "code",
   "execution_count": 37,
   "metadata": {},
   "outputs": [
    {
     "data": {
      "text/html": [
       "<html><script type=\"math/tex; mode=display\">\\newcommand{\\Bold}[1]{\\mathbf{#1}}21.22128494880365</script></html>"
      ],
      "text/latex": [
       "$$\\newcommand{\\Bold}[1]{\\mathbf{#1}}21.22128494880365$$"
      ],
      "text/plain": [
       "21.22128494880365"
      ]
     },
     "execution_count": 37,
     "metadata": {},
     "output_type": "execute_result"
    }
   ],
   "source": [
    "if C!= 0: \n",
    "    XC=1/(omega*C) \n",
    "else:\n",
    "    XC=0\n",
    "XC"
   ]
  },
  {
   "cell_type": "code",
   "execution_count": 38,
   "metadata": {},
   "outputs": [
    {
     "data": {
      "text/html": [
       "<html><script type=\"math/tex; mode=display\">\\newcommand{\\Bold}[1]{\\mathbf{#1}}-18.07978494880365</script></html>"
      ],
      "text/latex": [
       "$$\\newcommand{\\Bold}[1]{\\mathbf{#1}}-18.07978494880365$$"
      ],
      "text/plain": [
       "-18.07978494880365"
      ]
     },
     "execution_count": 38,
     "metadata": {},
     "output_type": "execute_result"
    }
   ],
   "source": [
    "X=XL-XC;X"
   ]
  },
  {
   "cell_type": "markdown",
   "metadata": {},
   "source": [
    "Calcul de Z (impedancia total), [Ohm]\n",
    "L'angle s'obte en radians (per a les sinusoidals).\n",
    "Per veure'l millor es dona tambe en graus sexagesimals.\n",
    "RECORDA:\n",
    "- Angle positiu -> Circuit inductiu (predomina la bobina).\n",
    "- Angle negatiu -> Circuit capacitiu (predomina el condensador).\n",
    "- Angle cero ----> Circuit ressonant, si hi ha bobina i condensador."
   ]
  },
  {
   "cell_type": "code",
   "execution_count": 39,
   "metadata": {},
   "outputs": [
    {
     "data": {
      "text/html": [
       "<html><script type=\"math/tex; mode=display\">\\newcommand{\\Bold}[1]{\\mathbf{#1}}53.16839873265874</script></html>"
      ],
      "text/latex": [
       "$$\\newcommand{\\Bold}[1]{\\mathbf{#1}}53.16839873265874$$"
      ],
      "text/plain": [
       "53.16839873265874"
      ]
     },
     "execution_count": 39,
     "metadata": {},
     "output_type": "execute_result"
    }
   ],
   "source": [
    "Z=sqrt(R^2+X^2);Z"
   ]
  },
  {
   "cell_type": "code",
   "execution_count": 40,
   "metadata": {},
   "outputs": [
    {
     "data": {
      "text/html": [
       "<html><script type=\"math/tex; mode=display\">\\newcommand{\\Bold}[1]{\\mathbf{#1}}-0.3469674846585047</script></html>"
      ],
      "text/latex": [
       "$$\\newcommand{\\Bold}[1]{\\mathbf{#1}}-0.3469674846585047$$"
      ],
      "text/plain": [
       "-0.3469674846585047"
      ]
     },
     "execution_count": 40,
     "metadata": {},
     "output_type": "execute_result"
    }
   ],
   "source": [
    "if R==0:\n",
    "    if X>0:\n",
    "        PHI=pi/2\n",
    "    else:\n",
    "        if X<0:\n",
    "            PHI=pi/2\n",
    "        else:\n",
    "            PHI=0\n",
    "else:\n",
    "    PHI=atan(X/R)\n",
    "PHI"
   ]
  },
  {
   "cell_type": "code",
   "execution_count": 41,
   "metadata": {},
   "outputs": [
    {
     "data": {
      "text/html": [
       "<html><script type=\"math/tex; mode=display\">\\newcommand{\\Bold}[1]{\\mathbf{#1}}-19.87977249920246</script></html>"
      ],
      "text/latex": [
       "$$\\newcommand{\\Bold}[1]{\\mathbf{#1}}-19.87977249920246$$"
      ],
      "text/plain": [
       "-19.87977249920246"
      ]
     },
     "execution_count": 41,
     "metadata": {},
     "output_type": "execute_result"
    }
   ],
   "source": [
    "fi=PHI*180/n(pi);fi"
   ]
  },
  {
   "cell_type": "markdown",
   "metadata": {},
   "source": [
    "###### Calcul de Emax (f.e.m. maxima d'alimentacio), [V]"
   ]
  },
  {
   "cell_type": "code",
   "execution_count": 42,
   "metadata": {},
   "outputs": [
    {
     "data": {
      "text/html": [
       "<html><script type=\"math/tex; mode=display\">\\newcommand{\\Bold}[1]{\\mathbf{#1}}67.88</script></html>"
      ],
      "text/latex": [
       "$$\\newcommand{\\Bold}[1]{\\mathbf{#1}}67.88$$"
      ],
      "text/plain": [
       "67.88"
      ]
     },
     "execution_count": 42,
     "metadata": {},
     "output_type": "execute_result"
    }
   ],
   "source": [
    "Emax=E*sqrt(2);round(Emax,2)"
   ]
  },
  {
   "cell_type": "markdown",
   "metadata": {},
   "source": [
    "###### Sinusoidal de la f.e.m. d'alimentacio, [V]"
   ]
  },
  {
   "cell_type": "code",
   "execution_count": 43,
   "metadata": {},
   "outputs": [
    {
     "data": {
      "text/html": [
       "<html><script type=\"math/tex; mode=display\">\\newcommand{\\Bold}[1]{\\mathbf{#1}}e_{t} = E_{\\mathit{max}} \\sin\\left(\\omega_{0} t_{0}\\right)</script></html>"
      ],
      "text/latex": [
       "$$\\newcommand{\\Bold}[1]{\\mathbf{#1}}e_{t} = E_{\\mathit{max}} \\sin\\left(\\omega_{0} t_{0}\\right)$$"
      ],
      "text/plain": [
       "e_t == E_max*sin(omega_0*t_0)"
      ]
     },
     "metadata": {},
     "output_type": "display_data"
    }
   ],
   "source": [
    "%display latex\n",
    "var(\"E_max omega_0 e_t t_0 \")\n",
    "et=e_t==E_max*sin(omega_0*t_0);show(et)\n",
    "e(t)=Emax*sin(omega*t)\n",
    "te=plot(e(t),t,-0.25/f,1.25/f,color=\"blue\",legend_label=\"$e(t)$\");\n",
    "#show(te,figsize=3,frame=True,fontsize=8,axes=False)"
   ]
  },
  {
   "cell_type": "markdown",
   "metadata": {},
   "source": [
    "###### Sinusoidal de la intensitat del circuit, [A]"
   ]
  },
  {
   "cell_type": "code",
   "execution_count": 44,
   "metadata": {},
   "outputs": [
    {
     "data": {
      "text/html": [
       "<html><script type=\"math/tex; mode=display\">\\newcommand{\\Bold}[1]{\\mathbf{#1}}1.28</script></html>"
      ],
      "text/latex": [
       "$$\\newcommand{\\Bold}[1]{\\mathbf{#1}}1.28$$"
      ],
      "text/plain": [
       "1.28"
      ]
     },
     "execution_count": 44,
     "metadata": {},
     "output_type": "execute_result"
    }
   ],
   "source": [
    "Imax=Emax/Z;round(Imax,2)"
   ]
  },
  {
   "cell_type": "code",
   "execution_count": 45,
   "metadata": {},
   "outputs": [],
   "source": [
    "i(t)=Imax*sin((omega*t)-PHI)\n",
    "ti=plot(Z/2*i(t),t,-0.25/f,1.25/f,color=\"red\",legend_label=\"$i(t)$\")\n",
    "#show(ti,figsize=3,frame=True,fontsize=8,axes=False)"
   ]
  },
  {
   "cell_type": "markdown",
   "metadata": {},
   "source": [
    "###### Sinusoidals de les caigudes de tensio a R, L i C, [V]"
   ]
  },
  {
   "cell_type": "code",
   "execution_count": 46,
   "metadata": {},
   "outputs": [
    {
     "data": {
      "text/html": [
       "<html><script type=\"math/tex; mode=display\">\\newcommand{\\Bold}[1]{\\mathbf{#1}}63.84</script></html>"
      ],
      "text/latex": [
       "$$\\newcommand{\\Bold}[1]{\\mathbf{#1}}63.84$$"
      ],
      "text/plain": [
       "63.84"
      ]
     },
     "execution_count": 46,
     "metadata": {},
     "output_type": "execute_result"
    }
   ],
   "source": [
    "Vrmax=Imax*R;round(Vrmax,2)"
   ]
  },
  {
   "cell_type": "code",
   "execution_count": 47,
   "metadata": {},
   "outputs": [],
   "source": [
    "vr(t)=Vrmax*sin((omega*t)-PHI)\n",
    "rv=plot(vr(t),t,-0.25/f,1.25/f,color=\"green\",legend_label=\"$vr(t)$\")\n",
    "#show(rv,figsize=3,frame=True,fontsize=8,axes=False)"
   ]
  },
  {
   "cell_type": "code",
   "execution_count": 48,
   "metadata": {},
   "outputs": [
    {
     "data": {
      "text/html": [
       "<html><script type=\"math/tex; mode=display\">\\newcommand{\\Bold}[1]{\\mathbf{#1}}4.01</script></html>"
      ],
      "text/latex": [
       "$$\\newcommand{\\Bold}[1]{\\mathbf{#1}}4.01$$"
      ],
      "text/plain": [
       "4.01"
      ]
     },
     "execution_count": 48,
     "metadata": {},
     "output_type": "execute_result"
    }
   ],
   "source": [
    "Vlmax=Imax*XL;round(Vlmax,2)"
   ]
  },
  {
   "cell_type": "code",
   "execution_count": 49,
   "metadata": {},
   "outputs": [],
   "source": [
    "vl(t)=Vlmax*sin((omega*t)-PHI+(pi/2))\n",
    "lv=plot(vl(t),t,-0.25/f,1.25/f,color=\"violet\",legend_label=\"$vl(t)$\")\n",
    "#show(lv,figsize=3,frame=True,fontsize=8,axes=False)"
   ]
  },
  {
   "cell_type": "code",
   "execution_count": 50,
   "metadata": {},
   "outputs": [
    {
     "data": {
      "text/html": [
       "<html><script type=\"math/tex; mode=display\">\\newcommand{\\Bold}[1]{\\mathbf{#1}}27.09</script></html>"
      ],
      "text/latex": [
       "$$\\newcommand{\\Bold}[1]{\\mathbf{#1}}27.09$$"
      ],
      "text/plain": [
       "27.09"
      ]
     },
     "execution_count": 50,
     "metadata": {},
     "output_type": "execute_result"
    }
   ],
   "source": [
    "Vcmax=Imax*XC;round(Vcmax,2)"
   ]
  },
  {
   "cell_type": "code",
   "execution_count": 51,
   "metadata": {},
   "outputs": [],
   "source": [
    "vc(t)=Vcmax*sin(-pi/2-PHI+omega*t)\n",
    "cv=plot(vc(t),t,-0.25/f,1.25/f,color=\"brown\",legend_label=\"$vc(t)$\")\n",
    "#show(cv,figsize=3,frame=True,fontsize=8,axes=False)"
   ]
  },
  {
   "cell_type": "code",
   "execution_count": 52,
   "metadata": {},
   "outputs": [],
   "source": [
    "#show(te+ti+rv+lv+cv,figsize=4,frame=True,axes=False,fontsize=8)"
   ]
  },
  {
   "cell_type": "markdown",
   "metadata": {},
   "source": [
    "Representacio grafica de les sinusoidals.\n",
    "La intensitat es dibuixa sempre amb una amplitud la meitat de la de la tensio."
   ]
  },
  {
   "cell_type": "code",
   "execution_count": 53,
   "metadata": {},
   "outputs": [],
   "source": [
    "Ymax=max(Emax,Vrmax,Vlmax,Vcmax)"
   ]
  },
  {
   "cell_type": "markdown",
   "metadata": {},
   "source": [
    "Comprovacio grafica de les tensions.\n",
    "Les sinusoidals e(t) i v(t) son la mateixa funcio.\n",
    "Nomes es veu una funcio perque l'altra queda amagada a sota."
   ]
  },
  {
   "cell_type": "code",
   "execution_count": 54,
   "metadata": {},
   "outputs": [],
   "source": [
    "v(t)=vr(t)+vl(t)+vc(t)\n",
    "vt=plot(v(t),t,-0.25/f,1.25/f,color=\"red\",legend_label=\"$v(t)$\")\n",
    "#show(te+vt,figsize=4,frame=True,fontsize=4)"
   ]
  },
  {
   "cell_type": "code",
   "execution_count": 55,
   "metadata": {},
   "outputs": [],
   "source": [
    "#print(\"PHI en degré = \",PHI*180/n(pi))"
   ]
  },
  {
   "cell_type": "code",
   "execution_count": 56,
   "metadata": {},
   "outputs": [],
   "source": [
    "if L == 0:\n",
    "    C = 0\n",
    "    fr= 0 \n",
    "else: \n",
    "    fr=1/(2*pi*(sqrt(L*C)))\n",
    "#print(\"fr = \",round(fr), \" Hz\",\"Wr =\",round(1/sqrt(L*C)))"
   ]
  },
  {
   "cell_type": "code",
   "execution_count": 57,
   "metadata": {},
   "outputs": [],
   "source": [
    "reset()\n",
    "var('f l c');radians = pi/180.0;degrees = 180.0/pi\n",
    "def argd(x):\n",
    "    return N(arg(x) * degrees)\n",
    "def plt(q,a,b,typ = abs,col = 'blue'):\n",
    "     return plot(lambda x: float(typ(q(x))),(x,a,b),rgbcolor=col)\n",
    "omega = 2*pi*f    \n",
    "zs(r,l,c,f) = r + (i*omega*l) - i/(omega*c)"
   ]
  },
  {
   "cell_type": "code",
   "execution_count": 58,
   "metadata": {},
   "outputs": [],
   "source": [
    "a = 1;b = 100;r = 1;l = 6.5536E-2;c = 1.77147E-4;\n",
    "fr=n(1/(2*pi*(sqrt(l*c))))\n",
    "lbl = text(\"$f_r = %.0f Hz$\" % (fr),(80,0.04),rgbcolor=\"red\",\n",
    "horizontal_alignment=\"left\", fontsize=10,vertical_alignment=\"top\",\n",
    "bounding_box={'boxstyle':'round', 'fc':'w'}  )\n",
    "q(f) = zs(r,l,c,f);p1 = plt(1/q,a,b,abs,\"darkorange\")\n",
    "zs(r,l,c,f) = r + (i*omega*l) - i/(omega*c)\n",
    "#show(p1+lbl,figsize=(4,3),fontsize=6,frame=True,gridlines=\"minor\",\n",
    "#gridlinesstyle=dict(color=\"lightgreen\",linestyle=\"-\",linewidth=\"0.5\"))  "
   ]
  },
  {
   "cell_type": "code",
   "execution_count": 59,
   "metadata": {},
   "outputs": [
    {
     "data": {
      "text/html": [
       "<html><script type=\"math/tex; mode=display\">\\newcommand{\\Bold}[1]{\\mathbf{#1}}293.489882065097</script></html>"
      ],
      "text/latex": [
       "$$\\newcommand{\\Bold}[1]{\\mathbf{#1}}293.489882065097$$"
      ],
      "text/plain": [
       "293.489882065097"
      ]
     },
     "execution_count": 59,
     "metadata": {},
     "output_type": "execute_result"
    }
   ],
   "source": [
    "1/sqrt(6.5536E-2*1.77147E-4)"
   ]
  },
  {
   "cell_type": "code",
   "execution_count": 60,
   "metadata": {},
   "outputs": [],
   "source": [
    "var(\"omega\")\n",
    "R=3;L=6.5536E-2;C=1.77147E-4;w=1/(sqrt(L*C));\n",
    "p=plot(abs(1/(1+i*omega*R*C-omega*omega*L*C)),\n",
    "[omega,0,2*w],color=\"darkgreen\");f=w;r=R;c=C;l=L\n",
    "lbl = text(\"$w_r = %.0f rad/s$\" % (f),(430,1),fontsize=10,\n",
    "rgbcolor=\"darkgreen\",horizontal_alignment=\"left\",\n",
    "bounding_box={'boxstyle':'round', 'fc':'w'})\n",
    "#show(p+lbl,figsize=4,frame=True,axes=False,\n",
    "#gridlines=\"minor\",fontsize=6,gridlinesstyle=dict(color=\"lightsalmon\",\n",
    "#linestyle=\"-\",linewidth=\"0.5\"))"
   ]
  },
  {
   "cell_type": "code",
   "execution_count": 61,
   "metadata": {},
   "outputs": [
    {
     "data": {
      "text/html": [
       "<html><script type=\"math/tex; mode=display\">\\newcommand{\\Bold}[1]{\\mathbf{#1}}\\left( r, l, c, f \\right) \\ {\\mapsto} \\ 2 i \\, \\pi f l + r - \\frac{i}{2 \\, \\pi c f}</script></html>"
      ],
      "text/latex": [
       "$$\\newcommand{\\Bold}[1]{\\mathbf{#1}}\\left( r, l, c, f \\right) \\ {\\mapsto} \\ 2 i \\, \\pi f l + r - \\frac{i}{2 \\, \\pi c f}$$"
      ],
      "text/plain": [
       "(r, l, c, f) |--> 2*I*pi*f*l + r - 1/2*I/(pi*c*f)"
      ]
     },
     "execution_count": 61,
     "metadata": {},
     "output_type": "execute_result"
    }
   ],
   "source": [
    "zs"
   ]
  },
  {
   "cell_type": "code",
   "execution_count": 62,
   "metadata": {},
   "outputs": [],
   "source": [
    "reset()\n",
    "%display latex"
   ]
  },
  {
   "cell_type": "code",
   "execution_count": 63,
   "metadata": {},
   "outputs": [
    {
     "data": {
      "text/html": [
       "<html><script type=\"math/tex; mode=display\">\\newcommand{\\Bold}[1]{\\mathbf{#1}}x\\left(t\\right)</script></html>"
      ],
      "text/latex": [
       "$$\\newcommand{\\Bold}[1]{\\mathbf{#1}}x\\left(t\\right)$$"
      ],
      "text/plain": [
       "x(t)"
      ]
     },
     "execution_count": 63,
     "metadata": {},
     "output_type": "execute_result"
    }
   ],
   "source": [
    "var('m,k,t,x0,v0') \n",
    "assume(m>0) \n",
    "assume(k>0) \n",
    "assume(t>0) \n",
    "x = function('x')(t);x"
   ]
  },
  {
   "cell_type": "code",
   "execution_count": 64,
   "metadata": {},
   "outputs": [
    {
     "data": {
      "text/html": [
       "<html><script type=\"math/tex; mode=display\">\\newcommand{\\Bold}[1]{\\mathbf{#1}}m \\frac{\\partial^{2}}{(\\partial t)^{2}}x\\left(t\\right) = -k x\\left(t\\right)</script></html>"
      ],
      "text/latex": [
       "$$\\newcommand{\\Bold}[1]{\\mathbf{#1}}m \\frac{\\partial^{2}}{(\\partial t)^{2}}x\\left(t\\right) = -k x\\left(t\\right)$$"
      ],
      "text/plain": [
       "m*diff(x(t), t, t) == -k*x(t)"
      ]
     },
     "execution_count": 64,
     "metadata": {},
     "output_type": "execute_result"
    }
   ],
   "source": [
    "de = m*diff(x,t,2)==-k*x;de"
   ]
  },
  {
   "cell_type": "code",
   "execution_count": 65,
   "metadata": {},
   "outputs": [
    {
     "data": {
      "text/html": [
       "<html><script type=\"math/tex; mode=display\">\\newcommand{\\Bold}[1]{\\mathbf{#1}}K_{2} \\cos\\left(\\frac{\\sqrt{k} t}{\\sqrt{m}}\\right) + K_{1} \\sin\\left(\\frac{\\sqrt{k} t}{\\sqrt{m}}\\right)</script></html>"
      ],
      "text/latex": [
       "$$\\newcommand{\\Bold}[1]{\\mathbf{#1}}K_{2} \\cos\\left(\\frac{\\sqrt{k} t}{\\sqrt{m}}\\right) + K_{1} \\sin\\left(\\frac{\\sqrt{k} t}{\\sqrt{m}}\\right)$$"
      ],
      "text/plain": [
       "_K2*cos(sqrt(k)*t/sqrt(m)) + _K1*sin(sqrt(k)*t/sqrt(m))"
      ]
     },
     "execution_count": 65,
     "metadata": {},
     "output_type": "execute_result"
    }
   ],
   "source": [
    "sol = desolve(de, x, ivar=t);sol"
   ]
  },
  {
   "cell_type": "code",
   "execution_count": 66,
   "metadata": {},
   "outputs": [
    {
     "data": {
      "text/html": [
       "<html><script type=\"math/tex; mode=display\">\\newcommand{\\Bold}[1]{\\mathbf{#1}}K_{2} = x_{0}</script></html>"
      ],
      "text/latex": [
       "$$\\newcommand{\\Bold}[1]{\\mathbf{#1}}K_{2} = x_{0}$$"
      ],
      "text/plain": [
       "_K2 == x0"
      ]
     },
     "execution_count": 66,
     "metadata": {},
     "output_type": "execute_result"
    }
   ],
   "source": [
    "var('k1,k2'); sol.subs(t=0)==x0 "
   ]
  },
  {
   "cell_type": "code",
   "execution_count": 67,
   "metadata": {},
   "outputs": [
    {
     "data": {
      "text/html": [
       "<html><script type=\"math/tex; mode=display\">\\newcommand{\\Bold}[1]{\\mathbf{#1}}x_{0} \\cos\\left(\\frac{\\sqrt{k} t}{\\sqrt{m}}\\right) + K_{1} \\sin\\left(\\frac{\\sqrt{k} t}{\\sqrt{m}}\\right)</script></html>"
      ],
      "text/latex": [
       "$$\\newcommand{\\Bold}[1]{\\mathbf{#1}}x_{0} \\cos\\left(\\frac{\\sqrt{k} t}{\\sqrt{m}}\\right) + K_{1} \\sin\\left(\\frac{\\sqrt{k} t}{\\sqrt{m}}\\right)$$"
      ],
      "text/plain": [
       "x0*cos(sqrt(k)*t/sqrt(m)) + _K1*sin(sqrt(k)*t/sqrt(m))"
      ]
     },
     "execution_count": 67,
     "metadata": {},
     "output_type": "execute_result"
    }
   ],
   "source": [
    "sol = sol.subs(_); sol "
   ]
  },
  {
   "cell_type": "code",
   "execution_count": 68,
   "metadata": {},
   "outputs": [
    {
     "data": {
      "text/html": [
       "<html><script type=\"math/tex; mode=display\">\\newcommand{\\Bold}[1]{\\mathbf{#1}}\\frac{K_{1} \\sqrt{k}}{\\sqrt{m}} = v_{0}</script></html>"
      ],
      "text/latex": [
       "$$\\newcommand{\\Bold}[1]{\\mathbf{#1}}\\frac{K_{1} \\sqrt{k}}{\\sqrt{m}} = v_{0}$$"
      ],
      "text/plain": [
       "_K1*sqrt(k)/sqrt(m) == v0"
      ]
     },
     "execution_count": 68,
     "metadata": {},
     "output_type": "execute_result"
    }
   ],
   "source": [
    "diff(sol, t)(t=0)==v0 "
   ]
  },
  {
   "cell_type": "code",
   "execution_count": null,
   "metadata": {},
   "outputs": [],
   "source": []
  },
  {
   "cell_type": "code",
   "execution_count": 69,
   "metadata": {},
   "outputs": [
    {
     "data": {
      "text/html": [
       "<html><script type=\"math/tex; mode=display\">\\newcommand{\\Bold}[1]{\\mathbf{#1}}x_{0} \\cos\\left(\\frac{\\sqrt{k} t}{\\sqrt{m}}\\right) + K_{1} \\sin\\left(\\frac{\\sqrt{k} t}{\\sqrt{m}}\\right)</script></html>"
      ],
      "text/latex": [
       "$$\\newcommand{\\Bold}[1]{\\mathbf{#1}}x_{0} \\cos\\left(\\frac{\\sqrt{k} t}{\\sqrt{m}}\\right) + K_{1} \\sin\\left(\\frac{\\sqrt{k} t}{\\sqrt{m}}\\right)$$"
      ],
      "text/plain": [
       "x0*cos(sqrt(k)*t/sqrt(m)) + _K1*sin(sqrt(k)*t/sqrt(m))"
      ]
     },
     "execution_count": 69,
     "metadata": {},
     "output_type": "execute_result"
    }
   ],
   "source": [
    "sol = sol.subs(_); sol "
   ]
  },
  {
   "cell_type": "code",
   "execution_count": 70,
   "metadata": {},
   "outputs": [
    {
     "data": {
      "text/html": [
       "<html><script type=\"math/tex; mode=display\">\\newcommand{\\Bold}[1]{\\mathbf{#1}}x_{0} \\cos\\left(\\frac{\\sqrt{k} t}{\\sqrt{m}}\\right) + \\frac{\\sqrt{m} v_{0} \\sin\\left(\\frac{\\sqrt{k} t}{\\sqrt{m}}\\right)}{\\sqrt{k}}</script></html>"
      ],
      "text/latex": [
       "$$\\newcommand{\\Bold}[1]{\\mathbf{#1}}x_{0} \\cos\\left(\\frac{\\sqrt{k} t}{\\sqrt{m}}\\right) + \\frac{\\sqrt{m} v_{0} \\sin\\left(\\frac{\\sqrt{k} t}{\\sqrt{m}}\\right)}{\\sqrt{k}}$$"
      ],
      "text/plain": [
       "x0*cos(sqrt(k)*t/sqrt(m)) + sqrt(m)*v0*sin(sqrt(k)*t/sqrt(m))/sqrt(k)"
      ]
     },
     "execution_count": 70,
     "metadata": {},
     "output_type": "execute_result"
    }
   ],
   "source": [
    "sol = desolve(de, x, ivar=t, ics=[0,x0,v0]) ;sol"
   ]
  },
  {
   "cell_type": "code",
   "execution_count": 71,
   "metadata": {},
   "outputs": [],
   "source": [
    "a=plot(sol(m=1,k=1,x0=0,v0=1), (t,0,6.28),\n",
    "       fill=True,fillcolor=\"salmon\") \n",
    "#show(a,figsize=3,frame=True,fontsize=8,axes=False)"
   ]
  },
  {
   "cell_type": "code",
   "execution_count": 72,
   "metadata": {},
   "outputs": [],
   "source": [
    "c=parametric_plot(( sol(m=1,k=1,x0=1,v0=0),\n",
    "                 diff(sol,t)(m=1,k=1,x0=1,v0=0)),\n",
    "                  (t,0,6.28),color=\"green\",\n",
    "                  fill=True,fillcolor=\"cyan\") \n",
    "#show(c,figsize=2,frame=True,fontsize=5,axes=False)"
   ]
  },
  {
   "cell_type": "code",
   "execution_count": 73,
   "metadata": {},
   "outputs": [
    {
     "data": {
      "text/html": [
       "<html><script type=\"math/tex; mode=display\">\\newcommand{\\Bold}[1]{\\mathbf{#1}}\\left(a, b, c, x, y, z\\right)</script></html>"
      ],
      "text/latex": [
       "$$\\newcommand{\\Bold}[1]{\\mathbf{#1}}\\left(a, b, c, x, y, z\\right)$$"
      ],
      "text/plain": [
       "(a, b, c, x, y, z)"
      ]
     },
     "execution_count": 73,
     "metadata": {},
     "output_type": "execute_result"
    }
   ],
   "source": [
    "var('a b c x y z') "
   ]
  },
  {
   "cell_type": "code",
   "execution_count": 74,
   "metadata": {},
   "outputs": [],
   "source": [
    "var('r c t');y = function('y')(t)\n",
    "de = y + r*c*diff(y,t) == 0\n",
    "des = desolve(de,[y,t],[0,1]);#show(des)"
   ]
  },
  {
   "cell_type": "code",
   "execution_count": 75,
   "metadata": {},
   "outputs": [],
   "source": [
    "f(t,r,c) = des\n",
    "#plot(f(t,1,1),(t,0,5),figsize=(4,3))%display latex"
   ]
  },
  {
   "cell_type": "code",
   "execution_count": 76,
   "metadata": {},
   "outputs": [],
   "source": [
    "f(t,a,b,r,c) = (a-b) * des + b"
   ]
  },
  {
   "cell_type": "code",
   "execution_count": 77,
   "metadata": {},
   "outputs": [],
   "source": [
    "#lbl = text(\"$RC, Circuit, r = 10000\\\\Omega, c = 100\\\\mu f $\",\n",
    "#(3,3),fontsize=8,rgbcolor='#006000');p = plot(f(t,0,10,10000,100e-6),\n",
    "#(t,0,5), figsize=(4,3),axes_labels=['time','v'])\n",
    "#show(p+lbl,figsize=3,axes=False,fontsize=6,frame=True,\n",
    " #   gridlines=\"major\")"
   ]
  },
  {
   "cell_type": "code",
   "execution_count": null,
   "metadata": {},
   "outputs": [],
   "source": []
  },
  {
   "cell_type": "code",
   "execution_count": null,
   "metadata": {},
   "outputs": [],
   "source": []
  },
  {
   "cell_type": "code",
   "execution_count": null,
   "metadata": {},
   "outputs": [],
   "source": []
  }
 ],
 "metadata": {
  "kernelspec": {
   "display_name": "SageMath 9.5",
   "language": "sage",
   "name": "sagemath"
  },
  "language_info": {
   "codemirror_mode": {
    "name": "ipython",
    "version": 3
   },
   "file_extension": ".py",
   "mimetype": "text/x-python",
   "name": "python",
   "nbconvert_exporter": "python",
   "pygments_lexer": "ipython3",
   "version": "3.10.4"
  }
 },
 "nbformat": 4,
 "nbformat_minor": 2
}
