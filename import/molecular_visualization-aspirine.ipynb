{
 "cells": [
  {
   "cell_type": "code",
   "execution_count": null,
   "metadata": {},
   "outputs": [],
   "source": [
    "%matplotlib inline"
   ]
  },
  {
   "cell_type": "markdown",
   "metadata": {},
   "source": [
    "\n",
    "# Molecular visualization of caffeine\n",
    "\n",
    ".. currentmodule:: biotite.structure.graphics\n",
    "\n",
    "*Biotite* provides simple interactive molecular visualization via\n",
    ":func:`plot_atoms()`.\n",
    "Although it does not produce publication-suitable images,\n",
    "this function can be a convenient tool for a quick visual analysis of a\n",
    "structure.\n",
    "\n",
    "This example displays the small molecule caffeine.\n"
   ]
  },
  {
   "cell_type": "code",
   "execution_count": null,
   "metadata": {},
   "outputs": [],
   "source": [
    "# Code source: Patrick Kunzmann\n",
    "# License: BSD 3 clause\n",
    "\n",
    "import numpy as np\n",
    "import matplotlib.pyplot as plt\n",
    "from matplotlib.animation import FuncAnimation\n",
    "import biotite.structure as struc\n",
    "import biotite.structure.info as info\n",
    "import biotite.structure.graphics as graphics\n",
    "\n",
    "\n",
    "# Get an atom array for caffeine\n",
    "# Caffeine has the PDB reside name 'CFF'\n",
    "caffeine = info.residue(\"CFF\")\n",
    "\n",
    "# For cosmetic purposes align central rings to x-y plane\n",
    "n1 = caffeine[caffeine.atom_name == \"N1\"][0]\n",
    "n3 = caffeine[caffeine.atom_name == \"N3\"][0]\n",
    "n7 = caffeine[caffeine.atom_name == \"N7\"][0]\n",
    "# Normal vector of ring plane\n",
    "normal = np.cross(n1.coord - n3.coord, n1.coord - n7.coord)\n",
    "# Align ring plane normal to z-axis\n",
    "caffeine = struc.align_vectors(caffeine, normal, np.array([0,0,1]))\n",
    "\n",
    "# Caffeine should be colored by element\n",
    "colors = np.zeros((caffeine.array_length(), 3))\n",
    "colors[caffeine.element == \"H\"] = (0.8, 0.8, 0.8) # gray\n",
    "colors[caffeine.element == \"C\"] = (0.0, 0.8, 0.0) # green\n",
    "colors[caffeine.element == \"N\"] = (0.0, 0.0, 0.8) # blue\n",
    "colors[caffeine.element == \"O\"] = (0.8, 0.0, 0.0) # red\n",
    "\n",
    "fig = plt.figure(figsize=(8.0, 8.0))\n",
    "ax = fig.add_subplot(111, projection=\"3d\")\n",
    "graphics.plot_atoms(\n",
    "    ax, caffeine, colors, line_width=5, background_color=\"white\",\n",
    "    zoom=1.5\n",
    ")\n",
    "fig.tight_layout()\n",
    "\n",
    "# Create an animation that rotates the molecule about the x-axis \n",
    "def update(angle):\n",
    "    ax.elev = angle\n",
    "\n",
    "FPS = 50\n",
    "DURATION = 4\n",
    "angles = np.linspace(-180, 180, DURATION * FPS)\n",
    "# Start at 90 degrees\n",
    "angles = np.concatenate([\n",
    "    np.linspace(  90, 180, int(DURATION * FPS * 1/4)),\n",
    "    np.linspace(-180, 90,  int(DURATION * FPS * 3/4))\n",
    "])\n",
    "animation = FuncAnimation(fig, update, angles, interval=int(1000/FPS))\n",
    "plt.show()"
   ]
  }
 ],
 "metadata": {
  "kernelspec": {
   "display_name": "Python 3 (ipykernel)",
   "language": "python",
   "name": "python3"
  },
  "language_info": {
   "codemirror_mode": {
    "name": "ipython",
    "version": 3
   },
   "file_extension": ".py",
   "mimetype": "text/x-python",
   "name": "python",
   "nbconvert_exporter": "python",
   "pygments_lexer": "ipython3",
   "version": "3.10.6"
  },
  "vscode": {
   "interpreter": {
    "hash": "a55026226417443086534f1809aecac630782816174b11ce7c49d20817bb9bbc"
   }
  }
 },
 "nbformat": 4,
 "nbformat_minor": 1
}
