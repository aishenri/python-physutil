{
 "cells": [
  {
   "cell_type": "code",
   "execution_count": 1,
   "id": "73998be7",
   "metadata": {
    "scrolled": true
   },
   "outputs": [
    {
     "data": {
      "text/html": [
       "<html><script type=\"math/tex; mode=display\">\\newcommand{\\Bold}[1]{\\mathbf{#1}}Vitesse \\ de \\ la \\ lumière : </script></html>"
      ],
      "text/latex": [
       "$$\\newcommand{\\Bold}[1]{\\mathbf{#1}}Vitesse \\ de \\ la \\ lumière : $$"
      ],
      "text/plain": [
       "Vitesse \\ de \\ la \\ lumière : "
      ]
     },
     "metadata": {},
     "output_type": "display_data"
    },
    {
     "data": {
      "text/html": [
       "<html><script type=\"math/tex; mode=display\">\\newcommand{\\Bold}[1]{\\mathbf{#1}}c=\\frac{1}{\\sqrt \\mu \\epsilon}= 299792458 \\verb| |\\verb|m/s|</script></html>"
      ],
      "text/latex": [
       "$$\\newcommand{\\Bold}[1]{\\mathbf{#1}}c=\\frac{1}{\\sqrt \\mu \\epsilon}= 299792458 \\verb| |\\verb|m/s|$$"
      ],
      "text/plain": [
       "c=\\frac{1}{\\sqrt \\mu \\epsilon}= 299792458 ' m/s'"
      ]
     },
     "metadata": {},
     "output_type": "display_data"
    },
    {
     "data": {
      "text/html": [
       "<html><script type=\"math/tex; mode=display\">\\newcommand{\\Bold}[1]{\\mathbf{#1}}Constante \\ cosmologique : </script></html>"
      ],
      "text/latex": [
       "$$\\newcommand{\\Bold}[1]{\\mathbf{#1}}Constante \\ cosmologique : $$"
      ],
      "text/plain": [
       "Constante \\ cosmologique : "
      ]
     },
     "metadata": {},
     "output_type": "display_data"
    },
    {
     "data": {
      "text/html": [
       "<html><script type=\"math/tex; mode=display\">\\newcommand{\\Bold}[1]{\\mathbf{#1}}\\Lambda=\\frac{8\\pi G \\rho_\\Lambda}\\\n",
       "{c^2}= 4.16538957764143 \\times 10^{-53} m^{-2}</script></html>"
      ],
      "text/latex": [
       "$$\\newcommand{\\Bold}[1]{\\mathbf{#1}}\\Lambda=\\frac{8\\pi G \\rho_\\Lambda}\\\n",
       "{c^2}= 4.16538957764143 \\times 10^{-53} m^{-2}$$"
      ],
      "text/plain": [
       "\\Lambda=\\frac{8\\pi G \\rho_\\Lambda}\\\n",
       "{c^2}= 4.16538957764143e-53 m^{-2}"
      ]
     },
     "metadata": {},
     "output_type": "display_data"
    },
    {
     "data": {
      "text/html": [
       "<html><script type=\"math/tex; mode=display\">\\newcommand{\\Bold}[1]{\\mathbf{#1}}L_p=ct_p=\\sqrt \\frac{\\hbar G}{c^3}\\\n",
       "= 1.61619077108993 \\times 10^{-35} m</script></html>"
      ],
      "text/latex": [
       "$$\\newcommand{\\Bold}[1]{\\mathbf{#1}}L_p=ct_p=\\sqrt \\frac{\\hbar G}{c^3}\\\n",
       "= 1.61619077108993 \\times 10^{-35} m$$"
      ],
      "text/plain": [
       "L_p=ct_p=\\sqrt \\frac{\\hbar G}{c^3}\\\n",
       "= 1.61619077108993e-35 m"
      ]
     },
     "metadata": {},
     "output_type": "display_data"
    },
    {
     "data": {
      "text/html": [
       "<html><script type=\"math/tex; mode=display\">\\newcommand{\\Bold}[1]{\\mathbf{#1}}m_u=\\frac{c^3}{G H_0}\\\n",
       "= 1.72621950475882 \\times 10^{53} kg</script></html>"
      ],
      "text/latex": [
       "$$\\newcommand{\\Bold}[1]{\\mathbf{#1}}m_u=\\frac{c^3}{G H_0}\\\n",
       "= 1.72621950475882 \\times 10^{53} kg$$"
      ],
      "text/plain": [
       "m_u=\\frac{c^3}{G H_0}\\\n",
       "= 1.72621950475882e53 kg"
      ]
     },
     "metadata": {},
     "output_type": "display_data"
    },
    {
     "data": {
      "text/html": [
       "<html><script type=\"math/tex; mode=display\">\\newcommand{\\Bold}[1]{\\mathbf{#1}}G=\\frac{c^2 r_e \\alpha^{20}}\\\n",
       "{m_e \\beta}= 6.68712011993901 \\times 10^{-11} \\frac{m^3}{kg\\cdot s^2}</script></html>"
      ],
      "text/latex": [
       "$$\\newcommand{\\Bold}[1]{\\mathbf{#1}}G=\\frac{c^2 r_e \\alpha^{20}}\\\n",
       "{m_e \\beta}= 6.68712011993901 \\times 10^{-11} \\frac{m^3}{kg\\cdot s^2}$$"
      ],
      "text/plain": [
       "G=\\frac{c^2 r_e \\alpha^{20}}\\\n",
       "{m_e \\beta}= 6.68712011993901e-11 \\frac{m^3}{kg\\cdot s^2}"
      ]
     },
     "metadata": {},
     "output_type": "display_data"
    },
    {
     "data": {
      "text/html": [
       "<html><script type=\"math/tex; mode=display\">\\newcommand{\\Bold}[1]{\\mathbf{#1}}\\frac{1 Parsec=96939420213600000}{\\pi}= 3.08567758149137 \\times 10^{22} m</script></html>"
      ],
      "text/latex": [
       "$$\\newcommand{\\Bold}[1]{\\mathbf{#1}}\\frac{1 Parsec=96939420213600000}{\\pi}= 3.08567758149137 \\times 10^{22} m$$"
      ],
      "text/plain": [
       "\\frac{1 Parsec=96939420213600000}{\\pi}= 3.08567758149137e22 m"
      ]
     },
     "metadata": {},
     "output_type": "display_data"
    }
   ],
   "source": [
    "%run unite.ipynb"
   ]
  },
  {
   "cell_type": "markdown",
   "id": "8499eaf0",
   "metadata": {},
   "source": [
    "On peut arondir 1 Parsec à 3E22 mètres ou à $\\pi^{+22}$ mètres, ça n'a aucune importance sur des grands nombres de cette taille !\n",
    "\n",
    "Ce qui important c'est le nombre de zéro"
   ]
  },
  {
   "cell_type": "code",
   "execution_count": null,
   "id": "c703d266",
   "metadata": {},
   "outputs": [],
   "source": []
  }
 ],
 "metadata": {
  "kernelspec": {
   "display_name": "SageMath 9.5",
   "language": "sage",
   "name": "sagemath"
  },
  "language_info": {
   "codemirror_mode": {
    "name": "ipython",
    "version": 3
   },
   "file_extension": ".py",
   "mimetype": "text/x-python",
   "name": "python",
   "nbconvert_exporter": "python",
   "pygments_lexer": "ipython3",
   "version": "3.10.4"
  }
 },
 "nbformat": 4,
 "nbformat_minor": 5
}
