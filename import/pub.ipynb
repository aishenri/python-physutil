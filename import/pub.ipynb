{
 "cells": [
  {
   "cell_type": "code",
   "execution_count": 1,
   "id": "9a34bc5d",
   "metadata": {},
   "outputs": [
    {
     "data": {
      "text/html": [
       "<style type=\"text/css\">\n",
       "table.dataframe td, table.dataframe th{border: 1px \n",
       "black solid ! important;color:black !important;}\n"
      ],
      "text/plain": [
       "<IPython.core.display.HTML object>"
      ]
     },
     "metadata": {},
     "output_type": "display_data"
    }
   ],
   "source": [
    "%%HTML\n",
    "<style type=\"text/css\">\n",
    "table.dataframe td, table.dataframe th{border: 1px \n",
    "black solid ! important;color:black !important;}"
   ]
  },
  {
   "cell_type": "code",
   "execution_count": 2,
   "id": "6199a677",
   "metadata": {},
   "outputs": [
    {
     "data": {
      "application/3dmoljs_load.v0": "<div id=\"3dmolviewer_16662766916613653\"  style=\"position: relative; width: 300px; height: 300px\">\n        <p id=\"3dmolwarning_16662766916613653\" style=\"background-color:#ffcccc;color:black\">You appear to be running in JupyterLab (or JavaScript failed to load for some other reason).  You need to install the 3dmol extension: <br>\n        <tt>jupyter labextension install jupyterlab_3dmol</tt></p>\n        </div>\n<script>\n\nvar loadScriptAsync = function(uri){\n  return new Promise((resolve, reject) => {\n    var tag = document.createElement('script');\n    tag.src = uri;\n    tag.async = true;\n    tag.onload = () => {\n      resolve();\n    };\n  var firstScriptTag = document.getElementsByTagName('script')[0];\n  firstScriptTag.parentNode.insertBefore(tag, firstScriptTag);\n});\n};\n\nif(typeof $3Dmolpromise === 'undefined') {\n$3Dmolpromise = null;\n  $3Dmolpromise = loadScriptAsync('https://3dmol.csb.pitt.edu/build/3Dmol.js');\n}\n\nvar viewer_16662766916613653 = null;\nvar warn = document.getElementById(\"3dmolwarning_16662766916613653\");\nif(warn) {\n    warn.parentNode.removeChild(warn);\n}\n$3Dmolpromise.then(function() {\nviewer_16662766916613653 = $3Dmol.createViewer($(\"#3dmolviewer_16662766916613653\"),{backgroundColor:\"white\"});\n$3Dmol.download(\"cid:750\", viewer_16662766916613653, {}, function() {\n\tviewer_16662766916613653.setStyle({\"stick\": {\"radius\": 0.05}, \"sphere\": {\"scale\": 0.25}});\nviewer_16662766916613653.render();\n})\n});\n</script>",
      "text/html": [
       "<div id=\"3dmolviewer_16662766916613653\"  style=\"position: relative; width: 300px; height: 300px\">\n",
       "        <p id=\"3dmolwarning_16662766916613653\" style=\"background-color:#ffcccc;color:black\">You appear to be running in JupyterLab (or JavaScript failed to load for some other reason).  You need to install the 3dmol extension: <br>\n",
       "        <tt>jupyter labextension install jupyterlab_3dmol</tt></p>\n",
       "        </div>\n",
       "<script>\n",
       "\n",
       "var loadScriptAsync = function(uri){\n",
       "  return new Promise((resolve, reject) => {\n",
       "    var tag = document.createElement('script');\n",
       "    tag.src = uri;\n",
       "    tag.async = true;\n",
       "    tag.onload = () => {\n",
       "      resolve();\n",
       "    };\n",
       "  var firstScriptTag = document.getElementsByTagName('script')[0];\n",
       "  firstScriptTag.parentNode.insertBefore(tag, firstScriptTag);\n",
       "});\n",
       "};\n",
       "\n",
       "if(typeof $3Dmolpromise === 'undefined') {\n",
       "$3Dmolpromise = null;\n",
       "  $3Dmolpromise = loadScriptAsync('https://3dmol.csb.pitt.edu/build/3Dmol.js');\n",
       "}\n",
       "\n",
       "var viewer_16662766916613653 = null;\n",
       "var warn = document.getElementById(\"3dmolwarning_16662766916613653\");\n",
       "if(warn) {\n",
       "    warn.parentNode.removeChild(warn);\n",
       "}\n",
       "$3Dmolpromise.then(function() {\n",
       "viewer_16662766916613653 = $3Dmol.createViewer($(\"#3dmolviewer_16662766916613653\"),{backgroundColor:\"white\"});\n",
       "$3Dmol.download(\"cid:750\", viewer_16662766916613653, {}, function() {\n",
       "\tviewer_16662766916613653.setStyle({\"stick\": {\"radius\": 0.05}, \"sphere\": {\"scale\": 0.25}});\n",
       "viewer_16662766916613653.render();\n",
       "})\n",
       "});\n",
       "</script>"
      ]
     },
     "metadata": {},
     "output_type": "display_data"
    },
    {
     "data": {
      "text/plain": [
       "<py3Dmol.view at 0x198a7ac24f0>"
      ]
     },
     "execution_count": 2,
     "metadata": {},
     "output_type": "execute_result"
    }
   ],
   "source": [
    "import py3Dmol;import pubchempy as pcp\n",
    "gly=pcp.get_compounds(\n",
    "'gly', 'name')[0]\n",
    "x=py3Dmol.view(query='cid:{}'.format(\n",
    "gly.cid), width=300,\n",
    "height=300).setStyle({'stick': {\n",
    "'radius': .05},'sphere': {'scale': 0.25}});x"
   ]
  },
  {
   "cell_type": "code",
   "execution_count": 3,
   "id": "aa90caa4",
   "metadata": {},
   "outputs": [],
   "source": [
    "results = pcp.get_compounds('Gly', 'name');#print(results)"
   ]
  },
  {
   "cell_type": "code",
   "execution_count": 4,
   "id": "ce8acb99",
   "metadata": {},
   "outputs": [],
   "source": [
    "#for compound in results:\n",
    "#    print(compound.isomeric_smiles)"
   ]
  },
  {
   "cell_type": "code",
   "execution_count": 5,
   "id": "f6ec7799",
   "metadata": {},
   "outputs": [
    {
     "data": {
      "text/html": [
       "<div>\n",
       "<style scoped>\n",
       "    .dataframe tbody tr th:only-of-type {\n",
       "        vertical-align: middle;\n",
       "    }\n",
       "\n",
       "    .dataframe tbody tr th {\n",
       "        vertical-align: top;\n",
       "    }\n",
       "\n",
       "    .dataframe thead th {\n",
       "        text-align: right;\n",
       "    }\n",
       "</style>\n",
       "<table border=\"1\" class=\"dataframe\">\n",
       "  <thead>\n",
       "    <tr style=\"text-align: right;\">\n",
       "      <th></th>\n",
       "      <th>iupac_name</th>\n",
       "      <th>molecular_formula</th>\n",
       "      <th>canonical_smiles</th>\n",
       "      <th>inchi</th>\n",
       "    </tr>\n",
       "    <tr>\n",
       "      <th>cid</th>\n",
       "      <th></th>\n",
       "      <th></th>\n",
       "      <th></th>\n",
       "      <th></th>\n",
       "    </tr>\n",
       "  </thead>\n",
       "  <tbody>\n",
       "    <tr>\n",
       "      <th>944</th>\n",
       "      <td>nitric acid</td>\n",
       "      <td>HNO3</td>\n",
       "      <td>[N+](=O)(O)[O-]</td>\n",
       "      <td>InChI=1S/HNO3/c2-1(3)4/h(H,2,3,4)</td>\n",
       "    </tr>\n",
       "    <tr>\n",
       "      <th>123349</th>\n",
       "      <td>hydroxy nitrite</td>\n",
       "      <td>HNO3</td>\n",
       "      <td>N(=O)OO</td>\n",
       "      <td>InChI=1S/HNO3/c2-1-4-3/h3H</td>\n",
       "    </tr>\n",
       "    <tr>\n",
       "      <th>12025424</th>\n",
       "      <td>deuterio nitrate</td>\n",
       "      <td>HNO3</td>\n",
       "      <td>[N+](=O)(O)[O-]</td>\n",
       "      <td>InChI=1S/HNO3/c2-1(3)4/h(H,2,3,4)/i/hD</td>\n",
       "    </tr>\n",
       "  </tbody>\n",
       "</table>\n",
       "</div>"
      ],
      "text/plain": [
       "                iupac_name molecular_formula canonical_smiles  \\\n",
       "cid                                                             \n",
       "944            nitric acid              HNO3  [N+](=O)(O)[O-]   \n",
       "123349     hydroxy nitrite              HNO3          N(=O)OO   \n",
       "12025424  deuterio nitrate              HNO3  [N+](=O)(O)[O-]   \n",
       "\n",
       "                                           inchi  \n",
       "cid                                               \n",
       "944            InChI=1S/HNO3/c2-1(3)4/h(H,2,3,4)  \n",
       "123349                InChI=1S/HNO3/c2-1-4-3/h3H  \n",
       "12025424  InChI=1S/HNO3/c2-1(3)4/h(H,2,3,4)/i/hD  "
      ]
     },
     "execution_count": 5,
     "metadata": {},
     "output_type": "execute_result"
    }
   ],
   "source": [
    "nitric_acid_df = pcp.get_compounds('HNO3', 'formula', as_dataframe=True)[:3]\n",
    "nitric_acid_df[['iupac_name', 'molecular_formula', 'canonical_smiles', 'inchi']]"
   ]
  },
  {
   "cell_type": "code",
   "execution_count": 6,
   "id": "242a341e",
   "metadata": {},
   "outputs": [
    {
     "data": {
      "text/html": [
       "<div>\n",
       "<style scoped>\n",
       "    .dataframe tbody tr th:only-of-type {\n",
       "        vertical-align: middle;\n",
       "    }\n",
       "\n",
       "    .dataframe tbody tr th {\n",
       "        vertical-align: top;\n",
       "    }\n",
       "\n",
       "    .dataframe thead th {\n",
       "        text-align: right;\n",
       "    }\n",
       "</style>\n",
       "<table border=\"1\" class=\"dataframe\">\n",
       "  <thead>\n",
       "    <tr style=\"text-align: right;\">\n",
       "      <th></th>\n",
       "      <th>iupac_name</th>\n",
       "      <th>molecular_formula</th>\n",
       "      <th>canonical_smiles</th>\n",
       "      <th>inchi</th>\n",
       "    </tr>\n",
       "    <tr>\n",
       "      <th>cid</th>\n",
       "      <th></th>\n",
       "      <th></th>\n",
       "      <th></th>\n",
       "      <th></th>\n",
       "    </tr>\n",
       "  </thead>\n",
       "  <tbody>\n",
       "    <tr>\n",
       "      <th>750</th>\n",
       "      <td>2-aminoacetic acid</td>\n",
       "      <td>C2H5NO2</td>\n",
       "      <td>C(C(=O)O)N</td>\n",
       "      <td>InChI=1S/C2H5NO2/c3-1-2(4)5/h1,3H2,(H,4,5)</td>\n",
       "    </tr>\n",
       "  </tbody>\n",
       "</table>\n",
       "</div>"
      ],
      "text/plain": [
       "             iupac_name molecular_formula canonical_smiles  \\\n",
       "cid                                                          \n",
       "750  2-aminoacetic acid           C2H5NO2       C(C(=O)O)N   \n",
       "\n",
       "                                          inchi  \n",
       "cid                                              \n",
       "750  InChI=1S/C2H5NO2/c3-1-2(4)5/h1,3H2,(H,4,5)  "
      ]
     },
     "execution_count": 6,
     "metadata": {},
     "output_type": "execute_result"
    }
   ],
   "source": [
    "glydf= pcp.get_compounds('GLY', 'name', as_dataframe=True)[:3]\n",
    "glydf[['iupac_name', 'molecular_formula', 'canonical_smiles', 'inchi']]"
   ]
  },
  {
   "cell_type": "code",
   "execution_count": 7,
   "id": "b6af6c15",
   "metadata": {},
   "outputs": [
    {
     "data": {
      "text/plain": [
       "'2-aminoacetic acid'"
      ]
     },
     "execution_count": 7,
     "metadata": {},
     "output_type": "execute_result"
    }
   ],
   "source": [
    "pcp.get_compounds(\"InChI=1S/C2H5NO2/c3-1-2(4)5/h1,3H2,(H,4,5)\",\"inchi\",\n",
    "                  as_dataframe=True).iloc[0]['iupac_name']"
   ]
  },
  {
   "cell_type": "code",
   "execution_count": 8,
   "id": "67b1108d",
   "metadata": {},
   "outputs": [
    {
     "ename": "ModuleNotFoundError",
     "evalue": "No module named 'chembl_webresource_client'",
     "output_type": "error",
     "traceback": [
      "\u001b[1;31m---------------------------------------------------------------------------\u001b[0m",
      "\u001b[1;31mModuleNotFoundError\u001b[0m                       Traceback (most recent call last)",
      "Input \u001b[1;32mIn [8]\u001b[0m, in \u001b[0;36m<cell line: 1>\u001b[1;34m()\u001b[0m\n\u001b[1;32m----> 1\u001b[0m \u001b[38;5;28;01mfrom\u001b[39;00m \u001b[38;5;21;01mchembl_webresource_client\u001b[39;00m\u001b[38;5;21;01m.\u001b[39;00m\u001b[38;5;21;01mnew_client\u001b[39;00m \u001b[38;5;28;01mimport\u001b[39;00m new_client\n\u001b[0;32m      2\u001b[0m molecule \u001b[38;5;241m=\u001b[39m new_client\u001b[38;5;241m.\u001b[39mmolecule\n\u001b[0;32m      3\u001b[0m gli \u001b[38;5;241m=\u001b[39m molecule\u001b[38;5;241m.\u001b[39msearch(\u001b[38;5;124m'\u001b[39m\u001b[38;5;124mgly\u001b[39m\u001b[38;5;124m'\u001b[39m)\n",
      "\u001b[1;31mModuleNotFoundError\u001b[0m: No module named 'chembl_webresource_client'"
     ]
    }
   ],
   "source": [
    "from chembl_webresource_client.new_client import new_client\n",
    "molecule = new_client.molecule\n",
    "gli = molecule.search('gly')"
   ]
  },
  {
   "cell_type": "code",
   "execution_count": 9,
   "id": "bd67dee5",
   "metadata": {},
   "outputs": [
    {
     "ename": "ModuleNotFoundError",
     "evalue": "No module named 'pypdb'",
     "output_type": "error",
     "traceback": [
      "\u001b[1;31m---------------------------------------------------------------------------\u001b[0m",
      "\u001b[1;31mModuleNotFoundError\u001b[0m                       Traceback (most recent call last)",
      "Input \u001b[1;32mIn [9]\u001b[0m, in \u001b[0;36m<cell line: 1>\u001b[1;34m()\u001b[0m\n\u001b[1;32m----> 1\u001b[0m \u001b[38;5;28;01mimport\u001b[39;00m \u001b[38;5;21;01mpypdb\u001b[39;00m\n",
      "\u001b[1;31mModuleNotFoundError\u001b[0m: No module named 'pypdb'"
     ]
    }
   ],
   "source": [
    "import pypdb;#pypdb.Query('gly').search()"
   ]
  },
  {
   "cell_type": "code",
   "execution_count": null,
   "id": "e9c2a86a",
   "metadata": {},
   "outputs": [],
   "source": [
    "from rdkit import Chem;from rdkit.Chem import Draw\n",
    "compound_smiles = 'c1cc(C(=O)O)c(OC(=O)C)cc1'\n",
    "m = Chem.MolFromSmiles(compound_smiles)\n",
    "im=Draw.MolToImage(m)"
   ]
  },
  {
   "cell_type": "code",
   "execution_count": null,
   "id": "0c89a50d",
   "metadata": {},
   "outputs": [],
   "source": [
    "Draw.MolToFile(m,\"mol.png\")"
   ]
  },
  {
   "cell_type": "code",
   "execution_count": null,
   "id": "6f71287b",
   "metadata": {},
   "outputs": [],
   "source": [
    "import pubchempy as pcp;import pandas as pd"
   ]
  },
  {
   "cell_type": "code",
   "execution_count": null,
   "id": "ef0fb7a3",
   "metadata": {},
   "outputs": [],
   "source": [
    "prop = pcp.get_properties(['MolecularFormula', 'MolecularWeight', 'CanonicalSMILES', 'IsomericSMILES',\n",
    "'InChI', 'InChIKey', 'IUPACName'],'CN1N=C(C=C1C(F)(F)F)C1=CC=C(S1)C1=CC=NC(SCC(=O)NC2=CC=C(Cl)C=C2)=N1', 'smiles')"
   ]
  },
  {
   "cell_type": "code",
   "execution_count": null,
   "id": "72aaaaf1",
   "metadata": {},
   "outputs": [],
   "source": [
    "from rdkit import Chem\n",
    "from rdkit.Chem import AllChem\n",
    "from rdkit import RDConfig\n",
    "from rdkit.Chem.Draw import IPythonConsole \n",
    "from rdkit.Chem import Draw\n",
    "import numpy as np\n",
    "from IPython.display import display,Image"
   ]
  },
  {
   "cell_type": "code",
   "execution_count": null,
   "id": "15eecf8c",
   "metadata": {},
   "outputs": [],
   "source": [
    "from tqdm import tqdm, trange\n",
    "import rdkit.Chem.Lipinski as Lipinksy"
   ]
  },
  {
   "cell_type": "code",
   "execution_count": null,
   "id": "7c71cfd0",
   "metadata": {},
   "outputs": [],
   "source": [
    "def lipinsky(smiles):\n",
    "    return (Lipinksy.NumHDonors(smiles),\n",
    "            Lipinksy.NumHAcceptors(smiles),\n",
    "            Lipinksy.rdMolDescriptors.CalcExactMolWt(smiles),\n",
    "            Lipinksy.rdMolDescriptors.CalcCrippenDescriptors(smiles)[0])\n",
    "def is_lipinsky(smiles, ideal=(5, 10, 500, 5)):\n",
    "    return all(i < j for i, j in zip(lipinsky(smiles), ideal))"
   ]
  },
  {
   "cell_type": "code",
   "execution_count": null,
   "id": "e750b92f",
   "metadata": {},
   "outputs": [],
   "source": [
    "ibu=Chem.MolFromSmiles('CC(C)CC1=CC=C(C=C1)C(C)C(=O)O')\n",
    "AllChem.Compute2DCoords(ibu)\n",
    "#display(ibu)"
   ]
  },
  {
   "cell_type": "code",
   "execution_count": null,
   "id": "9f75c058",
   "metadata": {},
   "outputs": [],
   "source": [
    "#display(Image('https://upload.wikimedia.org/wikipedia/commons/thumb/6/66/CuAAC.svg/768px-CuAAC.svg.png'))"
   ]
  },
  {
   "cell_type": "code",
   "execution_count": null,
   "id": "ed457739",
   "metadata": {},
   "outputs": [],
   "source": [
    "cl_ibu=Chem.MolFromSmiles('CC(C)CC1=CC=C(C=C1)C(Cl)(C)C(=O)O')\n",
    "AllChem.Compute2DCoords(cl_ibu)\n",
    "#display(cl_ibu)#"
   ]
  },
  {
   "cell_type": "code",
   "execution_count": null,
   "id": "02ffe87b",
   "metadata": {},
   "outputs": [],
   "source": [
    "al_ibu=Chem.MolFromSmiles('CC(C)CC1=CC=C(C=C1)C(C#C)(C)C(=O)O')\n",
    "AllChem.Compute2DCoords(al_ibu)\n",
    "#display(al_ibu)"
   ]
  },
  {
   "cell_type": "code",
   "execution_count": null,
   "id": "6cb59bbc",
   "metadata": {},
   "outputs": [],
   "source": [
    "al_ibu=Chem.MolFromSmiles('CC(C)CC1=CC=C(C=C1)C(C1=CN=NN1)(C)C(=O)O')\n",
    "AllChem.Compute2DCoords(al_ibu)\n",
    "#display(al_ibu)"
   ]
  },
  {
   "cell_type": "code",
   "execution_count": null,
   "id": "acaf2cdd",
   "metadata": {},
   "outputs": [],
   "source": [
    "template = Chem.MolFromSmiles('N1N=NC(=C1)C(C)(C(=O)O)C1=CC=C(C=C1)CC(C)C')\n",
    "AllChem.Compute2DCoords(template)\n",
    "#display(template)"
   ]
  },
  {
   "cell_type": "code",
   "execution_count": null,
   "id": "644e3b56",
   "metadata": {},
   "outputs": [],
   "source": [
    "azides = [Chem.MolFromSmiles('N=[N+]=[N-]'),\n",
    "          Chem.MolFromSmiles('N=[N+]=[NH]')]"
   ]
  },
  {
   "cell_type": "code",
   "execution_count": null,
   "id": "b36458f0",
   "metadata": {},
   "outputs": [],
   "source": [
    "template"
   ]
  },
  {
   "cell_type": "code",
   "execution_count": null,
   "id": "86a35dc8",
   "metadata": {},
   "outputs": [],
   "source": [
    "from PyBioMed.PyGetMol import Getmol\n",
    "DrugBankID = 'DB01014'"
   ]
  },
  {
   "cell_type": "code",
   "execution_count": null,
   "id": "f04115ff",
   "metadata": {},
   "outputs": [],
   "source": [
    "from PyBioMed.PyGetMol.Getmol import ReadMolFromSmile\n",
    "mol = ReadMolFromSmile('N[C@@H](CO)C(=O)O')"
   ]
  },
  {
   "cell_type": "code",
   "execution_count": null,
   "id": "dc3f3d30",
   "metadata": {},
   "outputs": [],
   "source": [
    "from PyBioMed.PyGetMol import GetProtein\n",
    "from PyBioMed.PyGetMol import GetDNA\n",
    "from PyBioMed.PyPretreat import PyPretreatPro\n",
    "protein=\"ADGCGVGEGTGQGPMCNCMCMKWVYADEDAADLESDSFADEDASLESDSFPWSNQRVFCSFADEDASU\"\n",
    "#print(PyPretreatPro.ProteinCheck(protein))"
   ]
  },
  {
   "cell_type": "code",
   "execution_count": null,
   "id": "f6a06835",
   "metadata": {},
   "outputs": [],
   "source": [
    "from PyBioMed.PyPretreat import PyPretreatPro\n",
    "protein=\"ADGCRN\"\n",
    "#print(PyPretreatPro.ProteinCheck(protein))"
   ]
  },
  {
   "cell_type": "code",
   "execution_count": null,
   "id": "025385fe",
   "metadata": {},
   "outputs": [],
   "source": [
    "from PyBioMed.PyPretreat import PyPretreatDNA\n",
    "DNA=\"ATTTAC\"\n",
    "#print(PyPretreatDNA.DNAChecks(DNA))"
   ]
  },
  {
   "cell_type": "code",
   "execution_count": null,
   "id": "1443853a",
   "metadata": {},
   "outputs": [],
   "source": [
    "DNA= \"ATCGUA\"\n",
    "#print(PyPretreatDNA.DNAChecks(DNA))"
   ]
  },
  {
   "cell_type": "code",
   "execution_count": null,
   "id": "caae360f",
   "metadata": {},
   "outputs": [],
   "source": []
  }
 ],
 "metadata": {
  "kernelspec": {
   "display_name": "Python 3 (ipykernel)",
   "language": "python",
   "name": "python3"
  },
  "language_info": {
   "codemirror_mode": {
    "name": "ipython",
    "version": 3
   },
   "file_extension": ".py",
   "mimetype": "text/x-python",
   "name": "python",
   "nbconvert_exporter": "python",
   "pygments_lexer": "ipython3",
   "version": "3.9.12"
  },
  "vscode": {
   "interpreter": {
    "hash": "a55026226417443086534f1809aecac630782816174b11ce7c49d20817bb9bbc"
   }
  }
 },
 "nbformat": 4,
 "nbformat_minor": 5
}
