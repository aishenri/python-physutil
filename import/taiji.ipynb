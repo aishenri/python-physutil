{
 "cells": [
  {
   "cell_type": "code",
   "execution_count": 3,
   "metadata": {},
   "outputs": [
    {
     "data": {
      "image/png": "[encoded data removed]",
      "text/plain": [
       "Graphics object consisting of 17 graphics primitives"
      ]
     },
     "metadata": {},
     "output_type": "display_data"
    }
   ],
   "source": [
    "def f(x):\n",
    "    if x<0:\n",
    "        return sqrt(-x^2-2*x)\n",
    "    else:\n",
    "        return -sqrt(-x^2+2*x)\n",
    "a=plot(f,(x,-2,2),color='white',fill=sqrt(4-x^2),\n",
    "fillcolor=\"black\",alpha=1)\n",
    "b=plot(f,(x,-2,2),color=\"white\",fill=-sqrt(4-x^2),\n",
    "fillcolor=\"red\",alpha=1)\n",
    "pn = polygon(((0,0),(0,1),(0.7,0.7)),\n",
    "             color=\"cyan\",alpha=0.9)\n",
    "ne = polygon(((0,0),(1,0),(0.7,0.7)),\n",
    "             color=\"violet\",alpha=0.9)\n",
    "so = polygon(((0,0),(-1,0),(-0.7,-0.7)),\n",
    "             color=\"red\",alpha=0.9)\n",
    "ps = polygon(((0,0),(0,-1),(0.7,-0.7)),\n",
    "             color=\"lightgreen\",alpha=0.9)\n",
    "sp = polygon(((0,0),(0,1),(-0.7,0.7)),\n",
    "             color=\"green\",alpha=0.9)\n",
    "se = polygon(((0,0),(1,0),(0.7,-0.7)),\n",
    "             color=\"salmon\",alpha=0.5)\n",
    "es = polygon(((0,0),(-1,0),(-0.7,0.7)),\n",
    "             color=\"yellow\",alpha=0.9)\n",
    "sn = polygon(((0,0),(0,-1),(-0.7,-0.7)),\n",
    "             color=\"blue\",alpha=0.9)\n",
    "#L = [[cos(pi*i/4),sin(pi*i/4)] for i in range(8)]\n",
    "np = polygon(((0,0),(0,8),(5.7,5.7)),\n",
    "             color=\"cyan\",alpha=0.5)\n",
    "gr = polygon(((0,0),(0,8),(-5.7,5.7)),\n",
    "             color=\"green\",alpha=0.9)\n",
    "en = polygon(((0,0),(8,0),(5.7,5.7)),\n",
    "             color=\"violet\",alpha=0.5)\n",
    "os = polygon(((0,0),(-8,0),(-5.7,-5.7)),\n",
    "             color=\"red\",alpha=0.9)\n",
    "sp = polygon(((0,0),(0,-8),(5.7,-5.7)),\n",
    "             color=\"lightgreen\",alpha=0.9)\n",
    "ka = polygon(((0,0),(8,0),(5.7,-5.7)),\n",
    "             color=\"salmon\",alpha=0.9)\n",
    "ja = polygon(((0,0),(-8,0),(-5.7,5.7)),\n",
    "             color=\"yellow\",alpha=0.9)\n",
    "bl = polygon(((0,0),(0,-8),(-5.7,-5.7)),\n",
    "             color=\"blue\",alpha=0.9)\n",
    "cc=circle((0,0),2,color=\"white\")\n",
    "show(np+en+os+sp+se+sn+sp+es+ka+gr+ja+bl+a+b+cc,\n",
    "     axes=False,fontsize=6,gridlines=False,figsize=3)"
   ]
  },
  {
   "cell_type": "markdown",
   "metadata": {},
   "source": [
    "p1=arc((0,0),1,angle=pi/7,sector=(pi/-7,pi/9))\n",
    "x=x;p=plot(x*1,x,0,0.71,color=\"green\")\n",
    "l1=line(((1,0),(0.71,0.71)),color=\"black\",        \n",
    "thickness=1,linestyle=\"--\");ci=circle((0,0,),1,color=\"red\")\n",
    "show(ci+p+p1+l1,gridlines=\"minor\",\n",
    "     figsize=5,fontsize=5)"
   ]
  },
  {
   "cell_type": "code",
   "execution_count": null,
   "metadata": {},
   "outputs": [],
   "source": []
  }
 ],
 "metadata": {
  "kernelspec": {
   "display_name": "SageMath 9.2",
   "language": "sage",
   "name": "sagemath"
  },
  "language_info": {
   "codemirror_mode": {
    "name": "ipython",
    "version": 3
   },
   "file_extension": ".py",
   "mimetype": "text/x-python",
   "name": "python",
   "nbconvert_exporter": "python",
   "pygments_lexer": "ipython3",
   "version": "3.7.7"
  }
 },
 "nbformat": 4,
 "nbformat_minor": 4
}
