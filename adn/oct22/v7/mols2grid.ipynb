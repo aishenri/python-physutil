{
 "cells": [
  {
   "cell_type": "code",
   "execution_count": 1,
   "id": "satisfactory-thanks",
   "metadata": {},
   "outputs": [],
   "source": [
    "import os\n",
    "import copy\n",
    "from rdkit import Chem\n",
    "from rdkit.Chem import RDConfig\n",
    "from rdkit.Chem import AllChem\n",
    "from rdkit.Chem import Draw\n",
    "from rdkit.Chem.Draw import rdDepictor, rdMolDraw2D\n",
    "opts = Draw.DrawingOptions()\n",
    "Draw.SetComicMode(opts)"
   ]
  },
  {
   "cell_type": "code",
   "execution_count": 2,
   "id": "suffering-egyptian",
   "metadata": {},
   "outputs": [
    {
     "ename": "OSError",
     "evalue": "File error: Bad input file /usr/share/RDKit/Docs/Book/data/cdk2.sdf",
     "output_type": "error",
     "traceback": [
      "\u001b[0;31m---------------------------------------------------------------------------\u001b[0m",
      "\u001b[0;31mOSError\u001b[0m                                   Traceback (most recent call last)",
      "\u001b[0;32m/tmp/ipykernel_8144/1973656196.py\u001b[0m in \u001b[0;36m<module>\u001b[0;34m\u001b[0m\n\u001b[1;32m      1\u001b[0m \u001b[0mpath\u001b[0m \u001b[0;34m=\u001b[0m \u001b[0mos\u001b[0m\u001b[0;34m.\u001b[0m\u001b[0mpath\u001b[0m\u001b[0;34m.\u001b[0m\u001b[0mjoin\u001b[0m\u001b[0;34m(\u001b[0m\u001b[0mRDConfig\u001b[0m\u001b[0;34m.\u001b[0m\u001b[0mRDDocsDir\u001b[0m\u001b[0;34m,\u001b[0m \u001b[0;34m'Book/data/cdk2.sdf'\u001b[0m\u001b[0;34m)\u001b[0m\u001b[0;34m\u001b[0m\u001b[0;34m\u001b[0m\u001b[0m\n\u001b[0;32m----> 2\u001b[0;31m \u001b[0mmols\u001b[0m \u001b[0;34m=\u001b[0m \u001b[0;34m[\u001b[0m\u001b[0mm\u001b[0m \u001b[0;32mfor\u001b[0m \u001b[0mm\u001b[0m \u001b[0;32min\u001b[0m \u001b[0mChem\u001b[0m\u001b[0;34m.\u001b[0m\u001b[0mSDMolSupplier\u001b[0m\u001b[0;34m(\u001b[0m\u001b[0mpath\u001b[0m\u001b[0;34m)\u001b[0m\u001b[0;34m]\u001b[0m\u001b[0;34m\u001b[0m\u001b[0;34m\u001b[0m\u001b[0m\n\u001b[0m\u001b[1;32m      3\u001b[0m \u001b[0mmols2D\u001b[0m \u001b[0;34m=\u001b[0m \u001b[0mcopy\u001b[0m\u001b[0;34m.\u001b[0m\u001b[0mdeepcopy\u001b[0m\u001b[0;34m(\u001b[0m\u001b[0mmols\u001b[0m\u001b[0;34m)\u001b[0m\u001b[0;34m\u001b[0m\u001b[0;34m\u001b[0m\u001b[0m\n\u001b[1;32m      4\u001b[0m \u001b[0;32mfor\u001b[0m \u001b[0mm\u001b[0m \u001b[0;32min\u001b[0m \u001b[0mmols2D\u001b[0m\u001b[0;34m:\u001b[0m\u001b[0;34m\u001b[0m\u001b[0;34m\u001b[0m\u001b[0m\n\u001b[1;32m      5\u001b[0m     \u001b[0mAllChem\u001b[0m\u001b[0;34m.\u001b[0m\u001b[0mCompute2DCoords\u001b[0m\u001b[0;34m(\u001b[0m\u001b[0mm\u001b[0m\u001b[0;34m)\u001b[0m\u001b[0;34m\u001b[0m\u001b[0;34m\u001b[0m\u001b[0m\n",
      "\u001b[0;31mOSError\u001b[0m: File error: Bad input file /usr/share/RDKit/Docs/Book/data/cdk2.sdf"
     ]
    }
   ],
   "source": [
    "path = os.path.join(RDConfig.RDDocsDir, 'Book/data/cdk2.sdf')\n",
    "mols = [m for m in Chem.SDMolSupplier(path)]\n",
    "mols2D = copy.deepcopy(mols)\n",
    "for m in mols2D:\n",
    "    AllChem.Compute2DCoords(m)"
   ]
  },
  {
   "cell_type": "markdown",
   "id": "rotary-constitution",
   "metadata": {},
   "source": [
    "#Draw molecules with default rdkit function"
   ]
  },
  {
   "cell_type": "code",
   "execution_count": null,
   "id": "precise-probability",
   "metadata": {},
   "outputs": [],
   "source": [
    "Draw.MolsToGridImage(mols2D[:10], molsPerRow=5)"
   ]
  },
  {
   "cell_type": "code",
   "execution_count": null,
   "id": "informative-lincoln",
   "metadata": {},
   "outputs": [],
   "source": [
    "import mols2grid"
   ]
  },
  {
   "cell_type": "code",
   "execution_count": null,
   "id": "standard-spiritual",
   "metadata": {},
   "outputs": [],
   "source": [
    "mols2grid.display(mols2D,\n",
    "                 # RDKit's MolDrawOptions parameters\n",
    "                  fixedBondLength=60,\n",
    "                  # rename fields for the output document\n",
    "                  subset=['id', 'img','Cluster'],\n",
    "                  tooltip=['id'],\n",
    "                  MolDrawingOptions=opts,\n",
    "                )"
   ]
  },
  {
   "cell_type": "markdown",
   "id": "sensitive-timing",
   "metadata": {},
   "source": [
    "# draw from file path"
   ]
  },
  {
   "cell_type": "code",
   "execution_count": null,
   "id": "inappropriate-detector",
   "metadata": {},
   "outputs": [],
   "source": [
    "mols2grid.display(path,\n",
    "                 # RDKit's MolDrawOptions parameters\n",
    "                  fixedBondLength=60,\n",
    "                  # rename fields for the output document\n",
    "                  subset=['id', 'img','Cluster'],\n",
    "                  tooltip=['id'],\n",
    "                  MolDrawingOptions=opts,\n",
    "                )"
   ]
  },
  {
   "cell_type": "markdown",
   "id": "amended-belfast",
   "metadata": {},
   "source": [
    "#Draw from pandas dataframe"
   ]
  },
  {
   "cell_type": "code",
   "execution_count": null,
   "id": "completed-minute",
   "metadata": {},
   "outputs": [],
   "source": [
    "import pandas as dpd\n",
    "from rdkit.Chem import PandasTools\n",
    "df = PandasTools.LoadSDF(path)\n",
    "df['SMILES'] = df['ROMol'].apply(Chem.MolToSmiles)\n",
    "mols2grid.display(df,\n",
    "                 # RDKit's MolDrawOptions parameters\n",
    "                  fixedBondLength=60,\n",
    "                  # rename fields for the output document\n",
    "                  subset=['id', 'img','Cluster'],\n",
    "                  tooltip=['id'],\n",
    "                  MolDrawingOptions=opts,\n",
    "                )"
   ]
  },
  {
   "cell_type": "code",
   "execution_count": null,
   "id": "major-choice",
   "metadata": {},
   "outputs": [],
   "source": [
    "print(mols2grid.selection)"
   ]
  },
  {
   "cell_type": "code",
   "execution_count": null,
   "id": "impressed-jacob",
   "metadata": {},
   "outputs": [],
   "source": [
    "print(mols2grid.utils.mol_to_record(mols2D[0]))"
   ]
  },
  {
   "cell_type": "code",
   "execution_count": null,
   "id": "simple-complement",
   "metadata": {},
   "outputs": [],
   "source": []
  }
 ],
 "metadata": {
  "kernelspec": {
   "display_name": "Python 3 (ipykernel)",
   "language": "python",
   "name": "python3"
  },
  "language_info": {
   "codemirror_mode": {
    "name": "ipython",
    "version": 3
   },
   "file_extension": ".py",
   "mimetype": "text/x-python",
   "name": "python",
   "nbconvert_exporter": "python",
   "pygments_lexer": "ipython3",
   "version": "3.10.7"
  }
 },
 "nbformat": 4,
 "nbformat_minor": 5
}
