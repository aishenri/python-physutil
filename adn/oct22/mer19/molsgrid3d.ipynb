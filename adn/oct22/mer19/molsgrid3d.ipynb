{
 "cells": [
  {
   "cell_type": "code",
   "execution_count": 1,
   "id": "3e806884",
   "metadata": {},
   "outputs": [
    {
     "data": {
      "text/html": [
       "<style type=\"text/css\">\n",
       "table.dataframe td, table.dataframe th{border: 1px \n",
       "black solid ! important;color:black !important;}\n",
       "%config InlineBackend.figure_format = 'svg'\n"
      ],
      "text/plain": [
       "<IPython.core.display.HTML object>"
      ]
     },
     "metadata": {},
     "output_type": "display_data"
    }
   ],
   "source": [
    "%%HTML\n",
    "<style type=\"text/css\">\n",
    "table.dataframe td, table.dataframe th{border: 1px \n",
    "black solid ! important;color:black !important;}\n",
    "%config InlineBackend.figure_format = 'svg'"
   ]
  },
  {
   "cell_type": "code",
   "execution_count": 2,
   "id": "ba8abea3",
   "metadata": {},
   "outputs": [],
   "source": [
    "import pandas as pd;import matplotlib.pyplot as plt\n",
    "%matplotlib inline"
   ]
  },
  {
   "cell_type": "code",
   "execution_count": 3,
   "id": "d9b8d780",
   "metadata": {},
   "outputs": [
    {
     "name": "stdout",
     "output_type": "stream",
     "text": [
      "Overwriting adn.csv\n"
     ]
    }
   ],
   "source": [
    "%%file adn.csv\n",
    "ADN ,A,T,C,G,U,SMILES\n",
    "Adenine,5,6,5,5,4,C1=NC2=NC=NC(=C2N1)\n",
    "Thymine,0,2,1,1,2,CC1=CNC(=O)NC1=O\n",
    "Cystine,5,2,3,5,2,C1=NC2=NC=NC(=C2N1)N\n",
    "Guanine,5,5,4,5,4,C1=NC2=C(N1)C(=O)NC(=N2)N\n",
    "Uracil,2,2,4,0,0,C1=CNC(=O)NC1=O"
   ]
  },
  {
   "cell_type": "code",
   "execution_count": 4,
   "id": "688eccf0",
   "metadata": {},
   "outputs": [
    {
     "data": {
      "application/3dmoljs_load.v0": "<div id=\"3dmolviewer_16650984136911476\"  style=\"position: relative; width: 300px; height: 300px\">\n        <p id=\"3dmolwarning_16650984136911476\" style=\"background-color:#ffcccc;color:black\">You appear to be running in JupyterLab (or JavaScript failed to load for some other reason).  You need to install the 3dmol extension: <br>\n        <tt>jupyter labextension install jupyterlab_3dmol</tt></p>\n        </div>\n<script>\n\nvar loadScriptAsync = function(uri){\n  return new Promise((resolve, reject) => {\n    var tag = document.createElement('script');\n    tag.src = uri;\n    tag.async = true;\n    tag.onload = () => {\n      resolve();\n    };\n  var firstScriptTag = document.getElementsByTagName('script')[0];\n  firstScriptTag.parentNode.insertBefore(tag, firstScriptTag);\n});\n};\n\nif(typeof $3Dmolpromise === 'undefined') {\n$3Dmolpromise = null;\n  $3Dmolpromise = loadScriptAsync('https://3dmol.org/build/3Dmol.js');\n}\n\nvar viewer_16650984136911476 = null;\nvar warn = document.getElementById(\"3dmolwarning_16650984136911476\");\nif(warn) {\n    warn.parentNode.removeChild(warn);\n}\n$3Dmolpromise.then(function() {\nviewer_16650984136911476 = $3Dmol.createViewer($(\"#3dmolviewer_16650984136911476\"),{backgroundColor:\"white\"});\n$3Dmol.download(\"cid:190\", viewer_16650984136911476, {}, function() {\nviewer_16650984136911476.zoomTo();\n\tviewer_16650984136911476.setStyle({\"stick\": {\"radius\": 0.05}, \"sphere\": {\"scale\": 0.25}});\nviewer_16650984136911476.render();\n})\n});\n</script>",
      "text/html": [
       "<div id=\"3dmolviewer_16650984136911476\"  style=\"position: relative; width: 300px; height: 300px\">\n",
       "        <p id=\"3dmolwarning_16650984136911476\" style=\"background-color:#ffcccc;color:black\">You appear to be running in JupyterLab (or JavaScript failed to load for some other reason).  You need to install the 3dmol extension: <br>\n",
       "        <tt>jupyter labextension install jupyterlab_3dmol</tt></p>\n",
       "        </div>\n",
       "<script>\n",
       "\n",
       "var loadScriptAsync = function(uri){\n",
       "  return new Promise((resolve, reject) => {\n",
       "    var tag = document.createElement('script');\n",
       "    tag.src = uri;\n",
       "    tag.async = true;\n",
       "    tag.onload = () => {\n",
       "      resolve();\n",
       "    };\n",
       "  var firstScriptTag = document.getElementsByTagName('script')[0];\n",
       "  firstScriptTag.parentNode.insertBefore(tag, firstScriptTag);\n",
       "});\n",
       "};\n",
       "\n",
       "if(typeof $3Dmolpromise === 'undefined') {\n",
       "$3Dmolpromise = null;\n",
       "  $3Dmolpromise = loadScriptAsync('https://3dmol.org/build/3Dmol.js');\n",
       "}\n",
       "\n",
       "var viewer_16650984136911476 = null;\n",
       "var warn = document.getElementById(\"3dmolwarning_16650984136911476\");\n",
       "if(warn) {\n",
       "    warn.parentNode.removeChild(warn);\n",
       "}\n",
       "$3Dmolpromise.then(function() {\n",
       "viewer_16650984136911476 = $3Dmol.createViewer($(\"#3dmolviewer_16650984136911476\"),{backgroundColor:\"white\"});\n",
       "$3Dmol.download(\"cid:190\", viewer_16650984136911476, {}, function() {\n",
       "viewer_16650984136911476.zoomTo();\n",
       "\tviewer_16650984136911476.setStyle({\"stick\": {\"radius\": 0.05}, \"sphere\": {\"scale\": 0.25}});\n",
       "viewer_16650984136911476.render();\n",
       "})\n",
       "});\n",
       "</script>"
      ]
     },
     "metadata": {},
     "output_type": "display_data"
    },
    {
     "data": {
      "text/plain": [
       "<py3Dmol.view at 0x7f1ec060bf10>"
      ]
     },
     "execution_count": 4,
     "metadata": {},
     "output_type": "execute_result"
    }
   ],
   "source": [
    "import py3Dmol;import pubchempy as pcp\n",
    "adenine=pcp.get_compounds(\n",
    "'adenine', 'name')[0]\n",
    "a=py3Dmol.view(query='cid:{}'.format(\n",
    "adenine.cid), width=300,\n",
    "height=300).setStyle({'stick': {\n",
    "'radius': .05},'sphere': {'scale': 0.25}});a"
   ]
  },
  {
   "cell_type": "code",
   "execution_count": 5,
   "id": "e7590784",
   "metadata": {},
   "outputs": [
    {
     "data": {
      "text/plain": [
       "('C1=NC2=NC=NC(=C2N1)N', 'C1=NC2=NC=NC(=C2N1)N')"
      ]
     },
     "execution_count": 5,
     "metadata": {},
     "output_type": "execute_result"
    }
   ],
   "source": [
    "adenin = pcp.get_compounds('adenine', 'name')[0]\n",
    "adenin.canonical_smiles,adenin.isomeric_smiles\n"
   ]
  },
  {
   "cell_type": "code",
   "execution_count": null,
   "id": "4478c39a",
   "metadata": {},
   "outputs": [],
   "source": []
  },
  {
   "cell_type": "code",
   "execution_count": null,
   "id": "37c1b7a0",
   "metadata": {},
   "outputs": [],
   "source": []
  }
 ],
 "metadata": {
  "kernelspec": {
   "display_name": "Python 3 (ipykernel)",
   "language": "python",
   "name": "python3"
  },
  "language_info": {
   "codemirror_mode": {
    "name": "ipython",
    "version": 3
   },
   "file_extension": ".py",
   "mimetype": "text/x-python",
   "name": "python",
   "nbconvert_exporter": "python",
   "pygments_lexer": "ipython3",
   "version": "3.10.7"
  }
 },
 "nbformat": 4,
 "nbformat_minor": 5
}
