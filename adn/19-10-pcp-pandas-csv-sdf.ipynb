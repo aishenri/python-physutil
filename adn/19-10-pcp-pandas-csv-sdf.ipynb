{
 "cells": [
  {
   "cell_type": "code",
   "execution_count": 1,
   "id": "e6e732b1",
   "metadata": {},
   "outputs": [],
   "source": [
    "import pubchempy as pcp"
   ]
  },
  {
   "cell_type": "code",
   "execution_count": 6,
   "id": "f62c33ce",
   "metadata": {},
   "outputs": [
    {
     "name": "stdout",
     "output_type": "stream",
     "text": [
      "[Compound(190)] [Compound(1135)] [Compound(597)] [Compound(135398634)] [Compound(1174)]\n"
     ]
    }
   ],
   "source": [
    "ano=pcp.get_compounds(\"adenine\",\"name\")\n",
    "tno=pcp.get_compounds(\"thymine\",\"name\");\n",
    "cno=pcp.get_compounds(\"cytosine\",\"name\");\n",
    "gno=pcp.get_compounds(\"guanine\",\"name\");\n",
    "uno=pcp.get_compounds(\"uracil\",\"name\")\n",
    "print(ano,tno,cno,gno,uno)"
   ]
  },
  {
   "cell_type": "code",
   "execution_count": 12,
   "id": "c026f8ce",
   "metadata": {},
   "outputs": [
    {
     "name": "stdout",
     "output_type": "stream",
     "text": [
      "([Compound(190)], [Compound(1135)], [Compound(597)], [Compound(135398634)], [Compound(1174)])\n"
     ]
    }
   ],
   "source": [
    "results=(ano,tno,cno,gno,uno);print(results)"
   ]
  },
  {
   "cell_type": "code",
   "execution_count": 27,
   "id": "2dbe10fe",
   "metadata": {},
   "outputs": [
    {
     "name": "stdout",
     "output_type": "stream",
     "text": [
      "C1=NC2=NC=NC(=C2N1)N\n",
      "CC1=CNC(=O)NC1=O\n",
      "C1=C(NC(=O)N=C1)N\n",
      "C1=NC2=C(N1)C(=O)NC(=N2)N\n",
      "C1=CNC(=O)NC1=O\n"
     ]
    }
   ],
   "source": [
    "cida=pcp.Compound.from_cid(190);print(cida.isomeric_smiles)\n",
    "cidt=pcp.Compound.from_cid(1135);print(cidt.isomeric_smiles)\n",
    "cidc=pcp.Compound.from_cid(597);print(cidc.isomeric_smiles)\n",
    "cidg=pcp.Compound.from_cid(135398634);print(cidg.isomeric_smiles)\n",
    "cidu=pcp.Compound.from_cid(1174);print(cidu.isomeric_smiles)"
   ]
  },
  {
   "cell_type": "code",
   "execution_count": null,
   "id": "225c5833",
   "metadata": {},
   "outputs": [],
   "source": []
  }
 ],
 "metadata": {
  "kernelspec": {
   "display_name": "Python 3 (ipykernel)",
   "language": "python",
   "name": "python3"
  },
  "language_info": {
   "codemirror_mode": {
    "name": "ipython",
    "version": 3
   },
   "file_extension": ".py",
   "mimetype": "text/x-python",
   "name": "python",
   "nbconvert_exporter": "python",
   "pygments_lexer": "ipython3",
   "version": "3.10.7"
  }
 },
 "nbformat": 4,
 "nbformat_minor": 5
}
