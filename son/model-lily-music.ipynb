{
 "cells": [
  {
   "cell_type": "code",
   "execution_count": 1,
   "metadata": {},
   "outputs": [
    {
     "data": {
      "image/png": "[encoded data removed]",
      "text/plain": [
       "<IPython.core.display.Image object>"
      ]
     },
     "execution_count": 1,
     "metadata": {},
     "output_type": "execute_result"
    }
   ],
   "source": [
    "from music21 import *\n",
    "environment.UserSettings()['lilypondPath']='/usr/bin/lilypond'\n",
    "environment.set('pdfPath','/usr/bin/musescore')\n",
    "environment.set('graphicsPath','/usr/bin/lilypond')\n",
    "from pyknon.genmidi import Midi\n",
    "from pyknon.music import NoteSeq,Note\n",
    "melody=[10,10,11,13,13,11,10,8,4,3]\n",
    "def makeMidi(notes,name,filename=\"tune1.midi\"):\n",
    "    notes1=map(Note,notes)\n",
    "    midi=Midi(1,tempo=90)\n",
    "    midi.seq_notes(notes1,track=0)\n",
    "    midi.write(filename)\n",
    "makeMidi(melody,\"Melody1\")\n",
    "c=chord.Chord(\"C4 E4 G4\")\n",
    "c.isConsonant()\n",
    "c.show(\"lily.png\")\n",
    "from IPython.display import Image\n",
    "Image(filename=c.write(\"lily.png\"))    "
   ]
  },
  {
   "cell_type": "code",
   "execution_count": 2,
   "metadata": {},
   "outputs": [
    {
     "data": {
      "image/png": "[encoded data removed]",
      "text/plain": [
       "<IPython.core.display.Image object>"
      ]
     },
     "execution_count": 2,
     "metadata": {},
     "output_type": "execute_result"
    }
   ],
   "source": [
    "s=converter.parse(\"tune1.midi\")\n",
    "Image(filename=s.write(\"lily.png\"))"
   ]
  },
  {
   "cell_type": "code",
   "execution_count": null,
   "metadata": {},
   "outputs": [],
   "source": []
  }
 ],
 "metadata": {
  "kernelspec": {
   "display_name": "SageMath 8.6",
   "language": "",
   "name": "sagemath"
  },
  "language_info": {
   "codemirror_mode": {
    "name": "ipython",
    "version": 2
   },
   "file_extension": ".py",
   "mimetype": "text/x-python",
   "name": "python",
   "nbconvert_exporter": "python",
   "pygments_lexer": "ipython2",
   "version": "2.7.16"
  }
 },
 "nbformat": 4,
 "nbformat_minor": 2
}
