{
 "cells": [
  {
   "cell_type": "code",
   "execution_count": 1,
   "id": "0d27d9e0",
   "metadata": {},
   "outputs": [
    {
     "data": {
      "text/html": [
       "<style type=\"text/css\">\n",
       "table.dataframe td, table.dataframe th{border: 1px \n",
       "black solid ! important;color:black !important;}\n"
      ],
      "text/plain": [
       "<IPython.core.display.HTML object>"
      ]
     },
     "metadata": {},
     "output_type": "display_data"
    }
   ],
   "source": [
    "%%HTML\n",
    "<style type=\"text/css\">\n",
    "table.dataframe td, table.dataframe th{border: 1px \n",
    "black solid ! important;color:black !important;}"
   ]
  },
  {
   "cell_type": "code",
   "execution_count": 2,
   "id": "e77a5c86",
   "metadata": {},
   "outputs": [
    {
     "data": {
      "application/3dmoljs_load.v0": "<div id=\"3dmolviewer_16663065774989924\"  style=\"position: relative; width: 300px; height: 300px\">\n        <p id=\"3dmolwarning_16663065774989924\" style=\"background-color:#ffcccc;color:black\">You appear to be running in JupyterLab (or JavaScript failed to load for some other reason).  You need to install the 3dmol extension: <br>\n        <tt>jupyter labextension install jupyterlab_3dmol</tt></p>\n        </div>\n<script>\n\nvar loadScriptAsync = function(uri){\n  return new Promise((resolve, reject) => {\n    var tag = document.createElement('script');\n    tag.src = uri;\n    tag.async = true;\n    tag.onload = () => {\n      resolve();\n    };\n  var firstScriptTag = document.getElementsByTagName('script')[0];\n  firstScriptTag.parentNode.insertBefore(tag, firstScriptTag);\n});\n};\n\nif(typeof $3Dmolpromise === 'undefined') {\n$3Dmolpromise = null;\n  $3Dmolpromise = loadScriptAsync('https://3dmol.csb.pitt.edu/build/3Dmol.js');\n}\n\nvar viewer_16663065774989924 = null;\nvar warn = document.getElementById(\"3dmolwarning_16663065774989924\");\nif(warn) {\n    warn.parentNode.removeChild(warn);\n}\n$3Dmolpromise.then(function() {\nviewer_16663065774989924 = $3Dmol.createViewer($(\"#3dmolviewer_16663065774989924\"),{backgroundColor:\"white\"});\n$3Dmol.download(\"cid:190\", viewer_16663065774989924, {}, function() {\n\tviewer_16663065774989924.setStyle({\"stick\": {\"radius\": 0.05}, \"sphere\": {\"scale\": 0.25}});\n\tviewer_16663065774989924.setHoverable({},true,\"function(atom,viewer,event,container)\\n{if(!atom.label) {atom.label = viewer.addLabel(atom.resn+\\\":\\\"+atom.atom,{position: atom, backgroundColor: 'mintcream', fontColor:'black'});}}\",\"function(atom,viewer){if(atom.label){viewer.removeLabel(atom.label);delete atom.label;}}\");\nviewer_16663065774989924.render();\n})\n});\n</script>",
      "text/html": [
       "<div id=\"3dmolviewer_16663065774989924\"  style=\"position: relative; width: 300px; height: 300px\">\n",
       "        <p id=\"3dmolwarning_16663065774989924\" style=\"background-color:#ffcccc;color:black\">You appear to be running in JupyterLab (or JavaScript failed to load for some other reason).  You need to install the 3dmol extension: <br>\n",
       "        <tt>jupyter labextension install jupyterlab_3dmol</tt></p>\n",
       "        </div>\n",
       "<script>\n",
       "\n",
       "var loadScriptAsync = function(uri){\n",
       "  return new Promise((resolve, reject) => {\n",
       "    var tag = document.createElement('script');\n",
       "    tag.src = uri;\n",
       "    tag.async = true;\n",
       "    tag.onload = () => {\n",
       "      resolve();\n",
       "    };\n",
       "  var firstScriptTag = document.getElementsByTagName('script')[0];\n",
       "  firstScriptTag.parentNode.insertBefore(tag, firstScriptTag);\n",
       "});\n",
       "};\n",
       "\n",
       "if(typeof $3Dmolpromise === 'undefined') {\n",
       "$3Dmolpromise = null;\n",
       "  $3Dmolpromise = loadScriptAsync('https://3dmol.csb.pitt.edu/build/3Dmol.js');\n",
       "}\n",
       "\n",
       "var viewer_16663065774989924 = null;\n",
       "var warn = document.getElementById(\"3dmolwarning_16663065774989924\");\n",
       "if(warn) {\n",
       "    warn.parentNode.removeChild(warn);\n",
       "}\n",
       "$3Dmolpromise.then(function() {\n",
       "viewer_16663065774989924 = $3Dmol.createViewer($(\"#3dmolviewer_16663065774989924\"),{backgroundColor:\"white\"});\n",
       "$3Dmol.download(\"cid:190\", viewer_16663065774989924, {}, function() {\n",
       "\tviewer_16663065774989924.setStyle({\"stick\": {\"radius\": 0.05}, \"sphere\": {\"scale\": 0.25}});\n",
       "\tviewer_16663065774989924.setHoverable({},true,\"function(atom,viewer,event,container)\\n{if(!atom.label) {atom.label = viewer.addLabel(atom.resn+\\\":\\\"+atom.atom,{position: atom, backgroundColor: 'mintcream', fontColor:'black'});}}\",\"function(atom,viewer){if(atom.label){viewer.removeLabel(atom.label);delete atom.label;}}\");\n",
       "viewer_16663065774989924.render();\n",
       "})\n",
       "});\n",
       "</script>"
      ]
     },
     "metadata": {},
     "output_type": "display_data"
    },
    {
     "data": {
      "text/plain": [
       "<py3Dmol.view at 0x1c1b8c82250>"
      ]
     },
     "execution_count": 2,
     "metadata": {},
     "output_type": "execute_result"
    }
   ],
   "source": [
    "import pubchempy as pcp;import py3Dmol\n",
    "ade=pcp.get_compounds('adenine', 'name')[0]\n",
    "ade=py3Dmol.view(query='cid:{}'.format(ade.cid),width=300,height=300)\\\n",
    ".setStyle({'stick':{'radius':.05},'sphere':{'scale':0.25}})\n",
    "ade.setHoverable({},True,'''function(atom,viewer,event,container)\n",
    "{if(!atom.label) {atom.label = viewer.addLabel(atom.resn+\":\"+\\\n",
    "atom.atom,{position: atom, backgroundColor: 'mintcream', \\\n",
    "fontColor:'black'});}}''','''function(atom,viewer){if(atom.label)\\\n",
    "{viewer.removeLabel(atom.label);delete atom.label;}}''')   "
   ]
  },
  {
   "cell_type": "code",
   "execution_count": 3,
   "id": "19490eb6",
   "metadata": {},
   "outputs": [
    {
     "data": {
      "text/html": [
       "<div>\n",
       "<style scoped>\n",
       "    .dataframe tbody tr th:only-of-type {\n",
       "        vertical-align: middle;\n",
       "    }\n",
       "\n",
       "    .dataframe tbody tr th {\n",
       "        vertical-align: top;\n",
       "    }\n",
       "\n",
       "    .dataframe thead th {\n",
       "        text-align: right;\n",
       "    }\n",
       "</style>\n",
       "<table border=\"1\" class=\"dataframe\">\n",
       "  <thead>\n",
       "    <tr style=\"text-align: right;\">\n",
       "      <th></th>\n",
       "      <th>iupac_name</th>\n",
       "      <th>molecular_formula</th>\n",
       "      <th>canonical_smiles</th>\n",
       "    </tr>\n",
       "    <tr>\n",
       "      <th>cid</th>\n",
       "      <th></th>\n",
       "      <th></th>\n",
       "      <th></th>\n",
       "    </tr>\n",
       "  </thead>\n",
       "  <tbody>\n",
       "    <tr>\n",
       "      <th>190</th>\n",
       "      <td>7H-purin-6-amine</td>\n",
       "      <td>C5H5N5</td>\n",
       "      <td>C1=NC2=NC=NC(=C2N1)N</td>\n",
       "    </tr>\n",
       "  </tbody>\n",
       "</table>\n",
       "</div>"
      ],
      "text/plain": [
       "           iupac_name molecular_formula      canonical_smiles\n",
       "cid                                                          \n",
       "190  7H-purin-6-amine            C5H5N5  C1=NC2=NC=NC(=C2N1)N"
      ]
     },
     "execution_count": 3,
     "metadata": {},
     "output_type": "execute_result"
    }
   ],
   "source": [
    "adf= pcp.get_compounds('adenine', 'name', as_dataframe=True)[:3]\n",
    "adf[['iupac_name', 'molecular_formula', 'canonical_smiles']]"
   ]
  },
  {
   "cell_type": "code",
   "execution_count": 4,
   "id": "0d69d189",
   "metadata": {},
   "outputs": [
    {
     "data": {
      "application/3dmoljs_load.v0": "<div id=\"3dmolviewer_1666306578744746\"  style=\"position: relative; width: 300px; height: 300px\">\n        <p id=\"3dmolwarning_1666306578744746\" style=\"background-color:#ffcccc;color:black\">You appear to be running in JupyterLab (or JavaScript failed to load for some other reason).  You need to install the 3dmol extension: <br>\n        <tt>jupyter labextension install jupyterlab_3dmol</tt></p>\n        </div>\n<script>\n\nvar loadScriptAsync = function(uri){\n  return new Promise((resolve, reject) => {\n    var tag = document.createElement('script');\n    tag.src = uri;\n    tag.async = true;\n    tag.onload = () => {\n      resolve();\n    };\n  var firstScriptTag = document.getElementsByTagName('script')[0];\n  firstScriptTag.parentNode.insertBefore(tag, firstScriptTag);\n});\n};\n\nif(typeof $3Dmolpromise === 'undefined') {\n$3Dmolpromise = null;\n  $3Dmolpromise = loadScriptAsync('https://3dmol.csb.pitt.edu/build/3Dmol.js');\n}\n\nvar viewer_1666306578744746 = null;\nvar warn = document.getElementById(\"3dmolwarning_1666306578744746\");\nif(warn) {\n    warn.parentNode.removeChild(warn);\n}\n$3Dmolpromise.then(function() {\nviewer_1666306578744746 = $3Dmol.createViewer($(\"#3dmolviewer_1666306578744746\"),{backgroundColor:\"white\"});\n$3Dmol.download(\"cid:1135\", viewer_1666306578744746, {}, function() {\n\tviewer_1666306578744746.setStyle({\"stick\": {\"radius\": 0.05}, \"sphere\": {\"scale\": 0.25}});\n\tviewer_1666306578744746.setHoverable({},true,\"function(atom,viewer,event,container)\\n{if(!atom.label) {atom.label = viewer.addLabel(atom.resn+\\\":\\\"+atom.atom,{position: atom, backgroundColor: 'mintcream', fontColor:'black'});}}\",\"function(atom,viewer){if(atom.label){viewer.removeLabel(atom.label);delete atom.label;}}\");\nviewer_1666306578744746.render();\n})\n});\n</script>",
      "text/html": [
       "<div id=\"3dmolviewer_1666306578744746\"  style=\"position: relative; width: 300px; height: 300px\">\n",
       "        <p id=\"3dmolwarning_1666306578744746\" style=\"background-color:#ffcccc;color:black\">You appear to be running in JupyterLab (or JavaScript failed to load for some other reason).  You need to install the 3dmol extension: <br>\n",
       "        <tt>jupyter labextension install jupyterlab_3dmol</tt></p>\n",
       "        </div>\n",
       "<script>\n",
       "\n",
       "var loadScriptAsync = function(uri){\n",
       "  return new Promise((resolve, reject) => {\n",
       "    var tag = document.createElement('script');\n",
       "    tag.src = uri;\n",
       "    tag.async = true;\n",
       "    tag.onload = () => {\n",
       "      resolve();\n",
       "    };\n",
       "  var firstScriptTag = document.getElementsByTagName('script')[0];\n",
       "  firstScriptTag.parentNode.insertBefore(tag, firstScriptTag);\n",
       "});\n",
       "};\n",
       "\n",
       "if(typeof $3Dmolpromise === 'undefined') {\n",
       "$3Dmolpromise = null;\n",
       "  $3Dmolpromise = loadScriptAsync('https://3dmol.csb.pitt.edu/build/3Dmol.js');\n",
       "}\n",
       "\n",
       "var viewer_1666306578744746 = null;\n",
       "var warn = document.getElementById(\"3dmolwarning_1666306578744746\");\n",
       "if(warn) {\n",
       "    warn.parentNode.removeChild(warn);\n",
       "}\n",
       "$3Dmolpromise.then(function() {\n",
       "viewer_1666306578744746 = $3Dmol.createViewer($(\"#3dmolviewer_1666306578744746\"),{backgroundColor:\"white\"});\n",
       "$3Dmol.download(\"cid:1135\", viewer_1666306578744746, {}, function() {\n",
       "\tviewer_1666306578744746.setStyle({\"stick\": {\"radius\": 0.05}, \"sphere\": {\"scale\": 0.25}});\n",
       "\tviewer_1666306578744746.setHoverable({},true,\"function(atom,viewer,event,container)\\n{if(!atom.label) {atom.label = viewer.addLabel(atom.resn+\\\":\\\"+atom.atom,{position: atom, backgroundColor: 'mintcream', fontColor:'black'});}}\",\"function(atom,viewer){if(atom.label){viewer.removeLabel(atom.label);delete atom.label;}}\");\n",
       "viewer_1666306578744746.render();\n",
       "})\n",
       "});\n",
       "</script>"
      ]
     },
     "metadata": {},
     "output_type": "display_data"
    },
    {
     "data": {
      "text/plain": [
       "<py3Dmol.view at 0x1c1ba02f910>"
      ]
     },
     "execution_count": 4,
     "metadata": {},
     "output_type": "execute_result"
    }
   ],
   "source": [
    "thy=pcp.get_compounds('thymine', 'name')[0]\n",
    "thy=py3Dmol.view(query='cid:{}'.format(thy.cid),width=300,height=300)\\\n",
    ".setStyle({'stick':{'radius':.05},'sphere':{'scale':0.25}})\n",
    "thy.setHoverable({},True,'''function(atom,viewer,event,container)\n",
    "{if(!atom.label) {atom.label = viewer.addLabel(atom.resn+\":\"+\\\n",
    "atom.atom,{position: atom, backgroundColor: 'mintcream', \\\n",
    "fontColor:'black'});}}''','''function(atom,viewer){if(atom.label)\\\n",
    "{viewer.removeLabel(atom.label);delete atom.label;}}''')   "
   ]
  },
  {
   "cell_type": "code",
   "execution_count": 5,
   "id": "ea468f1e",
   "metadata": {},
   "outputs": [
    {
     "data": {
      "text/html": [
       "<div>\n",
       "<style scoped>\n",
       "    .dataframe tbody tr th:only-of-type {\n",
       "        vertical-align: middle;\n",
       "    }\n",
       "\n",
       "    .dataframe tbody tr th {\n",
       "        vertical-align: top;\n",
       "    }\n",
       "\n",
       "    .dataframe thead th {\n",
       "        text-align: right;\n",
       "    }\n",
       "</style>\n",
       "<table border=\"1\" class=\"dataframe\">\n",
       "  <thead>\n",
       "    <tr style=\"text-align: right;\">\n",
       "      <th></th>\n",
       "      <th>iupac_name</th>\n",
       "      <th>molecular_formula</th>\n",
       "      <th>canonical_smiles</th>\n",
       "    </tr>\n",
       "    <tr>\n",
       "      <th>cid</th>\n",
       "      <th></th>\n",
       "      <th></th>\n",
       "      <th></th>\n",
       "    </tr>\n",
       "  </thead>\n",
       "  <tbody>\n",
       "    <tr>\n",
       "      <th>1135</th>\n",
       "      <td>5-methyl-1H-pyrimidine-2,4-dione</td>\n",
       "      <td>C5H6N2O2</td>\n",
       "      <td>CC1=CNC(=O)NC1=O</td>\n",
       "    </tr>\n",
       "  </tbody>\n",
       "</table>\n",
       "</div>"
      ],
      "text/plain": [
       "                            iupac_name molecular_formula  canonical_smiles\n",
       "cid                                                                       \n",
       "1135  5-methyl-1H-pyrimidine-2,4-dione          C5H6N2O2  CC1=CNC(=O)NC1=O"
      ]
     },
     "execution_count": 5,
     "metadata": {},
     "output_type": "execute_result"
    }
   ],
   "source": [
    "tydf= pcp.get_compounds('thymine', 'name', as_dataframe=True)[:3]\n",
    "tydf[['iupac_name', 'molecular_formula', 'canonical_smiles']]"
   ]
  },
  {
   "cell_type": "code",
   "execution_count": 6,
   "id": "e3460f96",
   "metadata": {},
   "outputs": [
    {
     "data": {
      "application/3dmoljs_load.v0": "<div id=\"3dmolviewer_16663065795944276\"  style=\"position: relative; width: 300px; height: 300px\">\n        <p id=\"3dmolwarning_16663065795944276\" style=\"background-color:#ffcccc;color:black\">You appear to be running in JupyterLab (or JavaScript failed to load for some other reason).  You need to install the 3dmol extension: <br>\n        <tt>jupyter labextension install jupyterlab_3dmol</tt></p>\n        </div>\n<script>\n\nvar loadScriptAsync = function(uri){\n  return new Promise((resolve, reject) => {\n    var tag = document.createElement('script');\n    tag.src = uri;\n    tag.async = true;\n    tag.onload = () => {\n      resolve();\n    };\n  var firstScriptTag = document.getElementsByTagName('script')[0];\n  firstScriptTag.parentNode.insertBefore(tag, firstScriptTag);\n});\n};\n\nif(typeof $3Dmolpromise === 'undefined') {\n$3Dmolpromise = null;\n  $3Dmolpromise = loadScriptAsync('https://3dmol.csb.pitt.edu/build/3Dmol.js');\n}\n\nvar viewer_16663065795944276 = null;\nvar warn = document.getElementById(\"3dmolwarning_16663065795944276\");\nif(warn) {\n    warn.parentNode.removeChild(warn);\n}\n$3Dmolpromise.then(function() {\nviewer_16663065795944276 = $3Dmol.createViewer($(\"#3dmolviewer_16663065795944276\"),{backgroundColor:\"white\"});\n$3Dmol.download(\"cid:597\", viewer_16663065795944276, {}, function() {\n\tviewer_16663065795944276.setStyle({\"stick\": {\"radius\": 0.05}, \"sphere\": {\"scale\": 0.25}});\n\tviewer_16663065795944276.setHoverable({},true,\"function(atom,viewer,event,container)\\n{if(!atom.label) {atom.label = viewer.addLabel(atom.resn+\\\":\\\"+atom.atom,{position: atom, backgroundColor: 'mintcream', fontColor:'black'});}}\",\"function(atom,viewer){if(atom.label){viewer.removeLabel(atom.label);delete atom.label;}}\");\nviewer_16663065795944276.render();\n})\n});\n</script>",
      "text/html": [
       "<div id=\"3dmolviewer_16663065795944276\"  style=\"position: relative; width: 300px; height: 300px\">\n",
       "        <p id=\"3dmolwarning_16663065795944276\" style=\"background-color:#ffcccc;color:black\">You appear to be running in JupyterLab (or JavaScript failed to load for some other reason).  You need to install the 3dmol extension: <br>\n",
       "        <tt>jupyter labextension install jupyterlab_3dmol</tt></p>\n",
       "        </div>\n",
       "<script>\n",
       "\n",
       "var loadScriptAsync = function(uri){\n",
       "  return new Promise((resolve, reject) => {\n",
       "    var tag = document.createElement('script');\n",
       "    tag.src = uri;\n",
       "    tag.async = true;\n",
       "    tag.onload = () => {\n",
       "      resolve();\n",
       "    };\n",
       "  var firstScriptTag = document.getElementsByTagName('script')[0];\n",
       "  firstScriptTag.parentNode.insertBefore(tag, firstScriptTag);\n",
       "});\n",
       "};\n",
       "\n",
       "if(typeof $3Dmolpromise === 'undefined') {\n",
       "$3Dmolpromise = null;\n",
       "  $3Dmolpromise = loadScriptAsync('https://3dmol.csb.pitt.edu/build/3Dmol.js');\n",
       "}\n",
       "\n",
       "var viewer_16663065795944276 = null;\n",
       "var warn = document.getElementById(\"3dmolwarning_16663065795944276\");\n",
       "if(warn) {\n",
       "    warn.parentNode.removeChild(warn);\n",
       "}\n",
       "$3Dmolpromise.then(function() {\n",
       "viewer_16663065795944276 = $3Dmol.createViewer($(\"#3dmolviewer_16663065795944276\"),{backgroundColor:\"white\"});\n",
       "$3Dmol.download(\"cid:597\", viewer_16663065795944276, {}, function() {\n",
       "\tviewer_16663065795944276.setStyle({\"stick\": {\"radius\": 0.05}, \"sphere\": {\"scale\": 0.25}});\n",
       "\tviewer_16663065795944276.setHoverable({},true,\"function(atom,viewer,event,container)\\n{if(!atom.label) {atom.label = viewer.addLabel(atom.resn+\\\":\\\"+atom.atom,{position: atom, backgroundColor: 'mintcream', fontColor:'black'});}}\",\"function(atom,viewer){if(atom.label){viewer.removeLabel(atom.label);delete atom.label;}}\");\n",
       "viewer_16663065795944276.render();\n",
       "})\n",
       "});\n",
       "</script>"
      ]
     },
     "metadata": {},
     "output_type": "display_data"
    },
    {
     "data": {
      "text/plain": [
       "<py3Dmol.view at 0x1c1ba08c970>"
      ]
     },
     "execution_count": 6,
     "metadata": {},
     "output_type": "execute_result"
    }
   ],
   "source": [
    "cyt=pcp.get_compounds('cytosine', 'name')[0]\n",
    "cyt=py3Dmol.view(query='cid:{}'.format(cyt.cid),width=300,height=300)\\\n",
    ".setStyle({'stick':{'radius':.05},'sphere':{'scale':0.25}})\n",
    "cyt.setHoverable({},True,'''function(atom,viewer,event,container)\n",
    "{if(!atom.label) {atom.label = viewer.addLabel(atom.resn+\":\"+\\\n",
    "atom.atom,{position: atom, backgroundColor: 'mintcream', \\\n",
    "fontColor:'black'});}}''','''function(atom,viewer){if(atom.label)\\\n",
    "{viewer.removeLabel(atom.label);delete atom.label;}}''') "
   ]
  },
  {
   "cell_type": "code",
   "execution_count": 7,
   "id": "a948ac32",
   "metadata": {},
   "outputs": [
    {
     "data": {
      "text/html": [
       "<div>\n",
       "<style scoped>\n",
       "    .dataframe tbody tr th:only-of-type {\n",
       "        vertical-align: middle;\n",
       "    }\n",
       "\n",
       "    .dataframe tbody tr th {\n",
       "        vertical-align: top;\n",
       "    }\n",
       "\n",
       "    .dataframe thead th {\n",
       "        text-align: right;\n",
       "    }\n",
       "</style>\n",
       "<table border=\"1\" class=\"dataframe\">\n",
       "  <thead>\n",
       "    <tr style=\"text-align: right;\">\n",
       "      <th></th>\n",
       "      <th>iupac_name</th>\n",
       "      <th>molecular_formula</th>\n",
       "      <th>canonical_smiles</th>\n",
       "    </tr>\n",
       "    <tr>\n",
       "      <th>cid</th>\n",
       "      <th></th>\n",
       "      <th></th>\n",
       "      <th></th>\n",
       "    </tr>\n",
       "  </thead>\n",
       "  <tbody>\n",
       "    <tr>\n",
       "      <th>597</th>\n",
       "      <td>6-amino-1H-pyrimidin-2-one</td>\n",
       "      <td>C4H5N3O</td>\n",
       "      <td>C1=C(NC(=O)N=C1)N</td>\n",
       "    </tr>\n",
       "  </tbody>\n",
       "</table>\n",
       "</div>"
      ],
      "text/plain": [
       "                     iupac_name molecular_formula   canonical_smiles\n",
       "cid                                                                 \n",
       "597  6-amino-1H-pyrimidin-2-one           C4H5N3O  C1=C(NC(=O)N=C1)N"
      ]
     },
     "execution_count": 7,
     "metadata": {},
     "output_type": "execute_result"
    }
   ],
   "source": [
    "cydf= pcp.get_compounds('cytosine', 'name', as_dataframe=True)[:3]\n",
    "cydf[['iupac_name', 'molecular_formula', 'canonical_smiles']]"
   ]
  },
  {
   "cell_type": "code",
   "execution_count": 11,
   "id": "97c2d5a8",
   "metadata": {},
   "outputs": [
    {
     "data": {
      "application/3dmoljs_load.v0": "<div id=\"3dmolviewer_16663066802540107\"  style=\"position: relative; width: 300px; height: 300px\">\n        <p id=\"3dmolwarning_16663066802540107\" style=\"background-color:#ffcccc;color:black\">You appear to be running in JupyterLab (or JavaScript failed to load for some other reason).  You need to install the 3dmol extension: <br>\n        <tt>jupyter labextension install jupyterlab_3dmol</tt></p>\n        </div>\n<script>\n\nvar loadScriptAsync = function(uri){\n  return new Promise((resolve, reject) => {\n    var tag = document.createElement('script');\n    tag.src = uri;\n    tag.async = true;\n    tag.onload = () => {\n      resolve();\n    };\n  var firstScriptTag = document.getElementsByTagName('script')[0];\n  firstScriptTag.parentNode.insertBefore(tag, firstScriptTag);\n});\n};\n\nif(typeof $3Dmolpromise === 'undefined') {\n$3Dmolpromise = null;\n  $3Dmolpromise = loadScriptAsync('https://3dmol.csb.pitt.edu/build/3Dmol.js');\n}\n\nvar viewer_16663066802540107 = null;\nvar warn = document.getElementById(\"3dmolwarning_16663066802540107\");\nif(warn) {\n    warn.parentNode.removeChild(warn);\n}\n$3Dmolpromise.then(function() {\nviewer_16663066802540107 = $3Dmol.createViewer($(\"#3dmolviewer_16663066802540107\"),{backgroundColor:\"white\"});\n$3Dmol.download(\"cid:135398634\", viewer_16663066802540107, {}, function() {\n\tviewer_16663066802540107.setStyle({\"stick\": {\"radius\": 0.05}, \"sphere\": {\"scale\": 0.25}});\n\tviewer_16663066802540107.setHoverable({},true,\"function(atom,viewer,event,container)\\n{if(!atom.label) {atom.label = viewer.addLabel(atom.resn+\\\":\\\"+atom.atom,{position: atom, backgroundColor: 'mintcream', fontColor:'black'});}}\",\"function(atom,viewer){if(atom.label){viewer.removeLabel(atom.label);delete atom.label;}}\");\nviewer_16663066802540107.render();\n})\n});\n</script>",
      "text/html": [
       "<div id=\"3dmolviewer_16663066802540107\"  style=\"position: relative; width: 300px; height: 300px\">\n",
       "        <p id=\"3dmolwarning_16663066802540107\" style=\"background-color:#ffcccc;color:black\">You appear to be running in JupyterLab (or JavaScript failed to load for some other reason).  You need to install the 3dmol extension: <br>\n",
       "        <tt>jupyter labextension install jupyterlab_3dmol</tt></p>\n",
       "        </div>\n",
       "<script>\n",
       "\n",
       "var loadScriptAsync = function(uri){\n",
       "  return new Promise((resolve, reject) => {\n",
       "    var tag = document.createElement('script');\n",
       "    tag.src = uri;\n",
       "    tag.async = true;\n",
       "    tag.onload = () => {\n",
       "      resolve();\n",
       "    };\n",
       "  var firstScriptTag = document.getElementsByTagName('script')[0];\n",
       "  firstScriptTag.parentNode.insertBefore(tag, firstScriptTag);\n",
       "});\n",
       "};\n",
       "\n",
       "if(typeof $3Dmolpromise === 'undefined') {\n",
       "$3Dmolpromise = null;\n",
       "  $3Dmolpromise = loadScriptAsync('https://3dmol.csb.pitt.edu/build/3Dmol.js');\n",
       "}\n",
       "\n",
       "var viewer_16663066802540107 = null;\n",
       "var warn = document.getElementById(\"3dmolwarning_16663066802540107\");\n",
       "if(warn) {\n",
       "    warn.parentNode.removeChild(warn);\n",
       "}\n",
       "$3Dmolpromise.then(function() {\n",
       "viewer_16663066802540107 = $3Dmol.createViewer($(\"#3dmolviewer_16663066802540107\"),{backgroundColor:\"white\"});\n",
       "$3Dmol.download(\"cid:135398634\", viewer_16663066802540107, {}, function() {\n",
       "\tviewer_16663066802540107.setStyle({\"stick\": {\"radius\": 0.05}, \"sphere\": {\"scale\": 0.25}});\n",
       "\tviewer_16663066802540107.setHoverable({},true,\"function(atom,viewer,event,container)\\n{if(!atom.label) {atom.label = viewer.addLabel(atom.resn+\\\":\\\"+atom.atom,{position: atom, backgroundColor: 'mintcream', fontColor:'black'});}}\",\"function(atom,viewer){if(atom.label){viewer.removeLabel(atom.label);delete atom.label;}}\");\n",
       "viewer_16663066802540107.render();\n",
       "})\n",
       "});\n",
       "</script>"
      ]
     },
     "metadata": {},
     "output_type": "display_data"
    },
    {
     "data": {
      "text/plain": [
       "<py3Dmol.view at 0x1c1b8c821c0>"
      ]
     },
     "execution_count": 11,
     "metadata": {},
     "output_type": "execute_result"
    }
   ],
   "source": [
    "gua=pcp.get_compounds('guanine', 'name')[0]\n",
    "gua=py3Dmol.view(query='cid:{}'.format(gua.cid),width=300,height=300)\\\n",
    ".setStyle({'stick':{'radius':.05},'sphere':{'scale':0.25}})\n",
    "gua.setHoverable({},True,'''function(atom,viewer,event,container)\n",
    "{if(!atom.label) {atom.label = viewer.addLabel(atom.resn+\":\"+\\\n",
    "atom.atom,{position: atom, backgroundColor: 'mintcream', \\\n",
    "fontColor:'black'});}}''','''function(atom,viewer){if(atom.label)\\\n",
    "{viewer.removeLabel(atom.label);delete atom.label;}}''') "
   ]
  },
  {
   "cell_type": "code",
   "execution_count": 10,
   "id": "471bc5e6",
   "metadata": {},
   "outputs": [
    {
     "data": {
      "text/html": [
       "<div>\n",
       "<style scoped>\n",
       "    .dataframe tbody tr th:only-of-type {\n",
       "        vertical-align: middle;\n",
       "    }\n",
       "\n",
       "    .dataframe tbody tr th {\n",
       "        vertical-align: top;\n",
       "    }\n",
       "\n",
       "    .dataframe thead th {\n",
       "        text-align: right;\n",
       "    }\n",
       "</style>\n",
       "<table border=\"1\" class=\"dataframe\">\n",
       "  <thead>\n",
       "    <tr style=\"text-align: right;\">\n",
       "      <th></th>\n",
       "      <th>iupac_name</th>\n",
       "      <th>molecular_formula</th>\n",
       "      <th>canonical_smiles</th>\n",
       "    </tr>\n",
       "    <tr>\n",
       "      <th>cid</th>\n",
       "      <th></th>\n",
       "      <th></th>\n",
       "      <th></th>\n",
       "    </tr>\n",
       "  </thead>\n",
       "  <tbody>\n",
       "    <tr>\n",
       "      <th>135398634</th>\n",
       "      <td>2-amino-1,7-dihydropurin-6-one</td>\n",
       "      <td>C5H5N5O</td>\n",
       "      <td>C1=NC2=C(N1)C(=O)NC(=N2)N</td>\n",
       "    </tr>\n",
       "  </tbody>\n",
       "</table>\n",
       "</div>"
      ],
      "text/plain": [
       "                               iupac_name molecular_formula  \\\n",
       "cid                                                           \n",
       "135398634  2-amino-1,7-dihydropurin-6-one           C5H5N5O   \n",
       "\n",
       "                    canonical_smiles  \n",
       "cid                                   \n",
       "135398634  C1=NC2=C(N1)C(=O)NC(=N2)N  "
      ]
     },
     "execution_count": 10,
     "metadata": {},
     "output_type": "execute_result"
    }
   ],
   "source": [
    "gudf= pcp.get_compounds('guanine', 'name', as_dataframe=True)[:3]\n",
    "gudf[['iupac_name', 'molecular_formula', 'canonical_smiles']]"
   ]
  },
  {
   "cell_type": "code",
   "execution_count": 12,
   "id": "dc5eeace",
   "metadata": {},
   "outputs": [
    {
     "data": {
      "application/3dmoljs_load.v0": "<div id=\"3dmolviewer_16663067964446583\"  style=\"position: relative; width: 300px; height: 300px\">\n        <p id=\"3dmolwarning_16663067964446583\" style=\"background-color:#ffcccc;color:black\">You appear to be running in JupyterLab (or JavaScript failed to load for some other reason).  You need to install the 3dmol extension: <br>\n        <tt>jupyter labextension install jupyterlab_3dmol</tt></p>\n        </div>\n<script>\n\nvar loadScriptAsync = function(uri){\n  return new Promise((resolve, reject) => {\n    var tag = document.createElement('script');\n    tag.src = uri;\n    tag.async = true;\n    tag.onload = () => {\n      resolve();\n    };\n  var firstScriptTag = document.getElementsByTagName('script')[0];\n  firstScriptTag.parentNode.insertBefore(tag, firstScriptTag);\n});\n};\n\nif(typeof $3Dmolpromise === 'undefined') {\n$3Dmolpromise = null;\n  $3Dmolpromise = loadScriptAsync('https://3dmol.csb.pitt.edu/build/3Dmol.js');\n}\n\nvar viewer_16663067964446583 = null;\nvar warn = document.getElementById(\"3dmolwarning_16663067964446583\");\nif(warn) {\n    warn.parentNode.removeChild(warn);\n}\n$3Dmolpromise.then(function() {\nviewer_16663067964446583 = $3Dmol.createViewer($(\"#3dmolviewer_16663067964446583\"),{backgroundColor:\"white\"});\n$3Dmol.download(\"cid:1174\", viewer_16663067964446583, {}, function() {\n\tviewer_16663067964446583.setStyle({\"stick\": {\"radius\": 0.05}, \"sphere\": {\"scale\": 0.25}});\n\tviewer_16663067964446583.setHoverable({},true,\"function(atom,viewer,event,container)\\n{if(!atom.label) {atom.label = viewer.addLabel(atom.resn+\\\":\\\"+atom.atom,{position: atom, backgroundColor: 'mintcream', fontColor:'black'});}}\",\"function(atom,viewer){if(atom.label){viewer.removeLabel(atom.label);delete atom.label;}}\");\nviewer_16663067964446583.render();\n})\n});\n</script>",
      "text/html": [
       "<div id=\"3dmolviewer_16663067964446583\"  style=\"position: relative; width: 300px; height: 300px\">\n",
       "        <p id=\"3dmolwarning_16663067964446583\" style=\"background-color:#ffcccc;color:black\">You appear to be running in JupyterLab (or JavaScript failed to load for some other reason).  You need to install the 3dmol extension: <br>\n",
       "        <tt>jupyter labextension install jupyterlab_3dmol</tt></p>\n",
       "        </div>\n",
       "<script>\n",
       "\n",
       "var loadScriptAsync = function(uri){\n",
       "  return new Promise((resolve, reject) => {\n",
       "    var tag = document.createElement('script');\n",
       "    tag.src = uri;\n",
       "    tag.async = true;\n",
       "    tag.onload = () => {\n",
       "      resolve();\n",
       "    };\n",
       "  var firstScriptTag = document.getElementsByTagName('script')[0];\n",
       "  firstScriptTag.parentNode.insertBefore(tag, firstScriptTag);\n",
       "});\n",
       "};\n",
       "\n",
       "if(typeof $3Dmolpromise === 'undefined') {\n",
       "$3Dmolpromise = null;\n",
       "  $3Dmolpromise = loadScriptAsync('https://3dmol.csb.pitt.edu/build/3Dmol.js');\n",
       "}\n",
       "\n",
       "var viewer_16663067964446583 = null;\n",
       "var warn = document.getElementById(\"3dmolwarning_16663067964446583\");\n",
       "if(warn) {\n",
       "    warn.parentNode.removeChild(warn);\n",
       "}\n",
       "$3Dmolpromise.then(function() {\n",
       "viewer_16663067964446583 = $3Dmol.createViewer($(\"#3dmolviewer_16663067964446583\"),{backgroundColor:\"white\"});\n",
       "$3Dmol.download(\"cid:1174\", viewer_16663067964446583, {}, function() {\n",
       "\tviewer_16663067964446583.setStyle({\"stick\": {\"radius\": 0.05}, \"sphere\": {\"scale\": 0.25}});\n",
       "\tviewer_16663067964446583.setHoverable({},true,\"function(atom,viewer,event,container)\\n{if(!atom.label) {atom.label = viewer.addLabel(atom.resn+\\\":\\\"+atom.atom,{position: atom, backgroundColor: 'mintcream', fontColor:'black'});}}\",\"function(atom,viewer){if(atom.label){viewer.removeLabel(atom.label);delete atom.label;}}\");\n",
       "viewer_16663067964446583.render();\n",
       "})\n",
       "});\n",
       "</script>"
      ]
     },
     "metadata": {},
     "output_type": "display_data"
    },
    {
     "data": {
      "text/plain": [
       "<py3Dmol.view at 0x1c1b8c820a0>"
      ]
     },
     "execution_count": 12,
     "metadata": {},
     "output_type": "execute_result"
    }
   ],
   "source": [
    "ura=pcp.get_compounds('uracil', 'name')[0]\n",
    "ura=py3Dmol.view(query='cid:{}'.format(ura.cid),width=300,height=300)\\\n",
    ".setStyle({'stick':{'radius':.05},'sphere':{'scale':0.25}})\n",
    "ura.setHoverable({},True,'''function(atom,viewer,event,container)\n",
    "{if(!atom.label) {atom.label = viewer.addLabel(atom.resn+\":\"+\\\n",
    "atom.atom,{position: atom, backgroundColor: 'mintcream', \\\n",
    "fontColor:'black'});}}''','''function(atom,viewer){if(atom.label)\\\n",
    "{viewer.removeLabel(atom.label);delete atom.label;}}''') "
   ]
  },
  {
   "cell_type": "code",
   "execution_count": 13,
   "id": "96ff1392",
   "metadata": {},
   "outputs": [
    {
     "data": {
      "text/html": [
       "<div>\n",
       "<style scoped>\n",
       "    .dataframe tbody tr th:only-of-type {\n",
       "        vertical-align: middle;\n",
       "    }\n",
       "\n",
       "    .dataframe tbody tr th {\n",
       "        vertical-align: top;\n",
       "    }\n",
       "\n",
       "    .dataframe thead th {\n",
       "        text-align: right;\n",
       "    }\n",
       "</style>\n",
       "<table border=\"1\" class=\"dataframe\">\n",
       "  <thead>\n",
       "    <tr style=\"text-align: right;\">\n",
       "      <th></th>\n",
       "      <th>iupac_name</th>\n",
       "      <th>molecular_formula</th>\n",
       "      <th>canonical_smiles</th>\n",
       "    </tr>\n",
       "    <tr>\n",
       "      <th>cid</th>\n",
       "      <th></th>\n",
       "      <th></th>\n",
       "      <th></th>\n",
       "    </tr>\n",
       "  </thead>\n",
       "  <tbody>\n",
       "    <tr>\n",
       "      <th>1174</th>\n",
       "      <td>1H-pyrimidine-2,4-dione</td>\n",
       "      <td>C4H4N2O2</td>\n",
       "      <td>C1=CNC(=O)NC1=O</td>\n",
       "    </tr>\n",
       "  </tbody>\n",
       "</table>\n",
       "</div>"
      ],
      "text/plain": [
       "                   iupac_name molecular_formula canonical_smiles\n",
       "cid                                                             \n",
       "1174  1H-pyrimidine-2,4-dione          C4H4N2O2  C1=CNC(=O)NC1=O"
      ]
     },
     "execution_count": 13,
     "metadata": {},
     "output_type": "execute_result"
    }
   ],
   "source": [
    "urdf= pcp.get_compounds('uracil', 'name', as_dataframe=True)[:3]\n",
    "urdf[['iupac_name', 'molecular_formula', 'canonical_smiles']]"
   ]
  },
  {
   "cell_type": "code",
   "execution_count": null,
   "id": "2438f559",
   "metadata": {},
   "outputs": [],
   "source": []
  }
 ],
 "metadata": {
  "kernelspec": {
   "display_name": "Python 3 (ipykernel)",
   "language": "python",
   "name": "python3"
  },
  "language_info": {
   "codemirror_mode": {
    "name": "ipython",
    "version": 3
   },
   "file_extension": ".py",
   "mimetype": "text/x-python",
   "name": "python",
   "nbconvert_exporter": "python",
   "pygments_lexer": "ipython3",
   "version": "3.9.12"
  }
 },
 "nbformat": 4,
 "nbformat_minor": 5
}
