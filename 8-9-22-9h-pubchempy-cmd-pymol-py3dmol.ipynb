{
 "cells": [
  {
   "cell_type": "code",
   "execution_count": 1,
   "id": "0d27d9e0",
   "metadata": {},
   "outputs": [
    {
     "data": {
      "text/html": [
       "<style type=\"text/css\">\n",
       "table.dataframe td, table.dataframe th{border: 1px \n",
       "black solid ! important;color:black !important;}\n"
      ],
      "text/plain": [
       "<IPython.core.display.HTML object>"
      ]
     },
     "metadata": {},
     "output_type": "display_data"
    }
   ],
   "source": [
    "%%HTML\n",
    "<style type=\"text/css\">\n",
    "table.dataframe td, table.dataframe th{border: 1px \n",
    "black solid ! important;color:black !important;}"
   ]
  },
  {
   "cell_type": "code",
   "execution_count": 5,
   "id": "24f2e1ab",
   "metadata": {},
   "outputs": [
    {
     "data": {
      "application/3dmoljs_load.v0": "<div id=\"3dmolviewer_16663050876173043\"  style=\"position: relative; width: 300px; height: 300px\">\n        <p id=\"3dmolwarning_16663050876173043\" style=\"background-color:#ffcccc;color:black\">You appear to be running in JupyterLab (or JavaScript failed to load for some other reason).  You need to install the 3dmol extension: <br>\n        <tt>jupyter labextension install jupyterlab_3dmol</tt></p>\n        </div>\n<script>\n\nvar loadScriptAsync = function(uri){\n  return new Promise((resolve, reject) => {\n    var tag = document.createElement('script');\n    tag.src = uri;\n    tag.async = true;\n    tag.onload = () => {\n      resolve();\n    };\n  var firstScriptTag = document.getElementsByTagName('script')[0];\n  firstScriptTag.parentNode.insertBefore(tag, firstScriptTag);\n});\n};\n\nif(typeof $3Dmolpromise === 'undefined') {\n$3Dmolpromise = null;\n  $3Dmolpromise = loadScriptAsync('https://3dmol.csb.pitt.edu/build/3Dmol.js');\n}\n\nvar viewer_16663050876173043 = null;\nvar warn = document.getElementById(\"3dmolwarning_16663050876173043\");\nif(warn) {\n    warn.parentNode.removeChild(warn);\n}\n$3Dmolpromise.then(function() {\nviewer_16663050876173043 = $3Dmol.createViewer($(\"#3dmolviewer_16663050876173043\"),{backgroundColor:\"white\"});\n$3Dmol.download(\"cid:750\", viewer_16663050876173043, {}, function() {\n\tviewer_16663050876173043.setStyle({\"stick\": {\"radius\": 0.05}, \"sphere\": {\"scale\": 0.25}});\n\tviewer_16663050876173043.setHoverable({},true,\"function(atom,viewer,event,container) {\\n                   if(!atom.label) {\\n                    atom.label = viewer.addLabel(atom.resn+\\\":\\\"+atom.atom,{position: atom, backgroundColor: 'mintcream', fontColor:'black'});\\n                   }}\",\"function(atom,viewer) { \\n                   if(atom.label) {\\n                    viewer.removeLabel(atom.label);\\n                    delete atom.label;\\n                   }\\n                }\");\nviewer_16663050876173043.render();\n})\n});\n</script>",
      "text/html": [
       "<div id=\"3dmolviewer_16663050876173043\"  style=\"position: relative; width: 300px; height: 300px\">\n",
       "        <p id=\"3dmolwarning_16663050876173043\" style=\"background-color:#ffcccc;color:black\">You appear to be running in JupyterLab (or JavaScript failed to load for some other reason).  You need to install the 3dmol extension: <br>\n",
       "        <tt>jupyter labextension install jupyterlab_3dmol</tt></p>\n",
       "        </div>\n",
       "<script>\n",
       "\n",
       "var loadScriptAsync = function(uri){\n",
       "  return new Promise((resolve, reject) => {\n",
       "    var tag = document.createElement('script');\n",
       "    tag.src = uri;\n",
       "    tag.async = true;\n",
       "    tag.onload = () => {\n",
       "      resolve();\n",
       "    };\n",
       "  var firstScriptTag = document.getElementsByTagName('script')[0];\n",
       "  firstScriptTag.parentNode.insertBefore(tag, firstScriptTag);\n",
       "});\n",
       "};\n",
       "\n",
       "if(typeof $3Dmolpromise === 'undefined') {\n",
       "$3Dmolpromise = null;\n",
       "  $3Dmolpromise = loadScriptAsync('https://3dmol.csb.pitt.edu/build/3Dmol.js');\n",
       "}\n",
       "\n",
       "var viewer_16663050876173043 = null;\n",
       "var warn = document.getElementById(\"3dmolwarning_16663050876173043\");\n",
       "if(warn) {\n",
       "    warn.parentNode.removeChild(warn);\n",
       "}\n",
       "$3Dmolpromise.then(function() {\n",
       "viewer_16663050876173043 = $3Dmol.createViewer($(\"#3dmolviewer_16663050876173043\"),{backgroundColor:\"white\"});\n",
       "$3Dmol.download(\"cid:750\", viewer_16663050876173043, {}, function() {\n",
       "\tviewer_16663050876173043.setStyle({\"stick\": {\"radius\": 0.05}, \"sphere\": {\"scale\": 0.25}});\n",
       "\tviewer_16663050876173043.setHoverable({},true,\"function(atom,viewer,event,container) {\\n                   if(!atom.label) {\\n                    atom.label = viewer.addLabel(atom.resn+\\\":\\\"+atom.atom,{position: atom, backgroundColor: 'mintcream', fontColor:'black'});\\n                   }}\",\"function(atom,viewer) { \\n                   if(atom.label) {\\n                    viewer.removeLabel(atom.label);\\n                    delete atom.label;\\n                   }\\n                }\");\n",
       "viewer_16663050876173043.render();\n",
       "})\n",
       "});\n",
       "</script>"
      ]
     },
     "metadata": {},
     "output_type": "display_data"
    },
    {
     "data": {
      "text/plain": [
       "<py3Dmol.view at 0x20030d63700>"
      ]
     },
     "execution_count": 5,
     "metadata": {},
     "output_type": "execute_result"
    }
   ],
   "source": [
    "import py3Dmol;import pubchempy as pcp\n",
    "gly=pcp.get_compounds('gly', 'name')[0]\n",
    "x=py3Dmol.view(query='cid:{}'.format(gly.cid), width=300,\n",
    "height=300).setStyle({'stick': {'radius': .05},\n",
    "'sphere': {'scale': 0.25}})\n",
    "x.setHoverable({},True,'''function(atom,viewer,event,container) {\n",
    "                   if(!atom.label) {\n",
    "                    atom.label = viewer.addLabel(atom.resn+\":\"+atom.atom,{position: atom, backgroundColor: 'mintcream', fontColor:'black'});\n",
    "                   }}''',\n",
    "               '''function(atom,viewer) { \n",
    "                   if(atom.label) {\n",
    "                    viewer.removeLabel(atom.label);\n",
    "                    delete atom.label;\n",
    "                   }\n",
    "                }''')   "
   ]
  },
  {
   "cell_type": "code",
   "execution_count": 3,
   "id": "623a2efd",
   "metadata": {},
   "outputs": [
    {
     "data": {
      "text/html": [
       "<div>\n",
       "<style scoped>\n",
       "    .dataframe tbody tr th:only-of-type {\n",
       "        vertical-align: middle;\n",
       "    }\n",
       "\n",
       "    .dataframe tbody tr th {\n",
       "        vertical-align: top;\n",
       "    }\n",
       "\n",
       "    .dataframe thead th {\n",
       "        text-align: right;\n",
       "    }\n",
       "</style>\n",
       "<table border=\"1\" class=\"dataframe\">\n",
       "  <thead>\n",
       "    <tr style=\"text-align: right;\">\n",
       "      <th></th>\n",
       "      <th>iupac_name</th>\n",
       "      <th>molecular_formula</th>\n",
       "      <th>canonical_smiles</th>\n",
       "      <th>inchi</th>\n",
       "    </tr>\n",
       "    <tr>\n",
       "      <th>cid</th>\n",
       "      <th></th>\n",
       "      <th></th>\n",
       "      <th></th>\n",
       "      <th></th>\n",
       "    </tr>\n",
       "  </thead>\n",
       "  <tbody>\n",
       "    <tr>\n",
       "      <th>750</th>\n",
       "      <td>2-aminoacetic acid</td>\n",
       "      <td>C2H5NO2</td>\n",
       "      <td>C(C(=O)O)N</td>\n",
       "      <td>InChI=1S/C2H5NO2/c3-1-2(4)5/h1,3H2,(H,4,5)</td>\n",
       "    </tr>\n",
       "  </tbody>\n",
       "</table>\n",
       "</div>"
      ],
      "text/plain": [
       "             iupac_name molecular_formula canonical_smiles  \\\n",
       "cid                                                          \n",
       "750  2-aminoacetic acid           C2H5NO2       C(C(=O)O)N   \n",
       "\n",
       "                                          inchi  \n",
       "cid                                              \n",
       "750  InChI=1S/C2H5NO2/c3-1-2(4)5/h1,3H2,(H,4,5)  "
      ]
     },
     "execution_count": 3,
     "metadata": {},
     "output_type": "execute_result"
    }
   ],
   "source": [
    "glydf= pcp.get_compounds('GLY', 'name', as_dataframe=True)[:3]\n",
    "glydf[['iupac_name', 'molecular_formula', 'canonical_smiles', 'inchi']]"
   ]
  },
  {
   "cell_type": "code",
   "execution_count": 10,
   "id": "e77a5c86",
   "metadata": {},
   "outputs": [
    {
     "data": {
      "application/3dmoljs_load.v0": "<div id=\"3dmolviewer_16663055719489164\"  style=\"position: relative; width: 300px; height: 300px\">\n        <p id=\"3dmolwarning_16663055719489164\" style=\"background-color:#ffcccc;color:black\">You appear to be running in JupyterLab (or JavaScript failed to load for some other reason).  You need to install the 3dmol extension: <br>\n        <tt>jupyter labextension install jupyterlab_3dmol</tt></p>\n        </div>\n<script>\n\nvar loadScriptAsync = function(uri){\n  return new Promise((resolve, reject) => {\n    var tag = document.createElement('script');\n    tag.src = uri;\n    tag.async = true;\n    tag.onload = () => {\n      resolve();\n    };\n  var firstScriptTag = document.getElementsByTagName('script')[0];\n  firstScriptTag.parentNode.insertBefore(tag, firstScriptTag);\n});\n};\n\nif(typeof $3Dmolpromise === 'undefined') {\n$3Dmolpromise = null;\n  $3Dmolpromise = loadScriptAsync('https://3dmol.csb.pitt.edu/build/3Dmol.js');\n}\n\nvar viewer_16663055719489164 = null;\nvar warn = document.getElementById(\"3dmolwarning_16663055719489164\");\nif(warn) {\n    warn.parentNode.removeChild(warn);\n}\n$3Dmolpromise.then(function() {\nviewer_16663055719489164 = $3Dmol.createViewer($(\"#3dmolviewer_16663055719489164\"),{backgroundColor:\"white\"});\n$3Dmol.download(\"cid:190\", viewer_16663055719489164, {}, function() {\n\tviewer_16663055719489164.setStyle({\"stick\": {\"radius\": 0.05}, \"sphere\": {\"scale\": 0.25}});\n\tviewer_16663055719489164.setHoverable({},true,\"function(atom,viewer,event,container) {\\nif(!atom.label) {atom.label = viewer.addLabel(atom.resn+\\\":\\\"+atom.atom,{position: atom, backgroundColor: 'mintcream', fontColor:'black'});}}\",\"function(atom,viewer){if(atom.label){viewer.removeLabel(atom.label);delete atom.label;}}\");\nviewer_16663055719489164.render();\n})\n});\n</script>",
      "text/html": [
       "<div id=\"3dmolviewer_16663055719489164\"  style=\"position: relative; width: 300px; height: 300px\">\n",
       "        <p id=\"3dmolwarning_16663055719489164\" style=\"background-color:#ffcccc;color:black\">You appear to be running in JupyterLab (or JavaScript failed to load for some other reason).  You need to install the 3dmol extension: <br>\n",
       "        <tt>jupyter labextension install jupyterlab_3dmol</tt></p>\n",
       "        </div>\n",
       "<script>\n",
       "\n",
       "var loadScriptAsync = function(uri){\n",
       "  return new Promise((resolve, reject) => {\n",
       "    var tag = document.createElement('script');\n",
       "    tag.src = uri;\n",
       "    tag.async = true;\n",
       "    tag.onload = () => {\n",
       "      resolve();\n",
       "    };\n",
       "  var firstScriptTag = document.getElementsByTagName('script')[0];\n",
       "  firstScriptTag.parentNode.insertBefore(tag, firstScriptTag);\n",
       "});\n",
       "};\n",
       "\n",
       "if(typeof $3Dmolpromise === 'undefined') {\n",
       "$3Dmolpromise = null;\n",
       "  $3Dmolpromise = loadScriptAsync('https://3dmol.csb.pitt.edu/build/3Dmol.js');\n",
       "}\n",
       "\n",
       "var viewer_16663055719489164 = null;\n",
       "var warn = document.getElementById(\"3dmolwarning_16663055719489164\");\n",
       "if(warn) {\n",
       "    warn.parentNode.removeChild(warn);\n",
       "}\n",
       "$3Dmolpromise.then(function() {\n",
       "viewer_16663055719489164 = $3Dmol.createViewer($(\"#3dmolviewer_16663055719489164\"),{backgroundColor:\"white\"});\n",
       "$3Dmol.download(\"cid:190\", viewer_16663055719489164, {}, function() {\n",
       "\tviewer_16663055719489164.setStyle({\"stick\": {\"radius\": 0.05}, \"sphere\": {\"scale\": 0.25}});\n",
       "\tviewer_16663055719489164.setHoverable({},true,\"function(atom,viewer,event,container) {\\nif(!atom.label) {atom.label = viewer.addLabel(atom.resn+\\\":\\\"+atom.atom,{position: atom, backgroundColor: 'mintcream', fontColor:'black'});}}\",\"function(atom,viewer){if(atom.label){viewer.removeLabel(atom.label);delete atom.label;}}\");\n",
       "viewer_16663055719489164.render();\n",
       "})\n",
       "});\n",
       "</script>"
      ]
     },
     "metadata": {},
     "output_type": "display_data"
    },
    {
     "data": {
      "text/plain": [
       "<py3Dmol.view at 0x2002f623130>"
      ]
     },
     "execution_count": 10,
     "metadata": {},
     "output_type": "execute_result"
    }
   ],
   "source": [
    "ade=pcp.get_compounds('adenine', 'name')[0]\n",
    "ade=py3Dmol.view(query='cid:{}'.format(ade.cid),width=300,height=300)\\\n",
    ".setStyle({'stick':{'radius':.05},'sphere':{'scale':0.25}})\n",
    "ade.setHoverable({},True,'''function(atom,viewer,event,container)\n",
    "{if(!atom.label) {atom.label = viewer.addLabel(atom.resn+\":\"+\\\n",
    "atom.atom,{position: atom, backgroundColor: 'mintcream', \\\n",
    "fontColor:'black'});}}''','''function(atom,viewer){if(atom.label)\\\n",
    "{viewer.removeLabel(atom.label);delete atom.label;}}''')   "
   ]
  },
  {
   "cell_type": "code",
   "execution_count": 15,
   "id": "19490eb6",
   "metadata": {},
   "outputs": [
    {
     "data": {
      "text/html": [
       "<div>\n",
       "<style scoped>\n",
       "    .dataframe tbody tr th:only-of-type {\n",
       "        vertical-align: middle;\n",
       "    }\n",
       "\n",
       "    .dataframe tbody tr th {\n",
       "        vertical-align: top;\n",
       "    }\n",
       "\n",
       "    .dataframe thead th {\n",
       "        text-align: right;\n",
       "    }\n",
       "</style>\n",
       "<table border=\"1\" class=\"dataframe\">\n",
       "  <thead>\n",
       "    <tr style=\"text-align: right;\">\n",
       "      <th></th>\n",
       "      <th>iupac_name</th>\n",
       "      <th>molecular_formula</th>\n",
       "      <th>canonical_smiles</th>\n",
       "    </tr>\n",
       "    <tr>\n",
       "      <th>cid</th>\n",
       "      <th></th>\n",
       "      <th></th>\n",
       "      <th></th>\n",
       "    </tr>\n",
       "  </thead>\n",
       "  <tbody>\n",
       "    <tr>\n",
       "      <th>190</th>\n",
       "      <td>7H-purin-6-amine</td>\n",
       "      <td>C5H5N5</td>\n",
       "      <td>C1=NC2=NC=NC(=C2N1)N</td>\n",
       "    </tr>\n",
       "  </tbody>\n",
       "</table>\n",
       "</div>"
      ],
      "text/plain": [
       "           iupac_name molecular_formula      canonical_smiles\n",
       "cid                                                          \n",
       "190  7H-purin-6-amine            C5H5N5  C1=NC2=NC=NC(=C2N1)N"
      ]
     },
     "execution_count": 15,
     "metadata": {},
     "output_type": "execute_result"
    }
   ],
   "source": [
    "adf= pcp.get_compounds('adenine', 'name', as_dataframe=True)[:3]\n",
    "adf[['iupac_name', 'molecular_formula', 'canonical_smiles']]"
   ]
  },
  {
   "cell_type": "code",
   "execution_count": 11,
   "id": "0d69d189",
   "metadata": {},
   "outputs": [
    {
     "data": {
      "application/3dmoljs_load.v0": "<div id=\"3dmolviewer_166630568101851\"  style=\"position: relative; width: 300px; height: 300px\">\n        <p id=\"3dmolwarning_166630568101851\" style=\"background-color:#ffcccc;color:black\">You appear to be running in JupyterLab (or JavaScript failed to load for some other reason).  You need to install the 3dmol extension: <br>\n        <tt>jupyter labextension install jupyterlab_3dmol</tt></p>\n        </div>\n<script>\n\nvar loadScriptAsync = function(uri){\n  return new Promise((resolve, reject) => {\n    var tag = document.createElement('script');\n    tag.src = uri;\n    tag.async = true;\n    tag.onload = () => {\n      resolve();\n    };\n  var firstScriptTag = document.getElementsByTagName('script')[0];\n  firstScriptTag.parentNode.insertBefore(tag, firstScriptTag);\n});\n};\n\nif(typeof $3Dmolpromise === 'undefined') {\n$3Dmolpromise = null;\n  $3Dmolpromise = loadScriptAsync('https://3dmol.csb.pitt.edu/build/3Dmol.js');\n}\n\nvar viewer_166630568101851 = null;\nvar warn = document.getElementById(\"3dmolwarning_166630568101851\");\nif(warn) {\n    warn.parentNode.removeChild(warn);\n}\n$3Dmolpromise.then(function() {\nviewer_166630568101851 = $3Dmol.createViewer($(\"#3dmolviewer_166630568101851\"),{backgroundColor:\"white\"});\n$3Dmol.download(\"cid:1135\", viewer_166630568101851, {}, function() {\n\tviewer_166630568101851.setStyle({\"stick\": {\"radius\": 0.05}, \"sphere\": {\"scale\": 0.25}});\n\tviewer_166630568101851.setHoverable({},true,\"function(atom,viewer,event,container)\\n{if(!atom.label) {atom.label = viewer.addLabel(atom.resn+\\\":\\\"+atom.atom,{position: atom, backgroundColor: 'mintcream', fontColor:'black'});}}\",\"function(atom,viewer){if(atom.label){viewer.removeLabel(atom.label);delete atom.label;}}\");\nviewer_166630568101851.render();\n})\n});\n</script>",
      "text/html": [
       "<div id=\"3dmolviewer_166630568101851\"  style=\"position: relative; width: 300px; height: 300px\">\n",
       "        <p id=\"3dmolwarning_166630568101851\" style=\"background-color:#ffcccc;color:black\">You appear to be running in JupyterLab (or JavaScript failed to load for some other reason).  You need to install the 3dmol extension: <br>\n",
       "        <tt>jupyter labextension install jupyterlab_3dmol</tt></p>\n",
       "        </div>\n",
       "<script>\n",
       "\n",
       "var loadScriptAsync = function(uri){\n",
       "  return new Promise((resolve, reject) => {\n",
       "    var tag = document.createElement('script');\n",
       "    tag.src = uri;\n",
       "    tag.async = true;\n",
       "    tag.onload = () => {\n",
       "      resolve();\n",
       "    };\n",
       "  var firstScriptTag = document.getElementsByTagName('script')[0];\n",
       "  firstScriptTag.parentNode.insertBefore(tag, firstScriptTag);\n",
       "});\n",
       "};\n",
       "\n",
       "if(typeof $3Dmolpromise === 'undefined') {\n",
       "$3Dmolpromise = null;\n",
       "  $3Dmolpromise = loadScriptAsync('https://3dmol.csb.pitt.edu/build/3Dmol.js');\n",
       "}\n",
       "\n",
       "var viewer_166630568101851 = null;\n",
       "var warn = document.getElementById(\"3dmolwarning_166630568101851\");\n",
       "if(warn) {\n",
       "    warn.parentNode.removeChild(warn);\n",
       "}\n",
       "$3Dmolpromise.then(function() {\n",
       "viewer_166630568101851 = $3Dmol.createViewer($(\"#3dmolviewer_166630568101851\"),{backgroundColor:\"white\"});\n",
       "$3Dmol.download(\"cid:1135\", viewer_166630568101851, {}, function() {\n",
       "\tviewer_166630568101851.setStyle({\"stick\": {\"radius\": 0.05}, \"sphere\": {\"scale\": 0.25}});\n",
       "\tviewer_166630568101851.setHoverable({},true,\"function(atom,viewer,event,container)\\n{if(!atom.label) {atom.label = viewer.addLabel(atom.resn+\\\":\\\"+atom.atom,{position: atom, backgroundColor: 'mintcream', fontColor:'black'});}}\",\"function(atom,viewer){if(atom.label){viewer.removeLabel(atom.label);delete atom.label;}}\");\n",
       "viewer_166630568101851.render();\n",
       "})\n",
       "});\n",
       "</script>"
      ]
     },
     "metadata": {},
     "output_type": "display_data"
    },
    {
     "data": {
      "text/plain": [
       "<py3Dmol.view at 0x20030d07ca0>"
      ]
     },
     "execution_count": 11,
     "metadata": {},
     "output_type": "execute_result"
    }
   ],
   "source": [
    "thy=pcp.get_compounds('thymine', 'name')[0]\n",
    "thy=py3Dmol.view(query='cid:{}'.format(thy.cid),width=300,height=300)\\\n",
    ".setStyle({'stick':{'radius':.05},'sphere':{'scale':0.25}})\n",
    "thy.setHoverable({},True,'''function(atom,viewer,event,container)\n",
    "{if(!atom.label) {atom.label = viewer.addLabel(atom.resn+\":\"+\\\n",
    "atom.atom,{position: atom, backgroundColor: 'mintcream', \\\n",
    "fontColor:'black'});}}''','''function(atom,viewer){if(atom.label)\\\n",
    "{viewer.removeLabel(atom.label);delete atom.label;}}''')   "
   ]
  },
  {
   "cell_type": "code",
   "execution_count": 16,
   "id": "ea468f1e",
   "metadata": {},
   "outputs": [
    {
     "data": {
      "text/html": [
       "<div>\n",
       "<style scoped>\n",
       "    .dataframe tbody tr th:only-of-type {\n",
       "        vertical-align: middle;\n",
       "    }\n",
       "\n",
       "    .dataframe tbody tr th {\n",
       "        vertical-align: top;\n",
       "    }\n",
       "\n",
       "    .dataframe thead th {\n",
       "        text-align: right;\n",
       "    }\n",
       "</style>\n",
       "<table border=\"1\" class=\"dataframe\">\n",
       "  <thead>\n",
       "    <tr style=\"text-align: right;\">\n",
       "      <th></th>\n",
       "      <th>iupac_name</th>\n",
       "      <th>molecular_formula</th>\n",
       "      <th>canonical_smiles</th>\n",
       "    </tr>\n",
       "    <tr>\n",
       "      <th>cid</th>\n",
       "      <th></th>\n",
       "      <th></th>\n",
       "      <th></th>\n",
       "    </tr>\n",
       "  </thead>\n",
       "  <tbody>\n",
       "    <tr>\n",
       "      <th>1135</th>\n",
       "      <td>5-methyl-1H-pyrimidine-2,4-dione</td>\n",
       "      <td>C5H6N2O2</td>\n",
       "      <td>CC1=CNC(=O)NC1=O</td>\n",
       "    </tr>\n",
       "  </tbody>\n",
       "</table>\n",
       "</div>"
      ],
      "text/plain": [
       "                            iupac_name molecular_formula  canonical_smiles\n",
       "cid                                                                       \n",
       "1135  5-methyl-1H-pyrimidine-2,4-dione          C5H6N2O2  CC1=CNC(=O)NC1=O"
      ]
     },
     "execution_count": 16,
     "metadata": {},
     "output_type": "execute_result"
    }
   ],
   "source": [
    "tydf= pcp.get_compounds('thymine', 'name', as_dataframe=True)[:3]\n",
    "tydf[['iupac_name', 'molecular_formula', 'canonical_smiles']]"
   ]
  },
  {
   "cell_type": "code",
   "execution_count": 17,
   "id": "e3460f96",
   "metadata": {},
   "outputs": [
    {
     "data": {
      "application/3dmoljs_load.v0": "<div id=\"3dmolviewer_1666306147694447\"  style=\"position: relative; width: 300px; height: 300px\">\n        <p id=\"3dmolwarning_1666306147694447\" style=\"background-color:#ffcccc;color:black\">You appear to be running in JupyterLab (or JavaScript failed to load for some other reason).  You need to install the 3dmol extension: <br>\n        <tt>jupyter labextension install jupyterlab_3dmol</tt></p>\n        </div>\n<script>\n\nvar loadScriptAsync = function(uri){\n  return new Promise((resolve, reject) => {\n    var tag = document.createElement('script');\n    tag.src = uri;\n    tag.async = true;\n    tag.onload = () => {\n      resolve();\n    };\n  var firstScriptTag = document.getElementsByTagName('script')[0];\n  firstScriptTag.parentNode.insertBefore(tag, firstScriptTag);\n});\n};\n\nif(typeof $3Dmolpromise === 'undefined') {\n$3Dmolpromise = null;\n  $3Dmolpromise = loadScriptAsync('https://3dmol.csb.pitt.edu/build/3Dmol.js');\n}\n\nvar viewer_1666306147694447 = null;\nvar warn = document.getElementById(\"3dmolwarning_1666306147694447\");\nif(warn) {\n    warn.parentNode.removeChild(warn);\n}\n$3Dmolpromise.then(function() {\nviewer_1666306147694447 = $3Dmol.createViewer($(\"#3dmolviewer_1666306147694447\"),{backgroundColor:\"white\"});\n$3Dmol.download(\"cid:597\", viewer_1666306147694447, {}, function() {\n\tviewer_1666306147694447.setStyle({\"stick\": {\"radius\": 0.05}, \"sphere\": {\"scale\": 0.25}});\n\tviewer_1666306147694447.setHoverable({},true,\"function(atom,viewer,event,container)\\n{if(!atom.label) {atom.label = viewer.addLabel(atom.resn+\\\":\\\"+atom.atom,{position: atom, backgroundColor: 'mintcream', fontColor:'black'});}}\",\"function(atom,viewer){if(atom.label){viewer.removeLabel(atom.label);delete atom.label;}}\");\nviewer_1666306147694447.render();\n})\n});\n</script>",
      "text/html": [
       "<div id=\"3dmolviewer_1666306147694447\"  style=\"position: relative; width: 300px; height: 300px\">\n",
       "        <p id=\"3dmolwarning_1666306147694447\" style=\"background-color:#ffcccc;color:black\">You appear to be running in JupyterLab (or JavaScript failed to load for some other reason).  You need to install the 3dmol extension: <br>\n",
       "        <tt>jupyter labextension install jupyterlab_3dmol</tt></p>\n",
       "        </div>\n",
       "<script>\n",
       "\n",
       "var loadScriptAsync = function(uri){\n",
       "  return new Promise((resolve, reject) => {\n",
       "    var tag = document.createElement('script');\n",
       "    tag.src = uri;\n",
       "    tag.async = true;\n",
       "    tag.onload = () => {\n",
       "      resolve();\n",
       "    };\n",
       "  var firstScriptTag = document.getElementsByTagName('script')[0];\n",
       "  firstScriptTag.parentNode.insertBefore(tag, firstScriptTag);\n",
       "});\n",
       "};\n",
       "\n",
       "if(typeof $3Dmolpromise === 'undefined') {\n",
       "$3Dmolpromise = null;\n",
       "  $3Dmolpromise = loadScriptAsync('https://3dmol.csb.pitt.edu/build/3Dmol.js');\n",
       "}\n",
       "\n",
       "var viewer_1666306147694447 = null;\n",
       "var warn = document.getElementById(\"3dmolwarning_1666306147694447\");\n",
       "if(warn) {\n",
       "    warn.parentNode.removeChild(warn);\n",
       "}\n",
       "$3Dmolpromise.then(function() {\n",
       "viewer_1666306147694447 = $3Dmol.createViewer($(\"#3dmolviewer_1666306147694447\"),{backgroundColor:\"white\"});\n",
       "$3Dmol.download(\"cid:597\", viewer_1666306147694447, {}, function() {\n",
       "\tviewer_1666306147694447.setStyle({\"stick\": {\"radius\": 0.05}, \"sphere\": {\"scale\": 0.25}});\n",
       "\tviewer_1666306147694447.setHoverable({},true,\"function(atom,viewer,event,container)\\n{if(!atom.label) {atom.label = viewer.addLabel(atom.resn+\\\":\\\"+atom.atom,{position: atom, backgroundColor: 'mintcream', fontColor:'black'});}}\",\"function(atom,viewer){if(atom.label){viewer.removeLabel(atom.label);delete atom.label;}}\");\n",
       "viewer_1666306147694447.render();\n",
       "})\n",
       "});\n",
       "</script>"
      ]
     },
     "metadata": {},
     "output_type": "display_data"
    },
    {
     "data": {
      "text/plain": [
       "<py3Dmol.view at 0x20034dd9310>"
      ]
     },
     "execution_count": 17,
     "metadata": {},
     "output_type": "execute_result"
    }
   ],
   "source": [
    "cyt=pcp.get_compounds('cytosine', 'name')[0]\n",
    "cyt=py3Dmol.view(query='cid:{}'.format(cyt.cid),width=300,height=300)\\\n",
    ".setStyle({'stick':{'radius':.05},'sphere':{'scale':0.25}})\n",
    "cyt.setHoverable({},True,'''function(atom,viewer,event,container)\n",
    "{if(!atom.label) {atom.label = viewer.addLabel(atom.resn+\":\"+\\\n",
    "atom.atom,{position: atom, backgroundColor: 'mintcream', \\\n",
    "fontColor:'black'});}}''','''function(atom,viewer){if(atom.label)\\\n",
    "{viewer.removeLabel(atom.label);delete atom.label;}}''') "
   ]
  },
  {
   "cell_type": "code",
   "execution_count": 18,
   "id": "a948ac32",
   "metadata": {},
   "outputs": [
    {
     "data": {
      "text/html": [
       "<div>\n",
       "<style scoped>\n",
       "    .dataframe tbody tr th:only-of-type {\n",
       "        vertical-align: middle;\n",
       "    }\n",
       "\n",
       "    .dataframe tbody tr th {\n",
       "        vertical-align: top;\n",
       "    }\n",
       "\n",
       "    .dataframe thead th {\n",
       "        text-align: right;\n",
       "    }\n",
       "</style>\n",
       "<table border=\"1\" class=\"dataframe\">\n",
       "  <thead>\n",
       "    <tr style=\"text-align: right;\">\n",
       "      <th></th>\n",
       "      <th>iupac_name</th>\n",
       "      <th>molecular_formula</th>\n",
       "      <th>canonical_smiles</th>\n",
       "    </tr>\n",
       "    <tr>\n",
       "      <th>cid</th>\n",
       "      <th></th>\n",
       "      <th></th>\n",
       "      <th></th>\n",
       "    </tr>\n",
       "  </thead>\n",
       "  <tbody>\n",
       "    <tr>\n",
       "      <th>597</th>\n",
       "      <td>6-amino-1H-pyrimidin-2-one</td>\n",
       "      <td>C4H5N3O</td>\n",
       "      <td>C1=C(NC(=O)N=C1)N</td>\n",
       "    </tr>\n",
       "  </tbody>\n",
       "</table>\n",
       "</div>"
      ],
      "text/plain": [
       "                     iupac_name molecular_formula   canonical_smiles\n",
       "cid                                                                 \n",
       "597  6-amino-1H-pyrimidin-2-one           C4H5N3O  C1=C(NC(=O)N=C1)N"
      ]
     },
     "execution_count": 18,
     "metadata": {},
     "output_type": "execute_result"
    }
   ],
   "source": [
    "cydf= pcp.get_compounds('cytosine', 'name', as_dataframe=True)[:3]\n",
    "cydf[['iupac_name', 'molecular_formula', 'canonical_smiles']]"
   ]
  },
  {
   "cell_type": "code",
   "execution_count": null,
   "id": "97c2d5a8",
   "metadata": {},
   "outputs": [],
   "source": [
    "cyt=pcp.get_compounds('cytosine', 'name')[0]\n",
    "cyt=py3Dmol.view(query='cid:{}'.format(cyt.cid),width=300,height=300)\\\n",
    ".setStyle({'stick':{'radius':.05},'sphere':{'scale':0.25}})\n",
    "cyt.setHoverable({},True,'''function(atom,viewer,event,container)\n",
    "{if(!atom.label) {atom.label = viewer.addLabel(atom.resn+\":\"+\\\n",
    "atom.atom,{position: atom, backgroundColor: 'mintcream', \\\n",
    "fontColor:'black'});}}''','''function(atom,viewer){if(atom.label)\\\n",
    "{viewer.removeLabel(atom.label);delete atom.label;}}''') "
   ]
  }
 ],
 "metadata": {
  "kernelspec": {
   "display_name": "Python 3 (ipykernel)",
   "language": "python",
   "name": "python3"
  },
  "language_info": {
   "codemirror_mode": {
    "name": "ipython",
    "version": 3
   },
   "file_extension": ".py",
   "mimetype": "text/x-python",
   "name": "python",
   "nbconvert_exporter": "python",
   "pygments_lexer": "ipython3",
   "version": "3.9.12"
  }
 },
 "nbformat": 4,
 "nbformat_minor": 5
}
