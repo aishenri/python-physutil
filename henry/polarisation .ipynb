{
 "cells": [
  {
   "cell_type": "markdown",
   "metadata": {},
   "source": [
    "https://www.faidherbe.org/site/cours/dupuis/actiopt.htm#:~:text=Th%C3%A9orie%20cin%C3%A9matique%20de%20Fresnel%20du,bas%C3%A9e%20sur%20la%20m%C3%A9canique%20quantique."
   ]
  },
  {
   "attachments": {
    "image.png": {
     "image/png": "[encoded data removed]"
    }
   },
   "cell_type": "markdown",
   "metadata": {},
   "source": [
    "![image.png](attachment:image.png)"
   ]
  },
  {
   "cell_type": "markdown",
   "metadata": {},
   "source": [
    "Le vecteur E peut être considéré comme la somme de deux vecteurs EG et ED en phase, de même amplitude et de même fréquence mais tournant en sens inverse.\n",
    "\n",
    "C'est précisemment ce qui se passe pour la lumière : La célérité $\\large c$ est $E_D$, droit\n",
    "\n",
    "J'ai conçu un vecteur chiral $\\large ç$  $E_G$  , gauche. En changeant la formule de Fresnel en $\\alpha=$angle de rotation en degré, $l$ épaisseur du vide traversé , $\\large\\lambda$ longueur d'onde de la lumière ($2 \\pi$) pour la lumière."
   ]
  },
  {
   "cell_type": "code",
   "execution_count": 1,
   "metadata": {},
   "outputs": [],
   "source": [
    "ç=314159265.3;c=299792548"
   ]
  },
  {
   "cell_type": "code",
   "execution_count": 2,
   "metadata": {},
   "outputs": [
    {
     "data": {
      "text/plain": [
       "7.18335865000001e6"
      ]
     },
     "execution_count": 2,
     "metadata": {},
     "output_type": "execute_result"
    }
   ],
   "source": [
    "a=(n(pi)*(ç-c))/(2*n(pi));a"
   ]
  },
  {
   "cell_type": "code",
   "execution_count": 3,
   "metadata": {},
   "outputs": [
    {
     "data": {
      "text/plain": [
       "2680.17884664438"
      ]
     },
     "execution_count": 3,
     "metadata": {},
     "output_type": "execute_result"
    }
   ],
   "source": [
    "sqrt(a)"
   ]
  },
  {
   "cell_type": "markdown",
   "metadata": {},
   "source": [
    "Pour simplifier le problème du pouvoir rotatoire, j'ai découvert que les deux coefficients Eg et Ed, pouvaient être écrit : L inductance C capacitance, ce qui fait que l'effet Cotton peut être traduit en fréquence de résonnance !"
   ]
  },
  {
   "cell_type": "code",
   "execution_count": 4,
   "metadata": {},
   "outputs": [
    {
     "data": {
      "text/html": [
       "<html><script type=\"math/tex; mode=display\">\\newcommand{\\Bold}[1]{\\mathbf{#1}}4.77134515923694 \\times 10^{7}</script></html>"
      ],
      "text/latex": [
       "\\begin{math}\n",
       "\\newcommand{\\Bold}[1]{\\mathbf{#1}}4.77134515923694 \\times 10^{7}\n",
       "\\end{math}"
      ],
      "text/plain": [
       "4.77134515923694e7"
      ]
     },
     "execution_count": 4,
     "metadata": {},
     "output_type": "execute_result"
    }
   ],
   "source": [
    "%display latex \n",
    "L=4E-7*n(pi);v=299792458;C=1/(L*v*v)\n",
    "f=1/(2*n(pi)*sqrt(L*C));f"
   ]
  },
  {
   "cell_type": "code",
   "execution_count": 5,
   "metadata": {},
   "outputs": [
    {
     "data": {
      "text/html": [
       "<html><script type=\"math/tex; mode=display\">\\newcommand{\\Bold}[1]{\\mathbf{#1}}376.730313461771</script></html>"
      ],
      "text/latex": [
       "\\begin{math}\n",
       "\\newcommand{\\Bold}[1]{\\mathbf{#1}}376.730313461771\n",
       "\\end{math}"
      ],
      "text/plain": [
       "376.730313461771"
      ]
     },
     "execution_count": 5,
     "metadata": {},
     "output_type": "execute_result"
    }
   ],
   "source": [
    "Xl=2*n(pi,digits=33)*f*L;Xl"
   ]
  },
  {
   "cell_type": "code",
   "execution_count": 6,
   "metadata": {},
   "outputs": [
    {
     "data": {
      "text/html": [
       "<html><script type=\"math/tex; mode=display\">\\newcommand{\\Bold}[1]{\\mathbf{#1}}376.730313461771</script></html>"
      ],
      "text/latex": [
       "\\begin{math}\n",
       "\\newcommand{\\Bold}[1]{\\mathbf{#1}}376.730313461771\n",
       "\\end{math}"
      ],
      "text/plain": [
       "376.730313461771"
      ]
     },
     "execution_count": 6,
     "metadata": {},
     "output_type": "execute_result"
    }
   ],
   "source": [
    "Xc=1/(2*n(pi,digits=33)*f*C);Xc"
   ]
  },
  {
   "cell_type": "code",
   "execution_count": 7,
   "metadata": {},
   "outputs": [
    {
     "data": {
      "text/html": [
       "<html><script type=\"math/tex; mode=display\">\\newcommand{\\Bold}[1]{\\mathbf{#1}}1.13686837721616 \\times 10^{-13}</script></html>"
      ],
      "text/latex": [
       "\\begin{math}\n",
       "\\newcommand{\\Bold}[1]{\\mathbf{#1}}1.13686837721616 \\times 10^{-13}\n",
       "\\end{math}"
      ],
      "text/plain": [
       "1.13686837721616e-13"
      ]
     },
     "execution_count": 7,
     "metadata": {},
     "output_type": "execute_result"
    }
   ],
   "source": [
    "Xl-Xc"
   ]
  },
  {
   "cell_type": "code",
   "execution_count": 8,
   "metadata": {},
   "outputs": [
    {
     "data": {
      "text/html": [
       "<html><script type=\"math/tex; mode=display\">\\newcommand{\\Bold}[1]{\\mathbf{#1}}-1.13686837721616 \\times 10^{-13}</script></html>"
      ],
      "text/latex": [
       "\\begin{math}\n",
       "\\newcommand{\\Bold}[1]{\\mathbf{#1}}-1.13686837721616 \\times 10^{-13}\n",
       "\\end{math}"
      ],
      "text/plain": [
       "-1.13686837721616e-13"
      ]
     },
     "execution_count": 8,
     "metadata": {},
     "output_type": "execute_result"
    }
   ],
   "source": [
    "Xc-Xl"
   ]
  },
  {
   "cell_type": "code",
   "execution_count": 9,
   "metadata": {},
   "outputs": [
    {
     "data": {
      "text/html": [
       "<html><script type=\"math/tex; mode=display\">\\newcommand{\\Bold}[1]{\\mathbf{#1}}141925.729081004</script></html>"
      ],
      "text/latex": [
       "\\begin{math}\n",
       "\\newcommand{\\Bold}[1]{\\mathbf{#1}}141925.729081004\n",
       "\\end{math}"
      ],
      "text/plain": [
       "141925.729081004"
      ]
     },
     "execution_count": 9,
     "metadata": {},
     "output_type": "execute_result"
    }
   ],
   "source": [
    "Xc*Xl"
   ]
  },
  {
   "cell_type": "code",
   "execution_count": 10,
   "metadata": {},
   "outputs": [
    {
     "data": {
      "text/html": [
       "<html><script type=\"math/tex; mode=display\">\\newcommand{\\Bold}[1]{\\mathbf{#1}}1.00000000000000</script></html>"
      ],
      "text/latex": [
       "\\begin{math}\n",
       "\\newcommand{\\Bold}[1]{\\mathbf{#1}}1.00000000000000\n",
       "\\end{math}"
      ],
      "text/plain": [
       "1.00000000000000"
      ]
     },
     "execution_count": 10,
     "metadata": {},
     "output_type": "execute_result"
    }
   ],
   "source": [
    "Xc/Xl"
   ]
  },
  {
   "cell_type": "code",
   "execution_count": 11,
   "metadata": {},
   "outputs": [
    {
     "data": {
      "text/html": [
       "<html><script type=\"math/tex; mode=display\">\\newcommand{\\Bold}[1]{\\mathbf{#1}}119.916983200000</script></html>"
      ],
      "text/latex": [
       "\\begin{math}\n",
       "\\newcommand{\\Bold}[1]{\\mathbf{#1}}119.916983200000\n",
       "\\end{math}"
      ],
      "text/plain": [
       "119.916983200000"
      ]
     },
     "execution_count": 11,
     "metadata": {},
     "output_type": "execute_result"
    }
   ],
   "source": [
    "Xc/n(pi)"
   ]
  },
  {
   "cell_type": "code",
   "execution_count": 12,
   "metadata": {},
   "outputs": [
    {
     "data": {
      "image/png": "[encoded data removed]",
      "text/plain": [
       "Graphics object consisting of 2 graphics primitives"
      ]
     },
     "metadata": {},
     "output_type": "display_data"
    }
   ],
   "source": [
    "var(\"omega\")\n",
    "R=10;L;C;w=1/(sqrt(L*C));\n",
    "p=plot(abs(1/(1+i*omega*R*C-omega*omega*L*C)),\n",
    "[omega,0,2*w],color=\"darkgreen\");f=w;r=R;c=C;l=L\n",
    "lbl = text(\"$w_r = %.0f rad/s$\" % (f),(0,20),fontsize=10,\n",
    "rgbcolor=\"darkgreen\",horizontal_alignment=\"left\",\n",
    "bounding_box={'boxstyle':'round', 'fc':'w'})\n",
    "show(p+lbl,figsize=4,frame=True,axes=False,\n",
    "gridlines=\"minor\",fontsize=6,gridlinesstyle=dict(color=\"lightsalmon\",\n",
    "linestyle=\"-\",linewidth=\"0.5\"))"
   ]
  },
  {
   "cell_type": "code",
   "execution_count": 13,
   "metadata": {},
   "outputs": [
    {
     "data": {
      "image/png": "[encoded data removed]",
      "text/plain": [
       "Graphics object consisting of 2 graphics primitives"
      ]
     },
     "metadata": {},
     "output_type": "display_data"
    }
   ],
   "source": [
    "var(\"omega\")\n",
    "R=10;L;C;w=1/(sqrt(L*C));\n",
    "p=plot(abs(1/(1+i*omega*R*C-omega*omega*L*C)),\n",
    "[omega,0,2*w],color=\"darkgreen\");f=w;r=R;c=C;l=L\n",
    "lbl = text(\"$w_r = %.0f rad/s$\" % (f),(0,20),fontsize=10,\n",
    "rgbcolor=\"darkgreen\",horizontal_alignment=\"left\",\n",
    "bounding_box={'boxstyle':'round', 'fc':'w'})\n",
    "show(p+lbl,figsize=4,frame=True,axes=False,\n",
    "gridlines=\"minor\",fontsize=6,gridlinesstyle=dict(color=\"lightsalmon\",\n",
    "linestyle=\"-\",linewidth=\"0.5\"))"
   ]
  },
  {
   "cell_type": "code",
   "execution_count": 14,
   "metadata": {},
   "outputs": [
    {
     "data": {
      "image/png": "[encoded data removed]",
      "text/plain": [
       "Graphics object consisting of 2 graphics primitives"
      ]
     },
     "metadata": {},
     "output_type": "display_data"
    }
   ],
   "source": [
    "var(\"omega\")\n",
    "R=0.5;L=0.1;C=1E-3;w=round(1/(sqrt(L*C)),2);\n",
    "p=plot(abs(1/(1+i*omega*R*C-omega*omega*L*C)),\n",
    "       [omega,0,2*w],color=\"darkgreen\")\n",
    "f=round(w,2);r=R;c=C;l=L\n",
    "lbl = text(\"$w_r = %.0f rad/s$\" % f,(12,18),\n",
    "           rgbcolor=\"darkgreen\",\n",
    "           horizontal_alignment=\"left\",\n",
    "           fontsize=10,\n",
    "           bounding_box={'boxstyle':'round',\\\n",
    "                         'fc':'w'})\n",
    "show(p+lbl,figsize=3,frame=True,axes=False,\n",
    "     gridlines=\"minor\",fontsize=6,\n",
    "     gridlinesstyle=dict(color=\"lightsalmon\",\n",
    "                         linestyle=\"-\",alpha=0.4,\n",
    "                         linewidth=\"0.5\"))"
   ]
  },
  {
   "cell_type": "code",
   "execution_count": 15,
   "metadata": {},
   "outputs": [
    {
     "data": {
      "image/png": "[encoded data removed]",
      "text/plain": [
       "Graphics object consisting of 2 graphics primitives"
      ]
     },
     "metadata": {},
     "output_type": "display_data"
    }
   ],
   "source": [
    "var(\"omega\")\n",
    "R=0.5;L=0.1;C=1E-3;w=1/(sqrt(L*C));\n",
    "fr=1/(2*pi*sqrt(L*C))\n",
    "q=plot(abs(1/(1+i*2*pi*omega*R*C\\\n",
    "              -omega*2*pi*omega*2*pi*L*C)),\n",
    "       [omega,0,2*fr],color=\"darkorange\")\n",
    "#f=w;r=R;c=C;l=L\n",
    "lbl = text(\"$f_r = %.0f Hz$\" % (fr),(18,18),\n",
    "           rgbcolor=\"darkgreen\",\n",
    "           horizontal_alignment=\"left\",\n",
    "           fontsize=10,\n",
    "           bounding_box={'boxstyle':'round',\\\n",
    "                         'fc':'w'})\n",
    "show(q+lbl,figsize=3,frame=True,axes=False,\n",
    "     gridlines=\"minor\",fontsize=6,\n",
    "     gridlinesstyle=dict(color=\"lightgreen\",\n",
    "                         linestyle=\"-\",alpha=0.4,\n",
    "                         linewidth=\"0.5\"))"
   ]
  },
  {
   "cell_type": "code",
   "execution_count": 16,
   "metadata": {},
   "outputs": [
    {
     "data": {
      "text/html": [
       "<html><script type=\"math/tex; mode=display\">\\newcommand{\\Bold}[1]{\\mathbf{#1}}1.05456065292690 \\times 10^{-34}</script></html>"
      ],
      "text/latex": [
       "\\begin{math}\n",
       "\\newcommand{\\Bold}[1]{\\mathbf{#1}}1.05456065292690 \\times 10^{-34}\n",
       "\\end{math}"
      ],
      "text/plain": [
       "1.05456065292690e-34"
      ]
     },
     "execution_count": 16,
     "metadata": {},
     "output_type": "execute_result"
    }
   ],
   "source": [
    "h=6.626E-34;hb=h/(2*n(pi));hb"
   ]
  },
  {
   "cell_type": "code",
   "execution_count": 17,
   "metadata": {},
   "outputs": [
    {
     "data": {
      "text/html": [
       "<html><script type=\"math/tex; mode=display\">\\newcommand{\\Bold}[1]{\\mathbf{#1}}89875517873681764</script></html>"
      ],
      "text/latex": [
       "\\begin{math}\n",
       "\\newcommand{\\Bold}[1]{\\mathbf{#1}}89875517873681764\n",
       "\\end{math}"
      ],
      "text/plain": [
       "89875517873681764"
      ]
     },
     "execution_count": 17,
     "metadata": {},
     "output_type": "execute_result"
    }
   ],
   "source": [
    "c=299792458;cc=c^2;cc"
   ]
  },
  {
   "cell_type": "code",
   "execution_count": 30,
   "metadata": {},
   "outputs": [],
   "source": [
    "f=(c/(2*n(pi))/100000)"
   ]
  },
  {
   "cell_type": "code",
   "execution_count": 31,
   "metadata": {},
   "outputs": [
    {
     "data": {
      "text/html": [
       "<html><script type=\"math/tex; mode=display\">\\newcommand{\\Bold}[1]{\\mathbf{#1}}3.51763570025133 \\times 10^{-48}</script></html>"
      ],
      "text/latex": [
       "\\begin{math}\n",
       "\\newcommand{\\Bold}[1]{\\mathbf{#1}}3.51763570025133 \\times 10^{-48}\n",
       "\\end{math}"
      ],
      "text/plain": [
       "3.51763570025133e-48"
      ]
     },
     "execution_count": 31,
     "metadata": {},
     "output_type": "execute_result"
    }
   ],
   "source": [
    "(h*f)/cc"
   ]
  },
  {
   "cell_type": "code",
   "execution_count": 34,
   "metadata": {},
   "outputs": [
    {
     "data": {
      "image/png": "[encoded data removed]",
      "text/plain": [
       "Graphics object consisting of 2 graphics primitives"
      ]
     },
     "metadata": {},
     "output_type": "display_data"
    }
   ],
   "source": [
    "var(\"omega\")\n",
    "R=0;L;C;fr=f\n",
    "#R=0.5;L=0.1;C=1E-3;w=1/(sqrt(L*C));\n",
    "#fr=1/(2*pi*sqrt(L*C))\n",
    "q=plot(abs(1/(1+i*2*pi*omega*R*C\\\n",
    "              -omega*2*pi*omega*2*pi*L*C)),\n",
    "       [omega,0,2*fr],color=\"darkorange\")\n",
    "#f=w;r=R;c=C;l=L\n",
    "lbl = text(\"$f_r = %.0f MHz$\" % (fr),(10,10),\n",
    "           rgbcolor=\"darkgreen\",\n",
    "           horizontal_alignment=\"left\",\n",
    "           fontsize=10,\n",
    "           bounding_box={'boxstyle':'round',\\\n",
    "                         'fc':'w'})\n",
    "show(q+lbl,figsize=3,frame=True,axes=False,\n",
    "     gridlines=\"minor\",fontsize=6,\n",
    "     gridlinesstyle=dict(color=\"lightgreen\",\n",
    "                         linestyle=\"-\",alpha=0.4,\n",
    "                         linewidth=\"0.5\"))"
   ]
  },
  {
   "cell_type": "code",
   "execution_count": null,
   "metadata": {},
   "outputs": [],
   "source": []
  },
  {
   "cell_type": "code",
   "execution_count": null,
   "metadata": {},
   "outputs": [],
   "source": []
  }
 ],
 "metadata": {
  "kernelspec": {
   "display_name": "SageMath 9.2",
   "language": "sage",
   "name": "sagemath"
  },
  "language_info": {
   "codemirror_mode": {
    "name": "ipython",
    "version": 3
   },
   "file_extension": ".py",
   "mimetype": "text/x-python",
   "name": "python",
   "nbconvert_exporter": "python",
   "pygments_lexer": "ipython3",
   "version": "3.7.7"
  }
 },
 "nbformat": 4,
 "nbformat_minor": 4
}
